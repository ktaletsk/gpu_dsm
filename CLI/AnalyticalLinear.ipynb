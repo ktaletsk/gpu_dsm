{
 "cells": [
  {
   "cell_type": "markdown",
   "metadata": {},
   "source": [
    "Universal DSM prediction using a three-mode BSW (6) with the parameters {$\\alpha_1$, $\\alpha_2$, $\\alpha_3$} and {$\\tau_1$, $\\tau_2$, $\\tau_3$, $\\tau_4$} as functions of $N_c$ only."
   ]
  },
  {
   "cell_type": "code",
   "execution_count": null,
   "metadata": {
    "collapsed": true
   },
   "outputs": [],
   "source": [
    "from mpmath import *\n",
    "import numpy as np\n",
    "import matplotlib.pyplot as plt\n",
    "mp.dps = 25; mp.pretty = True\n",
    "from scipy.interpolate import interp1d\n",
    "from scipy.optimize import broyden1\n",
    "from IPython.display import Markdown"
   ]
  },
  {
   "cell_type": "code",
   "execution_count": null,
   "metadata": {
    "collapsed": true
   },
   "outputs": [],
   "source": [
    "filename = 'Gs_PS_206_mono.dat'\n",
    "Mw = 206000\n",
    "T = 150\n",
    "rho = 0.9\n",
    "MK = 720"
   ]
  },
  {
   "cell_type": "code",
   "execution_count": null,
   "metadata": {
    "collapsed": true
   },
   "outputs": [],
   "source": [
    "def supp_prod(tauv, alpha, i):\n",
    "    result = 1\n",
    "    for j in range (1, i+1):\n",
    "        result *= tauv[j]**(alpha[j - 1] - alpha[j])\n",
    "    return result\n",
    "\n",
    "def GSBSW(omega, alpha, tauv, n, G0):\n",
    "    sum1 = 0\n",
    "    for i in range(0, n):\n",
    "        sum1 += gamma(1 + alpha[i])*(tauv[i + 1]**(1 + alpha[i])*hyp2f1(1, 1 + alpha[i], 2 + alpha[i], -j*tauv[i + 1]*omega)/gamma(2 + alpha[i]) - tauv[i]**(1 + alpha[i])*hyp2f1(1, 1 + alpha[i], 2 + alpha[i], -j*tauv[i]*omega)/gamma(2 + alpha[i]))*supp_prod(tauv, alpha, i)\n",
    "    sum2 = 0\n",
    "    for i in range(0, n):\n",
    "        sum2 += (tauv[i + 1]**alpha[i] - tauv[i]**alpha[i])/alpha[i]*supp_prod(tauv, alpha, i)\n",
    "    result =j*omega*sum1/sum2*G0\n",
    "    return (re(result),im(result))\n",
    "\n",
    "def GsCFSM(omega, Nc):\n",
    "    n=3\n",
    "    alpha1 = (-0.0005, -0.0205)\n",
    "    alpha2 = (0.00029, 0.109957)\n",
    "    alpha3 = (17.69589, 1.04026, -0.00095677)\n",
    "    tau1 = (0.6288876, 0.119458)\n",
    "    tau2 = (1.52508156, 0.02996758796795)\n",
    "    tau3 = (3.110954, 0.022615)\n",
    "    tau4 = (3.4840295, 0.0142809)\n",
    "    alpha = (alpha1[0]*Nc + alpha1[1], alpha2[0]*Nc + alpha2[1], alpha3[0]/Nc + alpha3[1] + alpha3[2]*Nc)\n",
    "    tauv = (tau1[1]*Nc**tau1[0], tau2[1]*Nc**tau2[0], tau3[1]*Nc**tau3[0], tau4[1]*Nc**tau4[0])\n",
    "    return GSBSW(omega, alpha, tauv, n, 1)\n",
    "\n",
    "def GsR(omega):\n",
    "    n=3\n",
    "    alpha = (0.64635, -0.4959, -1.2716)\n",
    "    tauv = (6.313268381616272e-9, 2.181509372282138e-7, 0.797317365925168,  18.201382525250114)\n",
    "    GR = 1942.29;\n",
    "    return GSBSW(omega, alpha, tauv, n, GR)\n",
    "\n",
    "#Vectorize functions\n",
    "GsCFSM_vec=np.vectorize(GsCFSM, excluded=['Nc'])\n",
    "GsR_vec=np.vectorize(GsR)\n",
    "\n",
    "#Open experimental data\n",
    "with open(filename) as f:\n",
    "    lines = f.readlines()\n",
    "    t = np.array([float(line.split()[0]) for line in lines])\n",
    "    Gp = np.array([float(line.split()[1]) for line in lines])\n",
    "    Gdp = np.array([float(line.split()[2]) for line in lines])"
   ]
  },
  {
   "cell_type": "code",
   "execution_count": null,
   "metadata": {
    "collapsed": true
   },
   "outputs": [],
   "source": [
    "fp = interp1d(t, Gp)\n",
    "fdp = interp1d(t, Gdp)\n",
    "ninterp=10000\n",
    "xinterprange=10**np.linspace(np.log10(t[0]), np.log10(t[-1]), ninterp)[1:-2]\n",
    "tand = fp(xinterprange)/fdp(xinterprange)\n",
    "sol = np.abs(tand-1).argmin()\n",
    "lfx = xinterprange[sol]\n",
    "Gc = fp(xinterprange)[sol]"
   ]
  },
  {
   "cell_type": "code",
   "execution_count": null,
   "metadata": {},
   "outputs": [],
   "source": [
    "fig2 = plt.figure(figsize=(16, 6))\n",
    "\n",
    "ax1 = fig2.add_subplot(121)\n",
    "\n",
    "ax1.set_title(\"Interpolated modulus data\")\n",
    "ax1.set_xlabel(r'$\\omega\\tau_c$')\n",
    "ax1.set_ylabel(r'$G*$')\n",
    "\n",
    "ax1.plot(xinterprange,fp(xinterprange), c='r', label=r'$G^\\prime$')\n",
    "ax1.plot(xinterprange,fdp(xinterprange), c='r', label=r'$G^{\\prime\\prime}$')\n",
    "\n",
    "leg = ax1.legend()\n",
    "ax1.set_xscale('log')\n",
    "ax1.set_yscale('log')\n",
    "\n",
    "ax2 = fig2.add_subplot(122)\n",
    "\n",
    "ax2.set_title(r'$\\tan\\,\\delta$')\n",
    "ax2.set_xlabel(r'$\\omega\\tau_c$')\n",
    "ax2.set_ylabel(r'$\\tan\\,\\delta$')\n",
    "\n",
    "ax2.plot(xinterprange,tand, c='r', label=r'$G^\\prime$')\n",
    "\n",
    "ax2.set_xscale('log')\n",
    "ax2.set_yscale('log')\n",
    "\n",
    "plt.show()"
   ]
  },
  {
   "cell_type": "code",
   "execution_count": null,
   "metadata": {
    "collapsed": true
   },
   "outputs": [],
   "source": [
    "R=8.3145e3\n",
    "\n",
    "def F(Ncv):\n",
    "    return Mw/(rho*R*(273.15+T))*Gc/1e3/(0.5*(Ncv-3))-(GxGN0[0]+GxGN0[1]/Ncv+GxGN0[2]/Ncv**2)/(GxGN0[3]+GxGN0[4]/Ncv+GxGN0[5]/Ncv**2)\n",
    "\n",
    "GxGN0 = (9.191488, 2336.3116, 14232.0515, 33.81303697, 13102.47993, 1068.7744)\n",
    "solution=broyden1(F, 10, f_tol=1e-16)\n",
    "if solution>0:\n",
    "    Nc = float(solution)\n",
    "    tauc = 151.148/(lfx*Nc**3.5)\n",
    "    beta = Mw/(0.56*Nc*MK)-1\n",
    "    tauk = tauc / (0.265 * beta**(8.0/3.0))\n",
    "    NK = Mw/MK"
   ]
  },
  {
   "cell_type": "code",
   "execution_count": null,
   "metadata": {
    "scrolled": false
   },
   "outputs": [],
   "source": [
    "npoints=1000\n",
    "xrange=10**(-3+(np.array(range(npoints), float) + 1.0)/npoints*5)\n",
    "CFSM_d=GsCFSM_vec(xrange*tauc, Nc)\n",
    "R_d=GsR_vec(xrange*tauk*beta**2)\n",
    "Gp_calc=rho*R*(T + 273.15)/Mw*(0.5*(Nc - 3)*CFSM_d[0]+(NK-beta)/(beta+1)*R_d[0])\n",
    "Gdp_calc=rho*R*(T + 273.15)/Mw*(0.5*(Nc - 3)*CFSM_d[1]+(NK-beta)/(beta+1)*R_d[1])\n",
    "\n",
    "fig = plt.figure(figsize=(8, 6))\n",
    "\n",
    "ax1 = fig.add_subplot(111)\n",
    "\n",
    "# ax1.set_title(\"Entanglement lifetime distribution\")\n",
    "ax1.set_xlabel(r'$t/\\tau_c$')\n",
    "ax1.set_ylabel(r'$G*$, kPa')\n",
    "\n",
    "ax1.scatter(t,Gp/1e3, c='r', label=r'$G^\\prime$')\n",
    "ax1.scatter(t,Gdp/1e3, c='r', label=r'$G^{\\prime\\prime}$')\n",
    "ax1.plot(xrange,Gp_calc, c='g', label=r'$G_{CFSM}^\\prime(t)$')\n",
    "ax1.plot(xrange,Gdp_calc, c='g', label=r'$G_{CFSM}^{\\prime\\prime(t)}$')\n",
    "\n",
    "leg = ax1.legend()\n",
    "ax1.set_xscale('log')\n",
    "ax1.set_yscale('log')\n",
    "\n",
    "plt.show()\n",
    "\n",
    "Markdown(\"# Title\")\n",
    "Markdown(\"\"\"\n",
    "$N_c={s1}$\\n\n",
    "$\\\\tau_c={s2}$\\n\n",
    "$\\\\beta={s3}$\\n\n",
    "$\\\\tau_k={s4}$\\n\n",
    "$N_K={s5}$\n",
    "\"\"\".format(s1=Nc, s2=tauc, s3=beta, s4=tauk, s5=NK))"
   ]
  },
  {
   "cell_type": "code",
   "execution_count": null,
   "metadata": {
    "collapsed": true
   },
   "outputs": [],
   "source": []
  }
 ],
 "metadata": {
  "kernelspec": {
   "display_name": "anaconda_kernel",
   "language": "python",
   "name": "anaconda_kernel"
  },
  "language_info": {
   "codemirror_mode": {
    "name": "ipython",
    "version": 2
   },
   "file_extension": ".py",
   "mimetype": "text/x-python",
   "name": "python",
   "nbconvert_exporter": "python",
   "pygments_lexer": "ipython2",
   "version": "2.7.14"
  }
 },
 "nbformat": 4,
 "nbformat_minor": 1
}
