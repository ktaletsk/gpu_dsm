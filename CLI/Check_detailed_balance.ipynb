{
 "cells": [
  {
   "cell_type": "code",
   "execution_count": 284,
   "metadata": {
    "collapsed": false
   },
   "outputs": [
   ],
   "source": [
    "import numpy as np\n",
    "import matplotlib.pyplot as plt"
   ]
  },
  {
   "cell_type": "code",
   "execution_count": 291,
   "metadata": {
    "collapsed": false
   },
   "outputs": [
   ],
   "source": [
    "!./gpu_DSM -distr"
   ]
  },
  {
   "cell_type": "code",
   "execution_count": 293,
   "metadata": {
    "collapsed": false
   },
   "outputs": [
   ],
   "source": [
    "with open('distr_Z_initial_arm_1.dat') as f:\n",
    "    lines = f.readlines()\n",
    "    Z1 = np.array([float(line.split()[0]) for line in lines])\n",
    "    P1 = np.array([float(line.split()[1]) for line in lines])\n",
    "# with open('distr_Z_initial_arm_2.dat') as f:\n",
    "#     lines = f.readlines()\n",
    "#     Z2 = np.array([float(line.split()[0]) for line in lines])\n",
    "#     P2 = np.array([float(line.split()[1]) for line in lines])\n",
    "# with open('distr_Z_initial_arm_3.dat') as f:\n",
    "#     lines = f.readlines()\n",
    "#     Z3 = np.array([float(line.split()[0]) for line in lines])\n",
    "#     P3 = np.array([float(line.split()[1]) for line in lines])\n",
    "with open('distr_Z_arm_1.dat') as f:\n",
    "    lines = f.readlines()\n",
    "    Z4 = np.array([float(line.split()[0]) for line in lines])\n",
    "    P4 = np.array([float(line.split()[1]) for line in lines])\n",
    "# with open('distr_Z_arm_2.dat') as f:\n",
    "#     lines = f.readlines()\n",
    "#     Z5 = np.array([float(line.split()[0]) for line in lines])\n",
    "#     P5 = np.array([float(line.split()[1]) for line in lines])\n",
    "# with open('distr_Z_arm_3.dat') as f:\n",
    "#     lines = f.readlines()\n",
    "#     Z6 = np.array([float(line.split()[0]) for line in lines])\n",
    "#     P6 = np.array([float(line.split()[1]) for line in lines])"
   ]
  },
  {
   "cell_type": "code",
   "execution_count": 294,
   "metadata": {
    "collapsed": false
   },
   "outputs": [
   ],
   "source": [
    "fig = plt.figure(figsize=(12, 8))\n",
    "\n",
    "ax1 = fig.add_subplot(111)\n",
    "\n",
    "ax1.set_title(\"Entanglement lifetime distribution\")\n",
    "ax1.set_xlabel(r'$t/\\tau_c$')\n",
    "ax1.set_ylabel(r'$G(t)$')\n",
    "#plt.xlim(xmin=1, xmax=1e6)\n",
    "ax1.plot(Z1,P1, marker='o', label=r'Initial')\n",
    "# ax1.plot(Z1,P1, marker='o', label=r'Initial (Arm 1)')\n",
    "# ax1.plot(Z2,P2, marker='o', label=r'Initial (Arm 2)')\n",
    "# ax1.plot(Z3,P3, marker='o', label=r'Initial (Arm 3)')\n",
    "ax1.plot(Z4,P4, marker='o', label=r'Final')\n",
    "# ax1.plot(Z4,P4, marker='o', label=r'Final (Arm 1)')\n",
    "# ax1.plot(Z5,P5, marker='o', label=r'Final (Arm 2)')\n",
    "# ax1.plot(Z6,P6, marker='o', label=r'Final (Arm 3)')\n",
    "\n",
    "leg = ax1.legend()\n",
    "#ax1.set_xscale('log')\n",
    "#ax1.set_yscale('log')\n",
    "\n",
    "plt.show()"
   ]
  },
  {
   "cell_type": "code",
   "execution_count": 0,
   "metadata": {
    "collapsed": false
   },
   "outputs": [
   ],
   "source": [
   ]
  }
 ],
 "metadata": {
  "kernelspec": {
   "display_name": "anaconda_kernel",
   "language": "python",
   "name": "anaconda_kernel"
  },
  "language_info": {
   "codemirror_mode": {
    "name": "ipython",
    "version": 2
   },
   "file_extension": ".py",
   "mimetype": "text/x-python",
   "name": "python",
   "nbconvert_exporter": "python",
   "pygments_lexer": "ipython2",
   "version": "2.7.14"
  }
 },
 "nbformat": 4,
 "nbformat_minor": 0
}