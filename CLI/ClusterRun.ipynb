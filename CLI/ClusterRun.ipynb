{
 "cells": [
  {
   "cell_type": "markdown",
   "metadata": {
    "collapsed": false
   },
   "source": [
    "# IPython interface for running GPU DSM on cluster"
   ]
  },
  {
   "cell_type": "code",
   "execution_count": 77,
   "metadata": {
    "collapsed": false
   },
   "outputs": [
   ],
   "source": [
    "from dsm_tools import ssh_init, job_start, jobs_done, job_transfer_clean, uuid, os, server, username, password\n",
    "from fdt_fit import fdt_fit"
   ]
  },
  {
   "cell_type": "markdown",
   "metadata": {
    "collapsed": false
   },
   "source": [
    "** Choose input parameters for GPU DSM **"
   ]
  },
  {
   "cell_type": "code",
   "execution_count": 33,
   "metadata": {
    "collapsed": false
   },
   "outputs": [
   ],
   "source": [
    "class Calculation:\n",
    "    #Input parameters\n",
    "    beta = 1\n",
    "    nChains = 5000\n",
    "    velocityGradient = (0.0, 0.0, 0.0, 0.0, 0.0, 0.0, 0.0, 0.0, 0.0)\n",
    "    CDtoggle = 0\n",
    "    PDtoggle = 0\n",
    "    calcMode = 1\n",
    "    timeStep = 1\n",
    "    simTime = 10000\n",
    "    token = None #folder name\n",
    "    ssh = None #storing Paramiko SSH object\n",
    "    jobIds = None #array of job IDs on cluster\n",
    "    jobStatus = 0\n",
    "    #Calculation options (number of GPU)\n",
    "\n",
    "    #Function to generate input file\n",
    "    def generate_token(self):\n",
    "        self.token = str(uuid.uuid4())\n",
    "        return\n",
    "\n",
    "    #Function to start calculation on cluster\n",
    "    def calc(self):\n",
    "        self.ssh=ssh_init()\n",
    "        self.jobIds = job_start(self.ssh, self.token)\n",
    "        self.jobStatus = 1\n",
    "        return\n",
    "\n",
    "    #Function to check the status of calculation\n",
    "    def check_self(self):\n",
    "        if not self.ssh:\n",
    "            self.ssh=ssh_init()\n",
    "        if jobs_done(self.ssh, self.jobIds):\n",
    "            print('Calculation is done')\n",
    "            job_transfer_clean(self.ssh, self.token)\n",
    "        else:\n",
    "            print('Still running, check back later')\n",
    "\n",
    "    #Function to run f_d(t)\n",
    "\n",
    "    #Initialize object of class\n",
    "    def __init__(self):\n",
    "        self.generate_token()\n",
    "        if not os.path.exists(self.token):\n",
    "            os.makedirs(self.token)\n",
    "        self.generate_input()\n",
    "\n",
    "\n",
    "class CalculationStar(Calculation):\n",
    "    #Type of chain\n",
    "    architecture = 'star'\n",
    "    nArms = 3\n",
    "    nkArms = [10, 10, 10]\n",
    "\n",
    "    def generate_input(self):\n",
    "        file = open(self.token + \"/input.dat\",\"w\")\n",
    "\n",
    "        file.write(str(self.beta)+'\\n')\n",
    "        file.write(self.architecture+'\\n')\n",
    "        file.write(str(self.nArms)+'\\n')\n",
    "        file.write(\" \".join(map(str,self.nkArms)) + '\\n')\n",
    "        file.write(str(self.nChains)+'\\n')\n",
    "        file.write(\" \".join(map(str,self.velocityGradient)) + '\\n')\n",
    "        file.write(str(self.CDtoggle)+'\\n')\n",
    "        file.write(str(self.PDtoggle)+'\\n')\n",
    "        file.write(str(self.calcMode)+'\\n')\n",
    "        file.write(str(self.timeStep)+'\\n')\n",
    "        file.write(str(self.simTime))\n",
    "\n",
    "        file.close()\n",
    "\n",
    "class CalculationLinear(Calculation):\n",
    "    #Type of chain\n",
    "    architecture = 'linear'\n",
    "    nk = 10\n",
    "\n",
    "    def generate_input(self):\n",
    "        file = open(self.token + \"/input.dat\",\"w\")\n",
    "\n",
    "        file.write(str(self.beta)+'\\n')\n",
    "        file.write(self.architecture+'\\n')\n",
    "        file.write(str(self.nk)+'\\n')\n",
    "        file.write(str(self.nChains)+'\\n')\n",
    "        file.write(\" \".join(map(str,self.velocityGradient)) + '\\n')\n",
    "        file.write(str(self.CDtoggle)+'\\n')\n",
    "        file.write(str(self.PDtoggle)+'\\n')\n",
    "        file.write(str(self.calcMode)+'\\n')\n",
    "        file.write(str(self.timeStep)+'\\n')\n",
    "        file.write(str(self.simTime))\n",
    "\n",
    "        file.close()"
   ]
  },
  {
   "cell_type": "code",
   "execution_count": 34,
   "metadata": {
    "collapsed": false
   },
   "outputs": [
   ],
   "source": [
    "x = CalculationLinear()"
   ]
  },
  {
   "cell_type": "code",
   "execution_count": 35,
   "metadata": {
    "collapsed": false
   },
   "outputs": [
   ],
   "source": [
    "%%capture\n",
    "x.calc()"
   ]
  },
  {
   "cell_type": "code",
   "execution_count": 37,
   "metadata": {
    "collapsed": false,
    "scrolled": true
   },
   "outputs": [
   ],
   "source": [
    "x.check_self()"
   ]
  },
  {
   "cell_type": "code",
   "execution_count": 43,
   "metadata": {
    "collapsed": false
   },
   "outputs": [
   ],
   "source": [
    "x.token"
   ]
  },
  {
   "cell_type": "code",
   "execution_count": 44,
   "metadata": {
    "collapsed": false
   },
   "outputs": [
   ],
   "source": [
    "cd cf074bc9-9550-49a4-bb66-00ef825dff66"
   ]
  },
  {
   "cell_type": "code",
   "execution_count": 78,
   "metadata": {
    "collapsed": false
   },
   "outputs": [
   ],
   "source": [
    "fdt_fit()"
   ]
  },
  {
   "cell_type": "code",
   "execution_count": 30,
   "metadata": {
    "collapsed": false
   },
   "outputs": [
   ],
   "source": [
    "beta = 1\n",
    "architecture = 'linear'\n",
    "#nArms = 3\n",
    "nkArms = [45]\n",
    "nChains = 5000\n",
    "velocityGradient = (0.0, 0.0, 0.0, 0.0, 0.0, 0.0, 0.0, 0.0, 0.0)\n",
    "CDtoggle = 0\n",
    "PDtoggle = 0\n",
    "calcMode = 1\n",
    "timeStep = 1\n",
    "simTime = 100000"
   ]
  },
  {
   "cell_type": "code",
   "execution_count": 0,
   "metadata": {
    "collapsed": false
   },
   "outputs": [
   ],
   "source": [
   ]
  }
 ],
 "metadata": {
  "kernelspec": {
   "display_name": "anaconda_kernel",
   "language": "python",
   "name": "anaconda_kernel"
  },
  "language_info": {
   "codemirror_mode": {
    "name": "ipython",
    "version": 2
   },
   "file_extension": ".py",
   "mimetype": "text/x-python",
   "name": "python",
   "nbconvert_exporter": "python",
   "pygments_lexer": "ipython2",
   "version": "2.7.14"
  }
 },
 "nbformat": 4,
 "nbformat_minor": 0
}