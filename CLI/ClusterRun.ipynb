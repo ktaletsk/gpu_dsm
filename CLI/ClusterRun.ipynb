{
 "cells": [
  {
   "cell_type": "markdown",
   "metadata": {
    "collapsed": false
   },
   "source": [
    "# IPython interface for running GPU DSM + fitting on cluster"
   ]
  },
  {
   "cell_type": "code",
   "execution_count": 8,
   "metadata": {
    "collapsed": false
   },
   "outputs": [
   ],
   "source": [
    "from dsm_tools import ssh_init, job_start, job_done, job_transfer_clean, uuid, os, server, username, password, Calculation, CalculationStar, CalculationLinear\n",
    "from fdt_fit import fdt_fit, fdt, fdtvec\n",
    "import numpy as np\n",
    "import matplotlib.pyplot as plt\n",
    "import pickle"
   ]
  },
  {
   "cell_type": "code",
   "execution_count": 31,
   "metadata": {
    "collapsed": false
   },
   "outputs": [
   ],
   "source": [
    "def save(calc, filename):\n",
    "    f = open(filename, 'wb')\n",
    "    pickle.dump(calc, f, protocol=pickle.HIGHEST_PROTOCOL)\n",
    "    f.close()\n",
    "def load(filename):\n",
    "    f = open(filename, 'rb')\n",
    "    calc = pickle.load(f)\n",
    "    f.close()\n",
    "    return calc"
   ]
  },
  {
   "cell_type": "code",
   "execution_count": 2,
   "metadata": {
    "collapsed": false
   },
   "outputs": [
   ],
   "source": [
    "class IterationChain():\n",
    "    def add(self, calcs):\n",
    "        self.chain.append(calcs)\n",
    "\n",
    "    def __init__(self, w):\n",
    "        self.w = w\n",
    "        self.chain = []"
   ]
  },
  {
   "cell_type": "code",
   "execution_count": 3,
   "metadata": {
    "collapsed": false
   },
   "outputs": [
   ],
   "source": [
    "def mix_spectra(w, x, y):\n",
    "    xWeight = w #Fraction of linear\n",
    "    yWeight = 1 - w\n",
    "\n",
    "    #Calculate p_eq of the mix\n",
    "    mix_lambdaArr = np.append(x.lambdaArr, y.lambdaArr)\n",
    "    mix_gArr = np.append(np.multiply(x.gArr, x.lambdaArr)/np.dot(x.gArr, x.lambdaArr) * xWeight, np.multiply(y.gArr, y.lambdaArr)/np.dot(y.gArr, y.lambdaArr) * yWeight)\n",
    "\n",
    "    #Sort by relaxation times tau\n",
    "    sort = np.argsort(mix_lambdaArr)\n",
    "    mix_lambdaArr = mix_lambdaArr[sort]\n",
    "    mix_gArr = mix_gArr[sort]\n",
    "\n",
    "    return mix_lambdaArr, np.divide(mix_gArr,mix_lambdaArr)/np.sum(np.divide(mix_gArr,mix_lambdaArr))"
   ]
  },
  {
   "cell_type": "code",
   "execution_count": 4,
   "metadata": {
    "collapsed": false
   },
   "outputs": [
   ],
   "source": [
    "nChains = 5000\n",
    "CDtoggle = 0\n",
    "simTime = 1000000\n",
    "num_gpu = 4\n",
    "\n",
    "#Linear chain\n",
    "nk = 50\n",
    "\n",
    "#Star chain\n",
    "nArms = 3\n",
    "nkArms = [6, 6, 6]"
   ]
  },
  {
   "cell_type": "code",
   "execution_count": 5,
   "metadata": {
    "collapsed": false
   },
   "outputs": [
   ],
   "source": [
    "x, y = CalculationLinear(nk, 0, nChains, num_gpu, simTime), CalculationStar(nArms, nkArms, 0, nChains, num_gpu, simTime)"
   ]
  },
  {
   "cell_type": "code",
   "execution_count": 26,
   "metadata": {
    "collapsed": false
   },
   "outputs": [
   ],
   "source": [
    "save(x, 'x.pkl')"
   ]
  },
  {
   "cell_type": "code",
   "execution_count": 29,
   "metadata": {
    "collapsed": false
   },
   "outputs": [
   ],
   "source": [
    "xx = load('x.pkl')"
   ]
  },
  {
   "cell_type": "code",
   "execution_count": 0,
   "metadata": {
    "collapsed": false
   },
   "outputs": [
   ],
   "source": [
    "weights = [1, 0.9, 0.8, 0.7, 0.6, 0.5, 0.4, 0.3, 0.2, 0.1, 0] #weight fraction of linear chains in star-linear blend\n",
    "iterations = map(lambda x: IterationChain(x),weights)\n",
    "\n",
    "#Create iteration chains for different blends\n",
    "iterations[0].add((CalculationLinear(nk, 1, nChains, num_gpu, simTime)))\n",
    "[i.add((CalculationLinear(nk, 1, nChains, num_gpu, simTime), CalculationStar(nArms, nkArms, 1, nChains, num_gpu, simTime))) for i in iterations[1:-1]]\n",
    "iterations[-1].add((CalculationStar(nArms, nkArms, 1, nChains, num_gpu, simTime)))"
   ]
  },
  {
   "cell_type": "markdown",
   "metadata": {
    "collapsed": false
   },
   "source": [
    "To start a claculation of a **linear chain**, call `CalculationLinear(Nc, CDtoggle, Nchains, Ngpus, simTime)`\n",
    "\n",
    "To start a claculation of a **star-branched chain**, call `CalculationStar(nArms, NcArms, CDtoggle, Nchains, Ngpus, simTime)`\n",
    "\n",
    "### Zeroth iteration (pure linear, pure star; no constraint dynamics)"
   ]
  },
  {
   "cell_type": "code",
   "execution_count": 6,
   "metadata": {
    "collapsed": false,
    "scrolled": true
   },
   "outputs": [
   ],
   "source": [
    "x.calc()\n",
    "y.calc()"
   ]
  },
  {
   "cell_type": "code",
   "execution_count": 18,
   "metadata": {
    "collapsed": false
   },
   "outputs": [
   ],
   "source": [
    "x.check_self()\n",
    "y.check_self()"
   ]
  },
  {
   "cell_type": "code",
   "execution_count": 19,
   "metadata": {
    "collapsed": false
   },
   "outputs": [
   ],
   "source": [
    "x.plot_fit_results()"
   ]
  },
  {
   "cell_type": "code",
   "execution_count": 13,
   "metadata": {
    "collapsed": false
   },
   "outputs": [
   ],
   "source": [
    "y.plot_fit_results()"
   ]
  },
  {
   "cell_type": "markdown",
   "metadata": {
    "collapsed": false
   },
   "source": [
    "### Longest relaxation time for a pure linear and a pure star"
   ]
  },
  {
   "cell_type": "code",
   "execution_count": 9,
   "metadata": {
    "collapsed": false
   },
   "outputs": [
   ],
   "source": [
   ]
  },
  {
   "cell_type": "code",
   "execution_count": 10,
   "metadata": {
    "collapsed": false,
    "scrolled": true
   },
   "outputs": [
   ],
   "source": [
   ]
  },
  {
   "cell_type": "code",
   "execution_count": 20,
   "metadata": {
    "collapsed": false
   },
   "outputs": [
   ],
   "source": [
    "#Calculate p_cr for different blends\n",
    "iterations[0].chain[-1].set_pcd_cr_input(x.lambdaArr,x.gArr)\n",
    "\n",
    "for i in iterations[1:-1]:\n",
    "    a,b = mix_spectra(i.w, x, y)\n",
    "    i.chain[-1][0].set_pcd_cr_input(a,b)\n",
    "    i.chain[-1][1].set_pcd_cr_input(a,b)\n",
    "\n",
    "iterations[-1].chain[-1].set_pcd_cr_input(y.lambdaArr,y.gArr)"
   ]
  },
  {
   "cell_type": "code",
   "execution_count": 21,
   "metadata": {
    "collapsed": false
   },
   "outputs": [
   ],
   "source": [
    "#pure linear\n",
    "iterations[0].chain[-1].calc()"
   ]
  },
  {
   "cell_type": "code",
   "execution_count": 77,
   "metadata": {
    "collapsed": false,
    "scrolled": true
   },
   "outputs": [
   ],
   "source": [
    "iterations[0].chain[-1].check_self()"
   ]
  },
  {
   "cell_type": "code",
   "execution_count": 453,
   "metadata": {
    "collapsed": false
   },
   "outputs": [
   ],
   "source": [
    "iterations[0].chain[-1].plot_fit_results()"
   ]
  },
  {
   "cell_type": "code",
   "execution_count": 23,
   "metadata": {
    "collapsed": false
   },
   "outputs": [
   ],
   "source": [
    "#pure star\n",
    "iterations[-1].chain[-1].calc()"
   ]
  },
  {
   "cell_type": "code",
   "execution_count": 78,
   "metadata": {
    "collapsed": false,
    "scrolled": true
   },
   "outputs": [
   ],
   "source": [
    "iterations[-1].chain[-1].check_self()"
   ]
  },
  {
   "cell_type": "code",
   "execution_count": 25,
   "metadata": {
    "collapsed": false
   },
   "outputs": [
   ],
   "source": [
    "iterations[1].chain[-1][0].calc()\n",
    "iterations[1].chain[-1][1].calc()"
   ]
  },
  {
   "cell_type": "code",
   "execution_count": 99,
   "metadata": {
    "collapsed": false
   },
   "outputs": [
   ],
   "source": [
    "iterations[1].chain[-1][0].check_self()\n",
    "iterations[1].chain[-1][1].check_self()"
   ]
  },
  {
   "cell_type": "code",
   "execution_count": 458,
   "metadata": {
    "collapsed": false
   },
   "outputs": [
   ],
   "source": [
    "iterations[1].chain[-1][0].plot_fit_results()"
   ]
  },
  {
   "cell_type": "code",
   "execution_count": 466,
   "metadata": {
    "collapsed": false
   },
   "outputs": [
   ],
   "source": [
    "iterations[1].chain[-1][1].plot_fit_results()"
   ]
  },
  {
   "cell_type": "code",
   "execution_count": 27,
   "metadata": {
    "collapsed": false
   },
   "outputs": [
   ],
   "source": [
    "iterations[2].chain[-1][0].calc()\n",
    "iterations[2].chain[-1][1].calc()"
   ]
  },
  {
   "cell_type": "code",
   "execution_count": 100,
   "metadata": {
    "collapsed": false
   },
   "outputs": [
   ],
   "source": [
    "iterations[2].chain[-1][0].check_self()\n",
    "iterations[2].chain[-1][1].check_self()"
   ]
  },
  {
   "cell_type": "code",
   "execution_count": 29,
   "metadata": {
    "collapsed": false
   },
   "outputs": [
   ],
   "source": [
    "iterations[3].chain[-1][0].calc()\n",
    "iterations[3].chain[-1][1].calc()"
   ]
  },
  {
   "cell_type": "code",
   "execution_count": 81,
   "metadata": {
    "collapsed": false
   },
   "outputs": [
   ],
   "source": [
    "iterations[3].chain[-1][0].check_self()\n",
    "iterations[3].chain[-1][1].check_self()"
   ]
  },
  {
   "cell_type": "code",
   "execution_count": 82,
   "metadata": {
    "collapsed": false
   },
   "outputs": [
   ],
   "source": [
    "iterations[3].chain[-1][1].plot_fit_results()"
   ]
  },
  {
   "cell_type": "code",
   "execution_count": 31,
   "metadata": {
    "collapsed": false
   },
   "outputs": [
   ],
   "source": [
    "iterations[4].chain[-1][0].calc()\n",
    "iterations[4].chain[-1][1].calc()"
   ]
  },
  {
   "cell_type": "code",
   "execution_count": 83,
   "metadata": {
    "collapsed": false
   },
   "outputs": [
   ],
   "source": [
    "iterations[4].chain[-1][0].check_self()\n",
    "iterations[4].chain[-1][1].check_self()"
   ]
  },
  {
   "cell_type": "code",
   "execution_count": 90,
   "metadata": {
    "collapsed": false
   },
   "outputs": [
   ],
   "source": [
    "iterations[4].chain[-1][1].plot_fit_results()"
   ]
  },
  {
   "cell_type": "code",
   "execution_count": 33,
   "metadata": {
    "collapsed": false
   },
   "outputs": [
   ],
   "source": [
    "iterations[5].chain[-1][0].calc()\n",
    "iterations[5].chain[-1][1].calc()"
   ]
  },
  {
   "cell_type": "code",
   "execution_count": 95,
   "metadata": {
    "collapsed": false
   },
   "outputs": [
   ],
   "source": [
    "iterations[5].chain[-1][0].check_self()\n",
    "iterations[5].chain[-1][1].check_self()"
   ]
  },
  {
   "cell_type": "code",
   "execution_count": 96,
   "metadata": {
    "collapsed": false
   },
   "outputs": [
   ],
   "source": [
    "iterations[5].chain[-1][1].plot_fit_results()"
   ]
  },
  {
   "cell_type": "code",
   "execution_count": 35,
   "metadata": {
    "collapsed": false
   },
   "outputs": [
   ],
   "source": [
    "iterations[6].chain[-1][0].calc()\n",
    "iterations[6].chain[-1][1].calc()"
   ]
  },
  {
   "cell_type": "code",
   "execution_count": 97,
   "metadata": {
    "collapsed": false
   },
   "outputs": [
   ],
   "source": [
    "iterations[6].chain[-1][0].check_self()\n",
    "iterations[6].chain[-1][1].check_self()"
   ]
  },
  {
   "cell_type": "code",
   "execution_count": 98,
   "metadata": {
    "collapsed": false
   },
   "outputs": [
   ],
   "source": [
    "iterations[6].chain[-1][1].plot_fit_results()"
   ]
  },
  {
   "cell_type": "code",
   "execution_count": 45,
   "metadata": {
    "collapsed": false
   },
   "outputs": [
   ],
   "source": [
    "iterations[7].chain[-1][0].calc()\n",
    "iterations[7].chain[-1][1].calc()"
   ]
  },
  {
   "cell_type": "code",
   "execution_count": 103,
   "metadata": {
    "collapsed": false
   },
   "outputs": [
   ],
   "source": [
    "iterations[7].chain[-1][0].check_self()\n",
    "iterations[7].chain[-1][1].check_self()"
   ]
  },
  {
   "cell_type": "code",
   "execution_count": 50,
   "metadata": {
    "collapsed": false,
    "scrolled": true
   },
   "outputs": [
   ],
   "source": [
    "iterations[8].chain[-1][0].calc()\n",
    "iterations[8].chain[-1][1].calc()"
   ]
  },
  {
   "cell_type": "code",
   "execution_count": 109,
   "metadata": {
    "collapsed": false
   },
   "outputs": [
   ],
   "source": [
    "iterations[8].chain[-1][0].token"
   ]
  },
  {
   "cell_type": "code",
   "execution_count": 113,
   "metadata": {
    "collapsed": false
   },
   "outputs": [
   ],
   "source": [
    "iterations[8].chain[-1][0].check_self()\n",
    "iterations[8].chain[-1][1].check_self()"
   ]
  },
  {
   "cell_type": "code",
   "execution_count": 88,
   "metadata": {
    "collapsed": false
   },
   "outputs": [
   ],
   "source": [
    "iterations[9].chain[-1][0].calc()\n",
    "iterations[9].chain[-1][1].calc()"
   ]
  },
  {
   "cell_type": "code",
   "execution_count": 116,
   "metadata": {
    "collapsed": false
   },
   "outputs": [
   ],
   "source": [
    "iterations[9].chain[-1][0].check_self()\n",
    "iterations[9].chain[-1][1].check_self()"
   ]
  },
  {
   "cell_type": "code",
   "execution_count": 122,
   "metadata": {
    "collapsed": false
   },
   "outputs": [
   ],
   "source": [
    "iterations[9].chain[-1][0].token"
   ]
  },
  {
   "cell_type": "code",
   "execution_count": 0,
   "metadata": {
    "collapsed": false
   },
   "outputs": [
   ],
   "source": [
   ]
  }
 ],
 "metadata": {
  "kernelspec": {
   "display_name": "anaconda_kernel",
   "language": "python",
   "name": "anaconda_kernel"
  },
  "language_info": {
   "codemirror_mode": {
    "name": "ipython",
    "version": 2
   },
   "file_extension": ".py",
   "mimetype": "text/x-python",
   "name": "python",
   "nbconvert_exporter": "python",
   "pygments_lexer": "ipython2",
   "version": "2.7.14"
  }
 },
 "nbformat": 4,
 "nbformat_minor": 0
}