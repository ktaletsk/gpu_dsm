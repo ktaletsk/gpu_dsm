{
 "cells": [
  {
   "cell_type": "markdown",
   "metadata": {
    "collapsed": false
   },
   "source": [
    "# IPython interface for running GPU DSM on cluster"
   ]
  },
  {
   "cell_type": "code",
   "execution_count": 18,
   "metadata": {
    "collapsed": false
   },
   "outputs": [
   ],
   "source": [
    "from dsm_tools import ssh_init, job_start, jobs_done, job_transfer_clean, uuid, os, server, username, password\n",
    "from fdt_fit import fdt_fit"
   ]
  },
  {
   "cell_type": "markdown",
   "metadata": {
    "collapsed": false
   },
   "source": [
    "** Choose input parameters for GPU DSM **"
   ]
  },
  {
   "cell_type": "code",
   "execution_count": 19,
   "metadata": {
    "collapsed": false
   },
   "outputs": [
   ],
   "source": [
    "beta = 1\n",
    "architecture = 'linear'\n",
    "#nArms = 3\n",
    "nkArms = [45]\n",
    "nChains = 5000\n",
    "velocityGradient = (0.0, 0.0, 0.0, 0.0, 0.0, 0.0, 0.0, 0.0, 0.0)\n",
    "CDtoggle = 0\n",
    "PDtoggle = 0\n",
    "calcMode = 1\n",
    "timeStep = 1\n",
    "simTime = 100000"
   ]
  },
  {
   "cell_type": "markdown",
   "metadata": {
    "collapsed": false
   },
   "source": [
    "** Generate input file **"
   ]
  },
  {
   "cell_type": "code",
   "execution_count": 20,
   "metadata": {
    "collapsed": false
   },
   "outputs": [
   ],
   "source": [
    "file = open(\"input.dat\",\"w\")\n",
    "\n",
    "file.write(str(beta)+'\\n')\n",
    "file.write(architecture+'\\n')\n",
    "#file.write(str(nArms)+'\\n')\n",
    "file.write(\" \".join(map(str,nkArms)) + '\\n')\n",
    "file.write(str(nChains)+'\\n')\n",
    "file.write(\" \".join(map(str,velocityGradient)) + '\\n')\n",
    "file.write(str(CDtoggle)+'\\n')\n",
    "file.write(str(PDtoggle)+'\\n')\n",
    "file.write(str(calcMode)+'\\n')\n",
    "file.write(str(timeStep)+'\\n')\n",
    "file.write(str(simTime))\n",
    "\n",
    "file.close()"
   ]
  },
  {
   "cell_type": "markdown",
   "metadata": {
    "collapsed": false
   },
   "source": [
    "** Create random folder name for a job **"
   ]
  },
  {
   "cell_type": "code",
   "execution_count": 21,
   "metadata": {
    "collapsed": false
   },
   "outputs": [
   ],
   "source": [
    "job_folder = str(uuid.uuid4())\n",
    "%store job_folder\n",
    "job_folder"
   ]
  },
  {
   "cell_type": "markdown",
   "metadata": {
    "collapsed": false
   },
   "source": [
    "** Send job to cluster **"
   ]
  },
  {
   "cell_type": "code",
   "execution_count": 22,
   "metadata": {
    "collapsed": false
   },
   "outputs": [
   ],
   "source": [
    "%store -r\n",
    "ssh=ssh_init()\n",
    "jobIds=job_start(ssh, job_folder)\n",
    "%store jobIds"
   ]
  },
  {
   "cell_type": "markdown",
   "metadata": {
    "collapsed": false
   },
   "source": [
    "** Check if job is finished and transfer results **"
   ]
  },
  {
   "cell_type": "code",
   "execution_count": 26,
   "metadata": {
    "collapsed": false
   },
   "outputs": [
   ],
   "source": [
    "%store -r\n",
    "if not ssh:\n",
    "    ssh=ssh_init()\n",
    "if jobs_done(ssh, jobIds):\n",
    "    print('Calculation is done')\n",
    "    job_transfer_clean(ssh, job_folder)\n",
    "else:\n",
    "    print('Still running, check back later')"
   ]
  },
  {
   "cell_type": "code",
   "execution_count": 0,
   "metadata": {
    "collapsed": false
   },
   "outputs": [
   ],
   "source": [
   ]
  }
 ],
 "metadata": {
  "kernelspec": {
   "display_name": "anaconda_kernel",
   "language": "python",
   "name": "anaconda_kernel"
  },
  "language_info": {
   "codemirror_mode": {
    "name": "ipython",
    "version": 2
   },
   "file_extension": ".py",
   "mimetype": "text/x-python",
   "name": "python",
   "nbconvert_exporter": "python",
   "pygments_lexer": "ipython2",
   "version": "2.7.14"
  }
 },
 "nbformat": 4,
 "nbformat_minor": 0
}