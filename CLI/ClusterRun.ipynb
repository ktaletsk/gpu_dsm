{
 "cells": [
  {
   "cell_type": "markdown",
   "metadata": {
    "collapsed": false
   },
   "source": [
    "# IPython interface for running GPU DSM + fitting on cluster"
   ]
  },
  {
   "cell_type": "code",
   "execution_count": 0,
   "metadata": {
    "collapsed": false
   },
   "outputs": [
   ],
   "source": [
    "from dsm_tools import ssh_init, job_start, job_done, job_transfer_clean, uuid, os, server, username, password, Calculation, CalculationStar, CalculationLinear, IterationChain\n",
    "from fdt_fit import fdt_fit, fdt, fdtvec\n",
    "from gt_fit import Gt_MMM_vec, Gp_MMM, Gdp_MMM, Gp_MMM_vec, Gdp_MMM_vec\n",
    "import numpy as np\n",
    "import matplotlib.pyplot as plt\n",
    "import matplotlib"
   ]
  },
  {
   "cell_type": "code",
   "execution_count": 0,
   "metadata": {
    "collapsed": false
   },
   "outputs": [
   ],
   "source": [
    "matplotlib.style.use('default')"
   ]
  },
  {
   "cell_type": "code",
   "execution_count": 0,
   "metadata": {
    "collapsed": false
   },
   "outputs": [
   ],
   "source": [
    "def mix_spectra(w, x, y):\n",
    "    xWeight = w #Fraction of linear\n",
    "    yWeight = 1 - w #Fraction of star\n",
    "\n",
    "    #Calculate p_eq of the mix\n",
    "    mix_lambdaArr = np.append(x.lambdaArr, y.lambdaArr)\n",
    "    mix_gArr = np.append(np.multiply(x.gArr, x.lambdaArr)/np.dot(x.gArr, x.lambdaArr) * xWeight, np.multiply(y.gArr, y.lambdaArr)/np.dot(y.gArr, y.lambdaArr) * yWeight)\n",
    "\n",
    "    #Sort by relaxation times tau\n",
    "    sort = np.argsort(mix_lambdaArr)\n",
    "    mix_lambdaArr = mix_lambdaArr[sort]\n",
    "    mix_gArr = mix_gArr[sort]\n",
    "\n",
    "    return mix_lambdaArr, np.divide(mix_gArr,mix_lambdaArr)/np.sum(np.divide(mix_gArr,mix_lambdaArr))"
   ]
  },
  {
   "cell_type": "code",
   "execution_count": 0,
   "metadata": {
    "collapsed": false
   },
   "outputs": [
   ],
   "source": [
    "nChains = 2000\n",
    "CDtoggle = 0\n",
    "simTime = 1000000\n",
    "num_gpu = 8\n",
    "\n",
    "#Linear chain\n",
    "nk = 50\n",
    "\n",
    "#Star chain\n",
    "nArms = 3\n",
    "nkArms = [7, 7, 7]"
   ]
  },
  {
   "cell_type": "code",
   "execution_count": 0,
   "metadata": {
    "collapsed": false
   },
   "outputs": [
   ],
   "source": [
    "#Create simulations\n",
    "x, y = CalculationLinear('x', nk, 0, nChains, num_gpu, simTime), CalculationStar('y', nArms, nkArms, 0, nChains, num_gpu, simTime)"
   ]
  },
  {
   "cell_type": "code",
   "execution_count": 0,
   "metadata": {
    "collapsed": false
   },
   "outputs": [
   ],
   "source": [
    "#Load simulations\n",
    "x, y = CalculationLinear('x'), CalculationStar('y')"
   ]
  },
  {
   "cell_type": "code",
   "execution_count": 0,
   "metadata": {
    "collapsed": false
   },
   "outputs": [
   ],
   "source": [
    "weights = [1, 0.9, 0.8, 0.7, 0.6, 0.5, 0.4, 0.3, 0.2, 0.1, 0] #weight fraction of linear chains in star-linear blend\n",
    "iterations = map(lambda x: IterationChain(x),weights)\n",
    "\n",
    "#Create iteration chains for different blends\n",
    "iterations[0].add((CalculationLinear('linear_'+str(iterations[0].w)+'_'+str(len(iterations[0].chain)+1), nk, 1, nChains, num_gpu, simTime)))\n",
    "[i.add((CalculationLinear('linear_'+str(i.w)+'_'+str(len(i.chain)+1), nk, 1, nChains, num_gpu, simTime), CalculationStar('star_'+str(i.w)+'_'+str(len(i.chain)+1), nArms, nkArms, 1, nChains, num_gpu, simTime))) for i in iterations[1:-1]]\n",
    "iterations[-1].add((CalculationStar('star_'+str(iterations[-1].w)+'_'+str(len(iterations[-1].chain)+1), nArms, nkArms, 1, nChains, num_gpu, simTime)))"
   ]
  },
  {
   "cell_type": "markdown",
   "metadata": {
    "collapsed": false
   },
   "source": [
    "To start a claculation of a **linear chain**, call `CalculationLinear(Nc, CDtoggle, Nchains, Ngpus, simTime)`\n",
    "\n",
    "To start a claculation of a **star-branched chain**, call `CalculationStar(nArms, NcArms, CDtoggle, Nchains, Ngpus, simTime)`\n",
    "\n",
    "### Zeroth iteration (pure linear, pure star; no constraint dynamics)"
   ]
  },
  {
   "cell_type": "code",
   "execution_count": 0,
   "metadata": {
    "collapsed": false,
    "scrolled": true
   },
   "outputs": [
   ],
   "source": [
    "x.calc()\n",
    "y.calc()"
   ]
  },
  {
   "cell_type": "code",
   "execution_count": 0,
   "metadata": {
    "collapsed": false,
    "scrolled": true
   },
   "outputs": [
   ],
   "source": [
    "x.check_self()\n",
    "y.check_self()"
   ]
  },
  {
   "cell_type": "code",
   "execution_count": 0,
   "metadata": {
    "collapsed": false
   },
   "outputs": [
   ],
   "source": [
    "x.token"
   ]
  },
  {
   "cell_type": "code",
   "execution_count": 0,
   "metadata": {
    "collapsed": false
   },
   "outputs": [
   ],
   "source": [
    "x.plot_fdt_results()\n",
    "x.plot_gt_results()"
   ]
  },
  {
   "cell_type": "code",
   "execution_count": 0,
   "metadata": {
    "collapsed": false
   },
   "outputs": [
   ],
   "source": [
    "y.plot_fdt_results()\n",
    "y.plot_gt_results()"
   ]
  },
  {
   "cell_type": "markdown",
   "metadata": {
    "collapsed": false
   },
   "source": [
    "## Longest relaxation time for a pure linear and a pure star"
   ]
  },
  {
   "cell_type": "code",
   "execution_count": 0,
   "metadata": {
    "collapsed": false
   },
   "outputs": [
   ],
   "source": [
    "#Calculate p_cr for different blends\n",
    "iterations[0].chain[-1].set_pcd_cr_input(x.lambdaArr,x.gArr)\n",
    "\n",
    "for i in iterations[1:-1]:\n",
    "    a,b = mix_spectra(i.w, x, y)\n",
    "    i.chain[-1][0].set_pcd_cr_input(a,b)\n",
    "    i.chain[-1][1].set_pcd_cr_input(a,b)\n",
    "\n",
    "iterations[-1].chain[-1].set_pcd_cr_input(y.lambdaArr,y.gArr)"
   ]
  },
  {
   "cell_type": "code",
   "execution_count": 0,
   "metadata": {
    "collapsed": false
   },
   "outputs": [
   ],
   "source": [
    "#pure linear\n",
    "iterations[0].chain[-1].calc()"
   ]
  },
  {
   "cell_type": "code",
   "execution_count": 0,
   "metadata": {
    "collapsed": false,
    "scrolled": true
   },
   "outputs": [
   ],
   "source": [
    "iterations[0].chain[-1].check_self()"
   ]
  },
  {
   "cell_type": "code",
   "execution_count": 0,
   "metadata": {
    "collapsed": false
   },
   "outputs": [
   ],
   "source": [
    "print 'Pure linear'\n",
    "iterations[0].chain[-1].plot_fdt_results()\n",
    "iterations[0].chain[-1].plot_gt_results()"
   ]
  },
  {
   "cell_type": "code",
   "execution_count": 0,
   "metadata": {
    "collapsed": false
   },
   "outputs": [
   ],
   "source": [
    "#pure star\n",
    "iterations[-1].chain[-1].calc()"
   ]
  },
  {
   "cell_type": "code",
   "execution_count": 0,
   "metadata": {
    "collapsed": false,
    "scrolled": true
   },
   "outputs": [
   ],
   "source": [
    "iterations[-1].chain[-1].check_self()"
   ]
  },
  {
   "cell_type": "code",
   "execution_count": 0,
   "metadata": {
    "collapsed": false
   },
   "outputs": [
   ],
   "source": [
    "print 'Pure star'\n",
    "iterations[-1].chain[-1].plot_fdt_results()\n",
    "iterations[-1].chain[-1].plot_gt_results()"
   ]
  },
  {
   "cell_type": "code",
   "execution_count": 0,
   "metadata": {
    "collapsed": false
   },
   "outputs": [
   ],
   "source": [
    "iterations[1].chain[-1][0].calc()\n",
    "iterations[1].chain[-1][1].calc()"
   ]
  },
  {
   "cell_type": "code",
   "execution_count": 0,
   "metadata": {
    "collapsed": false
   },
   "outputs": [
   ],
   "source": [
    "iterations[1].chain[-1][0].check_self()\n",
    "iterations[1].chain[-1][1].check_self()"
   ]
  },
  {
   "cell_type": "code",
   "execution_count": 0,
   "metadata": {
    "collapsed": false
   },
   "outputs": [
   ],
   "source": [
    "print 'Linear (90% linear + 10% star)'\n",
    "iterations[1].chain[-1][0].plot_fdt_results()\n",
    "iterations[1].chain[-1][0].plot_gt_results()"
   ]
  },
  {
   "cell_type": "code",
   "execution_count": 0,
   "metadata": {
    "collapsed": false
   },
   "outputs": [
   ],
   "source": [
    "print 'Star (90% linear + 10% star)'\n",
    "iterations[1].chain[-1][1].plot_fdt_results()\n",
    "iterations[1].chain[-1][1].plot_gt_results()"
   ]
  },
  {
   "cell_type": "code",
   "execution_count": 0,
   "metadata": {
    "collapsed": false,
    "scrolled": true
   },
   "outputs": [
   ],
   "source": [
    "iterations[2].chain[-1][0].calc()\n",
    "iterations[2].chain[-1][1].calc()"
   ]
  },
  {
   "cell_type": "code",
   "execution_count": 0,
   "metadata": {
    "collapsed": false
   },
   "outputs": [
   ],
   "source": [
    "iterations[2].chain[-1][0].check_self()\n",
    "iterations[2].chain[-1][1].check_self()"
   ]
  },
  {
   "cell_type": "code",
   "execution_count": 0,
   "metadata": {
    "collapsed": false
   },
   "outputs": [
   ],
   "source": [
    "print 'Linear (80% linear + 20% star)'\n",
    "iterations[2].chain[-1][0].plot_fdt_results()\n",
    "iterations[2].chain[-1][0].plot_gt_results()"
   ]
  },
  {
   "cell_type": "code",
   "execution_count": 0,
   "metadata": {
    "collapsed": false
   },
   "outputs": [
   ],
   "source": [
    "print 'Star (80% linear + 20% star)'\n",
    "iterations[2].chain[-1][1].plot_fdt_results()\n",
    "iterations[2].chain[-1][1].plot_gt_results()"
   ]
  },
  {
   "cell_type": "code",
   "execution_count": 0,
   "metadata": {
    "collapsed": false,
    "scrolled": true
   },
   "outputs": [
   ],
   "source": [
    "iterations[3].chain[-1][0].calc()\n",
    "iterations[3].chain[-1][1].calc()"
   ]
  },
  {
   "cell_type": "code",
   "execution_count": 0,
   "metadata": {
    "collapsed": false
   },
   "outputs": [
   ],
   "source": [
    "iterations[3].chain[-1][0].check_self()\n",
    "iterations[3].chain[-1][1].check_self()"
   ]
  },
  {
   "cell_type": "code",
   "execution_count": 0,
   "metadata": {
    "collapsed": false
   },
   "outputs": [
   ],
   "source": [
    "print 'Linear (70% linear + 30% star)'\n",
    "iterations[3].chain[-1][0].plot_fdt_results()\n",
    "iterations[3].chain[-1][0].plot_gt_results()"
   ]
  },
  {
   "cell_type": "code",
   "execution_count": 0,
   "metadata": {
    "collapsed": false
   },
   "outputs": [
   ],
   "source": [
    "print 'Star (70% linear + 30% star)'\n",
    "iterations[3].chain[-1][1].plot_fdt_results()\n",
    "iterations[3].chain[-1][1].plot_gt_results()"
   ]
  },
  {
   "cell_type": "code",
   "execution_count": 0,
   "metadata": {
    "collapsed": false,
    "scrolled": true
   },
   "outputs": [
   ],
   "source": [
    "iterations[4].chain[-1][0].calc()\n",
    "iterations[4].chain[-1][1].calc()"
   ]
  },
  {
   "cell_type": "code",
   "execution_count": 0,
   "metadata": {
    "collapsed": false
   },
   "outputs": [
   ],
   "source": [
    "iterations[4].chain[-1][0].check_self()\n",
    "iterations[4].chain[-1][1].check_self()"
   ]
  },
  {
   "cell_type": "code",
   "execution_count": 0,
   "metadata": {
    "collapsed": false
   },
   "outputs": [
   ],
   "source": [
    "print 'Linear (60% linear + 40% star)'\n",
    "iterations[4].chain[-1][0].plot_fdt_results()\n",
    "iterations[4].chain[-1][0].plot_gt_results()"
   ]
  },
  {
   "cell_type": "code",
   "execution_count": 0,
   "metadata": {
    "collapsed": false
   },
   "outputs": [
   ],
   "source": [
    "print 'Star (60% linear + 40% star)'\n",
    "iterations[4].chain[-1][1].plot_fdt_results()\n",
    "iterations[4].chain[-1][1].plot_gt_results()"
   ]
  },
  {
   "cell_type": "code",
   "execution_count": 0,
   "metadata": {
    "collapsed": false
   },
   "outputs": [
   ],
   "source": [
    "iterations[5].chain[-1][0].calc()\n",
    "iterations[5].chain[-1][1].calc()"
   ]
  },
  {
   "cell_type": "code",
   "execution_count": 0,
   "metadata": {
    "collapsed": false
   },
   "outputs": [
   ],
   "source": [
    "iterations[5].chain[-1][0].check_self()\n",
    "iterations[5].chain[-1][1].check_self()"
   ]
  },
  {
   "cell_type": "code",
   "execution_count": 0,
   "metadata": {
    "collapsed": false
   },
   "outputs": [
   ],
   "source": [
    "print 'Linear (50% linear + 50% star)'\n",
    "iterations[5].chain[-1][0].plot_fdt_results()\n",
    "iterations[5].chain[-1][0].plot_gt_results()"
   ]
  },
  {
   "cell_type": "code",
   "execution_count": 0,
   "metadata": {
    "collapsed": false
   },
   "outputs": [
   ],
   "source": [
    "print 'Star (50% linear + 50% star)'\n",
    "iterations[5].chain[-1][1].plot_fdt_results()\n",
    "iterations[5].chain[-1][1].plot_gt_results()"
   ]
  },
  {
   "cell_type": "code",
   "execution_count": 0,
   "metadata": {
    "collapsed": false
   },
   "outputs": [
   ],
   "source": [
    "iterations[6].chain[-1][0].calc()\n",
    "iterations[6].chain[-1][1].calc()"
   ]
  },
  {
   "cell_type": "code",
   "execution_count": 0,
   "metadata": {
    "collapsed": false
   },
   "outputs": [
   ],
   "source": [
    "iterations[6].chain[-1][0].check_self()\n",
    "iterations[6].chain[-1][1].check_self()"
   ]
  },
  {
   "cell_type": "code",
   "execution_count": 0,
   "metadata": {
    "collapsed": false
   },
   "outputs": [
   ],
   "source": [
    "print 'Linear (40% linear + 60% star)'\n",
    "iterations[6].chain[-1][0].plot_fdt_results()\n",
    "iterations[6].chain[-1][0].plot_gt_results()"
   ]
  },
  {
   "cell_type": "code",
   "execution_count": 0,
   "metadata": {
    "collapsed": false
   },
   "outputs": [
   ],
   "source": [
    "print 'Star (40% linear + 60% star)'\n",
    "iterations[6].chain[-1][1].plot_fdt_results()\n",
    "iterations[6].chain[-1][1].plot_gt_results()"
   ]
  },
  {
   "cell_type": "code",
   "execution_count": 0,
   "metadata": {
    "collapsed": false,
    "scrolled": true
   },
   "outputs": [
   ],
   "source": [
    "iterations[7].chain[-1][0].calc()\n",
    "iterations[7].chain[-1][1].calc()"
   ]
  },
  {
   "cell_type": "code",
   "execution_count": 0,
   "metadata": {
    "collapsed": false
   },
   "outputs": [
   ],
   "source": [
    "iterations[7].chain[-1][0].check_self()\n",
    "iterations[7].chain[-1][1].check_self()"
   ]
  },
  {
   "cell_type": "code",
   "execution_count": 0,
   "metadata": {
    "collapsed": false
   },
   "outputs": [
   ],
   "source": [
    "print 'Linear (30% linear + 70% star)'\n",
    "iterations[7].chain[-1][0].plot_fdt_results()\n",
    "iterations[7].chain[-1][0].plot_gt_results()"
   ]
  },
  {
   "cell_type": "code",
   "execution_count": 0,
   "metadata": {
    "collapsed": false
   },
   "outputs": [
   ],
   "source": [
    "print 'Star (30% linear + 70% star)'\n",
    "iterations[7].chain[-1][1].plot_fdt_results()\n",
    "iterations[7].chain[-1][1].plot_gt_results()"
   ]
  },
  {
   "cell_type": "code",
   "execution_count": 0,
   "metadata": {
    "collapsed": false
   },
   "outputs": [
   ],
   "source": [
    "iterations[8].chain[-1][0].calc()\n",
    "iterations[8].chain[-1][1].calc()"
   ]
  },
  {
   "cell_type": "code",
   "execution_count": 0,
   "metadata": {
    "collapsed": false
   },
   "outputs": [
   ],
   "source": [
    "iterations[8].chain[-1][0].check_self()\n",
    "iterations[8].chain[-1][1].check_self()"
   ]
  },
  {
   "cell_type": "code",
   "execution_count": 0,
   "metadata": {
    "collapsed": false
   },
   "outputs": [
   ],
   "source": [
    "iterations[8].chain[-1][0].plot_fdt_results()\n",
    "iterations[8].chain[-1][0].plot_gt_results()"
   ]
  },
  {
   "cell_type": "code",
   "execution_count": 0,
   "metadata": {
    "collapsed": false
   },
   "outputs": [
   ],
   "source": [
    "iterations[8].chain[-1][1].plot_fdt_results()\n",
    "iterations[8].chain[-1][1].plot_gt_results()"
   ]
  },
  {
   "cell_type": "code",
   "execution_count": 0,
   "metadata": {
    "collapsed": false
   },
   "outputs": [
   ],
   "source": [
    "iterations[9].chain[-1][0].calc()\n",
    "iterations[9].chain[-1][1].calc()"
   ]
  },
  {
   "cell_type": "code",
   "execution_count": 0,
   "metadata": {
    "collapsed": false
   },
   "outputs": [
   ],
   "source": [
    "iterations[9].chain[-1][0].check_self()\n",
    "iterations[9].chain[-1][1].check_self()"
   ]
  },
  {
   "cell_type": "code",
   "execution_count": 0,
   "metadata": {
    "collapsed": false
   },
   "outputs": [
   ],
   "source": [
    "iterations[9].chain[-1][0].plot_fdt_results()\n",
    "iterations[9].chain[-1][0].plot_gt_results()"
   ]
  },
  {
   "cell_type": "code",
   "execution_count": 0,
   "metadata": {
    "collapsed": false
   },
   "outputs": [
   ],
   "source": [
    "iterations[9].chain[-1][1].plot_fdt_results()\n",
    "iterations[9].chain[-1][1].plot_gt_results()"
   ]
  },
  {
   "cell_type": "markdown",
   "metadata": {
    "collapsed": false
   },
   "source": [
    "### Look at the longest relaxation time of star-branched"
   ]
  },
  {
   "cell_type": "code",
   "execution_count": 0,
   "metadata": {
    "collapsed": false
   },
   "outputs": [
   ],
   "source": [
    "iterations[1].chain[-1][1].lambdaArr"
   ]
  },
  {
   "cell_type": "code",
   "execution_count": 0,
   "metadata": {
    "collapsed": false
   },
   "outputs": [
   ],
   "source": [
    "iterations[2].chain[-1][1].lambdaArr"
   ]
  },
  {
   "cell_type": "code",
   "execution_count": 0,
   "metadata": {
    "collapsed": false
   },
   "outputs": [
   ],
   "source": [
    "iterations[3].chain[-1][1].lambdaArr"
   ]
  },
  {
   "cell_type": "code",
   "execution_count": 0,
   "metadata": {
    "collapsed": false
   },
   "outputs": [
   ],
   "source": [
    "iterations[4].chain[-1][1].lambdaArr"
   ]
  },
  {
   "cell_type": "code",
   "execution_count": 0,
   "metadata": {
    "collapsed": false
   },
   "outputs": [
   ],
   "source": [
    "iterations[5].chain[-1][1].lambdaArr"
   ]
  },
  {
   "cell_type": "code",
   "execution_count": 0,
   "metadata": {
    "collapsed": false
   },
   "outputs": [
   ],
   "source": [
    "iterations[6].chain[-1][1].lambdaArr"
   ]
  },
  {
   "cell_type": "code",
   "execution_count": 0,
   "metadata": {
    "collapsed": false
   },
   "outputs": [
   ],
   "source": [
    "iterations[7].chain[-1][1].lambdaArr"
   ]
  },
  {
   "cell_type": "code",
   "execution_count": 0,
   "metadata": {
    "collapsed": false
   },
   "outputs": [
   ],
   "source": [
    "iterations[8].chain[-1][1].lambdaArr"
   ]
  },
  {
   "cell_type": "code",
   "execution_count": 0,
   "metadata": {
    "collapsed": false
   },
   "outputs": [
   ],
   "source": [
    "iterations[9].chain[-1][1].lambdaArr"
   ]
  },
  {
   "cell_type": "code",
   "execution_count": 0,
   "metadata": {
    "collapsed": false
   },
   "outputs": [
   ],
   "source": [
    "iterations[10].chain[-1].lambdaArr"
   ]
  },
  {
   "cell_type": "code",
   "execution_count": 0,
   "metadata": {
    "collapsed": false
   },
   "outputs": [
   ],
   "source": [
    "fig = plt.figure(figsize=(12, 10))\n",
    "\n",
    "ax1 = fig.add_subplot(111)\n",
    "\n",
    "ax1.set_title(\"Entanglement lifetime distribution for star\")\n",
    "ax1.set_xlabel(r'$t/\\tau_c$')\n",
    "ax1.set_ylabel(r'$\\mathbb{P}(\\tau)$')\n",
    "\n",
    "ax1.scatter(iterations[1].chain[-1][1].lambdaArr, np.cumsum(np.multiply(iterations[1].chain[-1][1].lambdaArr, iterations[1].chain[-1][1].gArr))/np.dot(iterations[1].chain[-1][1].lambdaArr, iterations[1].chain[-1][1].gArr), label=r'90% linear')\n",
    "ax1.scatter(iterations[2].chain[-1][1].lambdaArr, np.cumsum(np.multiply(iterations[2].chain[-1][1].lambdaArr, iterations[2].chain[-1][1].gArr))/np.dot(iterations[2].chain[-1][1].lambdaArr, iterations[2].chain[-1][1].gArr), label=r'80% linear')\n",
    "ax1.scatter(iterations[3].chain[-1][1].lambdaArr, np.cumsum(np.multiply(iterations[3].chain[-1][1].lambdaArr, iterations[3].chain[-1][1].gArr))/np.dot(iterations[3].chain[-1][1].lambdaArr, iterations[3].chain[-1][1].gArr), label=r'70% linear')\n",
    "ax1.scatter(iterations[4].chain[-1][1].lambdaArr, np.cumsum(np.multiply(iterations[4].chain[-1][1].lambdaArr, iterations[4].chain[-1][1].gArr))/np.dot(iterations[4].chain[-1][1].lambdaArr, iterations[4].chain[-1][1].gArr), label=r'60% linear')\n",
    "ax1.scatter(iterations[5].chain[-1][1].lambdaArr, np.cumsum(np.multiply(iterations[5].chain[-1][1].lambdaArr, iterations[5].chain[-1][1].gArr))/np.dot(iterations[5].chain[-1][1].lambdaArr, iterations[5].chain[-1][1].gArr), label=r'50% linear')\n",
    "ax1.scatter(iterations[6].chain[-1][1].lambdaArr, np.cumsum(np.multiply(iterations[6].chain[-1][1].lambdaArr, iterations[6].chain[-1][1].gArr))/np.dot(iterations[6].chain[-1][1].lambdaArr, iterations[6].chain[-1][1].gArr), label=r'40% linear')\n",
    "ax1.scatter(iterations[7].chain[-1][1].lambdaArr, np.cumsum(np.multiply(iterations[7].chain[-1][1].lambdaArr, iterations[7].chain[-1][1].gArr))/np.dot(iterations[7].chain[-1][1].lambdaArr, iterations[7].chain[-1][1].gArr), label=r'30% linear')\n",
    "ax1.scatter(iterations[8].chain[-1][1].lambdaArr, np.cumsum(np.multiply(iterations[8].chain[-1][1].lambdaArr, iterations[8].chain[-1][1].gArr))/np.dot(iterations[8].chain[-1][1].lambdaArr, iterations[8].chain[-1][1].gArr), label=r'20% linear')\n",
    "ax1.scatter(iterations[9].chain[-1][1].lambdaArr, np.cumsum(np.multiply(iterations[9].chain[-1][1].lambdaArr, iterations[9].chain[-1][1].gArr))/np.dot(iterations[9].chain[-1][1].lambdaArr, iterations[9].chain[-1][1].gArr), label=r'10% linear')\n",
    "ax1.scatter(iterations[10].chain[-1].lambdaArr, np.cumsum(np.multiply(iterations[10].chain[-1].lambdaArr, iterations[10].chain[-1].gArr))/np.dot(iterations[10].chain[-1].lambdaArr, iterations[10].chain[-1].gArr), label=r'0% linear')\n",
    "leg = ax1.legend()\n",
    "ax1.set_xscale('log')\n",
    "#ax1.set_yscale('log')\n",
    "\n",
    "plt.show()"
   ]
  },
  {
   "cell_type": "markdown",
   "metadata": {
    "collapsed": false
   },
   "source": [
    "## Longest relaxation time in blend"
   ]
  },
  {
   "cell_type": "code",
   "execution_count": 0,
   "metadata": {
    "collapsed": false
   },
   "outputs": [
   ],
   "source": [
    "w = [1, 0.9, 0.8, 0.7, 0.6, 0.5, 0.4, 0.3, 0.2, 0.1, 0]"
   ]
  },
  {
   "cell_type": "code",
   "execution_count": 0,
   "metadata": {
    "collapsed": false
   },
   "outputs": [
   ],
   "source": [
    "taud_fdt = [max(iterations[0].chain[0].lambdaArr), max([max(i.lambdaArr) for i in iterations[1].chain[0]]), max([max(i.lambdaArr) for i in iterations[2].chain[0]]), max([max(i.lambdaArr) for i in iterations[3].chain[0]]), max([max(i.lambdaArr) for i in iterations[4].chain[0]]), max([max(i.lambdaArr) for i in iterations[5].chain[0]]), max([max(i.lambdaArr) for i in iterations[6].chain[0]]), max([max(i.lambdaArr) for i in iterations[7].chain[0]]), max([max(i.lambdaArr) for i in iterations[8].chain[0]]), max([max(i.lambdaArr) for i in iterations[9].chain[0]]), max(iterations[-1].chain[0].lambdaArr)]"
   ]
  },
  {
   "cell_type": "code",
   "execution_count": 0,
   "metadata": {
    "collapsed": false
   },
   "outputs": [
   ],
   "source": [
    "taud_gt = [max(iterations[0].chain[0].gt_lambdaArr), max([max(i.gt_lambdaArr) for i in iterations[1].chain[0]]), max([max(i.gt_lambdaArr) for i in iterations[2].chain[0]]), max([max(i.gt_lambdaArr) for i in iterations[3].chain[0]]), max([max(i.gt_lambdaArr) for i in iterations[4].chain[0]]), max(iterations[-1].chain[0].gt_lambdaArr)]"
   ]
  },
  {
   "cell_type": "code",
   "execution_count": 0,
   "metadata": {
    "collapsed": false
   },
   "outputs": [
   ],
   "source": [
    "font = {'family' : 'serif',\n",
    "        'weight' : 'normal',\n",
    "        'size'   : 22}\n",
    "\n",
    "matplotlib.rc('font', **font)\n",
    "\n",
    "fig = plt.figure(figsize=(10, 8))\n",
    "\n",
    "ax1 = fig.add_subplot(111)\n",
    "\n",
    "ax1.set_title(\"Longest relaxation time in star/linear blend\")\n",
    "ax1.set_xlabel(r'$\\phi_L$ - fraction of linear chains')\n",
    "ax1.set_ylabel(r'$\\tau_d/\\tau_c$')\n",
    "\n",
    "ax1.scatter(w, taud_fdt)\n",
    "#plt.text(-0.1, 00, r'Pure stars', fontsize=20)\n",
    "\n",
    "ax1.set_yscale('log')\n",
    "\n",
    "plt.show()"
   ]
  },
  {
   "cell_type": "code",
   "execution_count": 0,
   "metadata": {
    "collapsed": false
   },
   "outputs": [
   ],
   "source": [
    "max(iterations[0].chain[0].gt_lambdaArr)"
   ]
  },
  {
   "cell_type": "markdown",
   "metadata": {
    "collapsed": false
   },
   "source": [
    "### Look at the longest relaxation time of linear"
   ]
  },
  {
   "cell_type": "code",
   "execution_count": 0,
   "metadata": {
    "collapsed": false,
    "scrolled": true
   },
   "outputs": [
   ],
   "source": [
    "iterations[0].chain[-1].lambdaArr"
   ]
  },
  {
   "cell_type": "code",
   "execution_count": 0,
   "metadata": {
    "collapsed": false
   },
   "outputs": [
   ],
   "source": [
    "iterations[1].chain[-1][0].lambdaArr"
   ]
  },
  {
   "cell_type": "code",
   "execution_count": 0,
   "metadata": {
    "collapsed": false
   },
   "outputs": [
   ],
   "source": [
    "iterations[2].chain[-1][0].lambdaArr"
   ]
  },
  {
   "cell_type": "code",
   "execution_count": 0,
   "metadata": {
    "collapsed": false
   },
   "outputs": [
   ],
   "source": [
    "iterations[3].chain[-1][0].lambdaArr"
   ]
  },
  {
   "cell_type": "code",
   "execution_count": 0,
   "metadata": {
    "collapsed": false
   },
   "outputs": [
   ],
   "source": [
    "iterations[4].chain[-1][0].lambdaArr"
   ]
  },
  {
   "cell_type": "code",
   "execution_count": 0,
   "metadata": {
    "collapsed": false
   },
   "outputs": [
   ],
   "source": [
    "iterations[5].chain[-1][0].lambdaArr"
   ]
  },
  {
   "cell_type": "code",
   "execution_count": 0,
   "metadata": {
    "collapsed": false
   },
   "outputs": [
   ],
   "source": [
    "iterations[6].chain[-1][0].lambdaArr"
   ]
  },
  {
   "cell_type": "code",
   "execution_count": 0,
   "metadata": {
    "collapsed": false
   },
   "outputs": [
   ],
   "source": [
    "iterations[7].chain[-1][0].lambdaArr"
   ]
  },
  {
   "cell_type": "code",
   "execution_count": 0,
   "metadata": {
    "collapsed": false
   },
   "outputs": [
   ],
   "source": [
    "iterations[8].chain[-1][0].lambdaArr"
   ]
  },
  {
   "cell_type": "code",
   "execution_count": 0,
   "metadata": {
    "collapsed": false
   },
   "outputs": [
   ],
   "source": [
    "iterations[9].chain[-1][0].lambdaArr"
   ]
  },
  {
   "cell_type": "markdown",
   "metadata": {
    "collapsed": false
   },
   "source": [
    "# Convergence of pure linear"
   ]
  },
  {
   "cell_type": "code",
   "execution_count": 0,
   "metadata": {
    "collapsed": false
   },
   "outputs": [
   ],
   "source": [
    "iterations[0].add((CalculationLinear('linear_'+str(iterations[0].w)+'_'+str(len(iterations[0].chain)+1), nk, 1, nChains, num_gpu, simTime)))"
   ]
  },
  {
   "cell_type": "code",
   "execution_count": 0,
   "metadata": {
    "collapsed": false
   },
   "outputs": [
   ],
   "source": [
    "iterations[0].chain[-1].set_pcd_cr_input(iterations[0].chain[-2].lambdaArr,iterations[0].chain[-2].gArr)"
   ]
  },
  {
   "cell_type": "code",
   "execution_count": 0,
   "metadata": {
    "collapsed": false
   },
   "outputs": [
   ],
   "source": [
    "iterations[0].chain[-1].calc()"
   ]
  },
  {
   "cell_type": "code",
   "execution_count": 0,
   "metadata": {
    "collapsed": false
   },
   "outputs": [
   ],
   "source": [
    "iterations[0].chain[-1].check_self()"
   ]
  },
  {
   "cell_type": "code",
   "execution_count": 0,
   "metadata": {
    "collapsed": false
   },
   "outputs": [
   ],
   "source": [
    "x.lambdaArr"
   ]
  },
  {
   "cell_type": "code",
   "execution_count": 0,
   "metadata": {
    "collapsed": false
   },
   "outputs": [
   ],
   "source": [
    "iterations[0].chain[0].token"
   ]
  },
  {
   "cell_type": "code",
   "execution_count": 0,
   "metadata": {
    "collapsed": false
   },
   "outputs": [
   ],
   "source": [
    "iterations[0].chain[0].lambdaArr"
   ]
  },
  {
   "cell_type": "code",
   "execution_count": 0,
   "metadata": {
    "collapsed": false
   },
   "outputs": [
   ],
   "source": [
    "iterations[0].chain[-1].lambdaArr"
   ]
  },
  {
   "cell_type": "code",
   "execution_count": 0,
   "metadata": {
    "collapsed": false
   },
   "outputs": [
   ],
   "source": [
    "x.fdt_result_x"
   ]
  },
  {
   "cell_type": "code",
   "execution_count": 0,
   "metadata": {
    "collapsed": false
   },
   "outputs": [
   ],
   "source": [
    "x.plot_fit_results()"
   ]
  },
  {
   "cell_type": "code",
   "execution_count": 0,
   "metadata": {
    "collapsed": false
   },
   "outputs": [
   ],
   "source": [
    "iterations[0].chain[-1].plot_fit_results()"
   ]
  },
  {
   "cell_type": "code",
   "execution_count": 0,
   "metadata": {
    "collapsed": false
   },
   "outputs": [
   ],
   "source": [
    "fig = plt.figure(figsize=(8, 6))\n",
    "\n",
    "ax1 = fig.add_subplot(111)\n",
    "\n",
    "ax1.set_title(\"Entanglement lifetime distribution for linear\")\n",
    "ax1.set_xlabel(r'$t/\\tau_c$')\n",
    "ax1.set_ylabel(r'$\\mathbb{P}(\\tau)$')\n",
    "\n",
    "ax1.scatter(x.lambdaArr, np.cumsum(np.multiply(x.lambdaArr, x.gArr))/np.dot(x.lambdaArr, x.gArr), label=r'Iteration 0')\n",
    "ax1.scatter(iterations[0].chain[0].lambdaArr, np.cumsum(np.multiply(iterations[0].chain[0].lambdaArr, iterations[0].chain[0].gArr)/np.dot(iterations[0].chain[0].lambdaArr, iterations[0].chain[0].gArr)), label=r'Iteration 1')\n",
    "ax1.scatter(iterations[0].chain[1].lambdaArr, np.cumsum(np.multiply(iterations[0].chain[1].lambdaArr, iterations[0].chain[1].gArr)/np.dot(iterations[0].chain[1].lambdaArr, iterations[0].chain[1].gArr)), label=r'Iteration 2')\n",
    "# ax1.scatter(iterations[0].chain[2].lambdaArr, np.cumsum(np.multiply(iterations[0].chain[2].lambdaArr, iterations[0].chain[2].gArr)/np.dot(iterations[0].chain[2].lambdaArr, iterations[0].chain[2].gArr)), label=r'Iteration 3')\n",
    "leg = ax1.legend()\n",
    "ax1.set_xscale('log')\n",
    "#ax1.set_yscale('log')\n",
    "\n",
    "plt.show()"
   ]
  },
  {
   "cell_type": "markdown",
   "metadata": {
    "collapsed": false
   },
   "source": [
    "### Compare $f_d(t)$"
   ]
  },
  {
   "cell_type": "code",
   "execution_count": 0,
   "metadata": {
    "collapsed": false
   },
   "outputs": [
   ],
   "source": [
    "x.fdt_result_y"
   ]
  },
  {
   "cell_type": "code",
   "execution_count": 0,
   "metadata": {
    "collapsed": false
   },
   "outputs": [
   ],
   "source": [
    "fig = plt.figure(figsize=(12, 8))\n",
    "\n",
    "ax1 = fig.add_subplot(111)\n",
    "\n",
    "ax1.set_title(\"Entanglement lifetime distribution\")\n",
    "ax1.set_xlabel(r'$t/\\tau_c$')\n",
    "ax1.set_ylabel(r'$f_d(t)$')\n",
    "\n",
    "ax1.scatter(x.fdt_result_x, x.fdt_result_y, label=r'Iteration 0')\n",
    "ax1.plot(x.fdt_result_x, fdtvec(time=x.fdt_result_x, params=np.append(x.lambdaArr, x.gArr)), c='k')\n",
    "ax1.scatter(iterations[0].chain[0].fdt_result_x, iterations[0].chain[0].fdt_result_y, label=r'Iteration 1')\n",
    "ax1.plot(iterations[0].chain[0].fdt_result_x, fdtvec(time=iterations[0].chain[0].fdt_result_x, params=np.append(iterations[0].chain[0].lambdaArr, iterations[0].chain[0].gArr)), c='k')\n",
    "ax1.scatter(iterations[0].chain[1].fdt_result_x, iterations[0].chain[1].fdt_result_y, label=r'Iteration 2')\n",
    "ax1.plot(iterations[0].chain[1].fdt_result_x, fdtvec(time=iterations[0].chain[1].fdt_result_x, params=np.append(iterations[0].chain[1].lambdaArr, iterations[0].chain[1].gArr)), c='k')\n",
    "# ax1.scatter(iterations[0].chain[2].fdt_result_x, iterations[0].chain[2].fdt_result_y, label=r'Iteration 3')\n",
    "# ax1.plot(iterations[0].chain[2].fdt_result_x, fdtvec(time=iterations[0].chain[2].fdt_result_x, params=np.append(iterations[0].chain[2].lambdaArr, iterations[0].chain[2].gArr)), c='k')\n",
    "leg = ax1.legend()\n",
    "plt.xlim(xmin=0.1)\n",
    "# plt.ylim(ymax=1.0)\n",
    "ax1.set_xscale('log')\n",
    "ax1.set_yscale('log')\n",
    "\n",
    "plt.show()"
   ]
  },
  {
   "cell_type": "code",
   "execution_count": 0,
   "metadata": {
    "collapsed": false
   },
   "outputs": [
   ],
   "source": [
    "f = open('fdt_lin_0.dat','w')\n",
    "for i in zip(x.fdt_result_x, x.fdt_result_y):\n",
    "    f.write(str(i[0])+'\\t'+str(i[1])+'\\n')\n",
    "f.close()"
   ]
  },
  {
   "cell_type": "code",
   "execution_count": 0,
   "metadata": {
    "collapsed": false
   },
   "outputs": [
   ],
   "source": [
    "f = open('fdt_lin_1.dat','w')\n",
    "for i in zip(iterations[0].chain[0].fdt_result_x, iterations[0].chain[0].fdt_result_y):\n",
    "    f.write(str(i[0])+'\\t'+str(i[1])+'\\n')\n",
    "f.close()"
   ]
  },
  {
   "cell_type": "code",
   "execution_count": 0,
   "metadata": {
    "collapsed": false
   },
   "outputs": [
   ],
   "source": [
    "f = open('fdt_lin_2.dat','w')\n",
    "for i in zip(iterations[0].chain[1].fdt_result_x, iterations[0].chain[1].fdt_result_y):\n",
    "    f.write(str(i[0])+'\\t'+str(i[1])+'\\n')\n",
    "f.close()"
   ]
  },
  {
   "cell_type": "markdown",
   "metadata": {
    "collapsed": false
   },
   "source": [
    "### Compare $G(t)$"
   ]
  },
  {
   "cell_type": "code",
   "execution_count": 0,
   "metadata": {
    "collapsed": false
   },
   "outputs": [
   ],
   "source": [
    "omegaPoints = 1000\n",
    "omegaMin = -8\n",
    "omegaMax = 5\n",
    "omegaArr=10**(omegaMin+(np.array(range(omegaPoints), float) + 1.0)/omegaPoints*(omegaMax-omegaMin))\n",
    "\n",
    "fig3 = plt.figure(figsize=(16, 6))\n",
    "\n",
    "ax1 = fig3.add_subplot(121)\n",
    "\n",
    "ax1.set_title(\"Relaxation modulus G(t)\")\n",
    "ax1.set_xlabel(r'$t/\\tau_c$')\n",
    "ax1.set_ylabel(r'log residuals')\n",
    "\n",
    "ax1.scatter(x.gt_result_x, x.gt_result_y, label=r'Iteration 0')\n",
    "ax1.plot(x.gt_result_x, sum(x.gt_gArr)*Gt_MMM_vec(time=x.gt_result_x, params=np.append(x.gt_lambdaArr, x.gt_gArr)), c='k')\n",
    "ax1.scatter(iterations[0].chain[0].gt_result_x, iterations[0].chain[0].gt_result_y, c='r', label=r'Iteration 1')\n",
    "ax1.plot(iterations[0].chain[0].gt_result_x, sum(iterations[0].chain[0].gt_gArr)*Gt_MMM_vec(time=iterations[0].chain[0].gt_result_x, params=np.append(iterations[0].chain[0].gt_lambdaArr, iterations[0].chain[0].gt_gArr)), c='k')\n",
    "ax1.scatter(iterations[0].chain[1].gt_result_x, iterations[0].chain[1].gt_result_y, label=r'Iteration 2')\n",
    "ax1.plot(iterations[0].chain[1].gt_result_x, sum(iterations[0].chain[1].gt_gArr)*Gt_MMM_vec(time=iterations[0].chain[1].gt_result_x, params=np.append(iterations[0].chain[1].gt_lambdaArr, iterations[0].chain[1].gt_gArr)), c='k')\n",
    "# ax1.scatter(iterations[0].chain[2].gt_result_x, iterations[0].chain[2].gt_result_y, label=r'Iteration 3')\n",
    "# ax1.plot(iterations[0].chain[2].gt_result_x, sum(iterations[0].chain[2].gt_gArr)*Gt_MMM_vec(time=iterations[0].chain[2].gt_result_x, params=np.append(iterations[0].chain[2].gt_lambdaArr, iterations[0].chain[2].gt_gArr)), c='k')\n",
    "# ax1.scatter(gt_BSW_x, gt_BSW_y, label=r'Previous code with BSW fit')\n",
    "\n",
    "leg = ax1.legend()\n",
    "ax1.set_xscale('log')\n",
    "ax1.set_yscale('log')\n",
    "\n",
    "ax2 = fig3.add_subplot(122)\n",
    "\n",
    "ax2.set_title(r'Dynamic modulus $G*(\\omega)$')\n",
    "ax2.set_xlabel(r'$\\omega$')\n",
    "ax2.set_ylabel(r'$G*$')\n",
    "\n",
    "ax2.plot(omegaArr,Gp_MMM_vec(omega=omegaArr,params=np.append(x.gt_lambdaArr, x.gt_gArr)), c='k', label=r'$G^\\prime$')\n",
    "ax2.plot(omegaArr,Gdp_MMM_vec(omega=omegaArr,params=np.append(x.gt_lambdaArr, x.gt_gArr)), c='k', label=r'$G^{\\prime\\prime}$')\n",
    "ax2.plot(omegaArr,Gp_MMM_vec(omega=omegaArr,params=np.append(iterations[0].chain[0].gt_lambdaArr, iterations[0].chain[0].gt_gArr)), c='r', label=r'$G^\\prime$')\n",
    "ax2.plot(omegaArr,Gdp_MMM_vec(omega=omegaArr,params=np.append(iterations[0].chain[0].gt_lambdaArr, iterations[0].chain[0].gt_gArr)), c='r', label=r'$G^{\\prime\\prime}$')\n",
    "ax2.plot(omegaArr,Gp_MMM_vec(omega=omegaArr,params=np.append(iterations[0].chain[1].gt_lambdaArr, iterations[0].chain[1].gt_gArr)), c='b', label=r'$G^\\prime$')\n",
    "ax2.plot(omegaArr,Gdp_MMM_vec(omega=omegaArr,params=np.append(iterations[0].chain[1].gt_lambdaArr, iterations[0].chain[1].gt_gArr)), c='b', label=r'$G^{\\prime\\prime}$')\n",
    "\n",
    "leg = ax2.legend()\n",
    "ax2.set_yscale('log')\n",
    "ax2.set_xscale('log')\n",
    "\n",
    "\n",
    "plt.show()"
   ]
  },
  {
   "cell_type": "code",
   "execution_count": 0,
   "metadata": {
    "collapsed": false
   },
   "outputs": [
   ],
   "source": [
    "f = open('gt_lin_0.dat','w')\n",
    "for i in zip(x.gt_result_x, x.gt_result_y):\n",
    "    f.write(str(i[0])+'\\t'+str(i[1])+'\\n')\n",
    "f.close()"
   ]
  },
  {
   "cell_type": "code",
   "execution_count": 0,
   "metadata": {
    "collapsed": false
   },
   "outputs": [
   ],
   "source": [
    "f = open('gt_lin_1.dat','w')\n",
    "for i in zip(iterations[0].chain[0].gt_result_x, iterations[0].chain[0].gt_result_y):\n",
    "    f.write(str(i[0])+'\\t'+str(i[1])+'\\n')\n",
    "f.close()"
   ]
  },
  {
   "cell_type": "code",
   "execution_count": 0,
   "metadata": {
    "collapsed": false
   },
   "outputs": [
   ],
   "source": [
    "f = open('gt_lin_2.dat','w')\n",
    "for i in zip(iterations[0].chain[1].gt_result_x, iterations[0].chain[1].gt_result_y):\n",
    "    f.write(str(i[0])+'\\t'+str(i[1])+'\\n')\n",
    "f.close()"
   ]
  },
  {
   "cell_type": "markdown",
   "metadata": {
    "collapsed": false
   },
   "source": [
    "# Convergence of pure star"
   ]
  },
  {
   "cell_type": "code",
   "execution_count": 0,
   "metadata": {
    "collapsed": false
   },
   "outputs": [
   ],
   "source": [
    "y.lambdaArr"
   ]
  },
  {
   "cell_type": "code",
   "execution_count": 0,
   "metadata": {
    "collapsed": false
   },
   "outputs": [
   ],
   "source": [
    "iterations[-1].chain[-1].lambdaArr"
   ]
  },
  {
   "cell_type": "code",
   "execution_count": 0,
   "metadata": {
    "collapsed": false
   },
   "outputs": [
   ],
   "source": [
    "iterations[-1].chain[-1].token"
   ]
  },
  {
   "cell_type": "code",
   "execution_count": 0,
   "metadata": {
    "collapsed": false
   },
   "outputs": [
   ],
   "source": [
    "fig = plt.figure(figsize=(8, 6))\n",
    "\n",
    "ax1 = fig.add_subplot(111)\n",
    "\n",
    "ax1.set_title(\"Entanglement lifetime distribution\")\n",
    "ax1.set_xlabel(r'$t/\\tau_c$')\n",
    "ax1.set_ylabel(r'$f_d(t)$')\n",
    "\n",
    "ax1.scatter(y.fdt_result_x, y.fdt_result_y, label=r'Iteration 0')\n",
    "ax1.plot(y.fdt_result_x, fdtvec(time=y.fdt_result_x, params=np.append(y.lambdaArr, y.gArr)), c='k')\n",
    "ax1.scatter(iterations[-1].chain[0].fdt_result_x, iterations[-1].chain[0].fdt_result_y, label=r'Iteration 1')\n",
    "ax1.plot(iterations[-1].chain[0].fdt_result_x, fdtvec(time=iterations[-1].chain[0].fdt_result_x, params=np.append(iterations[-1].chain[0].lambdaArr, iterations[-1].chain[0].gArr)), c='k')\n",
    "# ax1.scatter(iterations[0].chain[1].fdt_result_x, iterations[0].chain[1].fdt_result_y, label=r'Iteration 2')\n",
    "# ax1.plot(iterations[0].chain[1].fdt_result_x, fdtvec(time=iterations[0].chain[1].fdt_result_x, params=np.append(iterations[0].chain[1].lambdaArr, iterations[0].chain[1].gArr)), c='k')\n",
    "# ax1.scatter(iterations[0].chain[2].fdt_result_x, iterations[0].chain[2].fdt_result_y, label=r'Iteration 3')\n",
    "# ax1.plot(iterations[0].chain[2].fdt_result_x, fdtvec(time=iterations[0].chain[2].fdt_result_x, params=np.append(iterations[0].chain[2].lambdaArr, iterations[0].chain[2].gArr)), c='k')\n",
    "leg = ax1.legend()\n",
    "# plt.xlim(xmin=0.5*min(self.lambdaArr), xmax=2*max(self.lambdaArr))\n",
    "plt.ylim(ymin=1e-11, ymax=2)\n",
    "ax1.set_xscale('log')\n",
    "ax1.set_yscale('log')\n",
    "\n",
    "plt.show()"
   ]
  },
  {
   "cell_type": "code",
   "execution_count": 0,
   "metadata": {
    "collapsed": false
   },
   "outputs": [
   ],
   "source": [
    "x.lambdaArr"
   ]
  },
  {
   "cell_type": "markdown",
   "metadata": {
    "collapsed": false
   },
   "source": [
    "## Dynamic modulus of the mixture"
   ]
  },
  {
   "cell_type": "code",
   "execution_count": 0,
   "metadata": {
    "collapsed": false
   },
   "outputs": [
   ],
   "source": [
    "x.gt_result_y[0]"
   ]
  },
  {
   "cell_type": "code",
   "execution_count": 0,
   "metadata": {
    "collapsed": false
   },
   "outputs": [
   ],
   "source": [
    "iterations[1].chain[0][0]"
   ]
  },
  {
   "cell_type": "code",
   "execution_count": 0,
   "metadata": {
    "collapsed": false
   },
   "outputs": [
   ],
   "source": [
    "omegaPoints = 1000\n",
    "omegaMin = -9\n",
    "omegaMax = 1\n",
    "omegaArr=10**(omegaMin+(np.array(range(omegaPoints), float) + 1.0)/omegaPoints*(omegaMax-omegaMin))\n",
    "\n",
    "fig3 = plt.figure(figsize=(14, 8))\n",
    "\n",
    "ax2 = fig3.add_subplot(111)\n",
    "\n",
    "ax2.set_title(r'Dynamic modulus $G*(\\omega)$')\n",
    "ax2.set_xlabel(r'$\\omega$')\n",
    "ax2.set_ylabel(r'$G*$')\n",
    "\n",
    "ax2.plot(omegaArr,iterations[0].chain[0].gt_result_y[0]*Gp_MMM_vec(omega=omegaArr,params=np.append(iterations[0].chain[0].gt_lambdaArr, iterations[0].chain[0].gt_gArr)), c='C0', label=r'100% linear')\n",
    "ax2.plot(omegaArr,iterations[0].chain[0].gt_result_y[0]*Gdp_MMM_vec(omega=omegaArr,params=np.append(iterations[0].chain[0].gt_lambdaArr, iterations[0].chain[0].gt_gArr)), c='C0')\n",
    "\n",
    "ax2.plot(omegaArr,iterations[1].w*iterations[1].chain[0][0].gt_result_y[0]*Gp_MMM_vec(omega=omegaArr,params=np.append(iterations[1].chain[0][0].gt_lambdaArr, iterations[1].chain[0][0].gt_gArr))+(1-iterations[1].w)*iterations[1].chain[0][1].gt_result_y[0]*Gp_MMM_vec(omega=omegaArr,params=np.append(iterations[1].chain[0][1].gt_lambdaArr, iterations[1].chain[0][1].gt_gArr)), c='C1', label=r'90% linear')\n",
    "ax2.plot(omegaArr,iterations[1].w*iterations[1].chain[0][0].gt_result_y[0]*Gdp_MMM_vec(omega=omegaArr,params=np.append(iterations[1].chain[0][0].gt_lambdaArr, iterations[1].chain[0][0].gt_gArr))+(1-iterations[1].w)*iterations[1].chain[0][1].gt_result_y[0]*Gdp_MMM_vec(omega=omegaArr,params=np.append(iterations[1].chain[0][1].gt_lambdaArr, iterations[1].chain[0][1].gt_gArr)), c='C1')\n",
    "\n",
    "ax2.plot(omegaArr,iterations[2].w*iterations[2].chain[0][0].gt_result_y[0]*Gp_MMM_vec(omega=omegaArr,params=np.append(iterations[2].chain[0][0].gt_lambdaArr, iterations[2].chain[0][0].gt_gArr))+(1-iterations[2].w)*iterations[2].chain[0][1].gt_result_y[0]*Gp_MMM_vec(omega=omegaArr,params=np.append(iterations[2].chain[0][1].gt_lambdaArr, iterations[2].chain[0][1].gt_gArr)), c='C2', label=r'80% linear')\n",
    "ax2.plot(omegaArr,iterations[2].w*iterations[2].chain[0][0].gt_result_y[0]*Gdp_MMM_vec(omega=omegaArr,params=np.append(iterations[2].chain[0][0].gt_lambdaArr, iterations[2].chain[0][0].gt_gArr))+(1-iterations[2].w)*iterations[2].chain[0][1].gt_result_y[0]*Gdp_MMM_vec(omega=omegaArr,params=np.append(iterations[2].chain[0][1].gt_lambdaArr, iterations[2].chain[0][1].gt_gArr)), c='C2')\n",
    "\n",
    "ax2.plot(omegaArr,iterations[3].w*iterations[3].chain[0][0].gt_result_y[0]*Gp_MMM_vec(omega=omegaArr,params=np.append(iterations[3].chain[0][0].gt_lambdaArr, iterations[3].chain[0][0].gt_gArr))+(1-iterations[3].w)*iterations[3].chain[0][1].gt_result_y[0]*Gp_MMM_vec(omega=omegaArr,params=np.append(iterations[3].chain[0][1].gt_lambdaArr, iterations[3].chain[0][1].gt_gArr)), c='C3', label=r'70% linear')\n",
    "ax2.plot(omegaArr,iterations[3].w*iterations[3].chain[0][0].gt_result_y[0]*Gdp_MMM_vec(omega=omegaArr,params=np.append(iterations[3].chain[0][0].gt_lambdaArr, iterations[3].chain[0][0].gt_gArr))+(1-iterations[3].w)*iterations[3].chain[0][1].gt_result_y[0]*Gdp_MMM_vec(omega=omegaArr,params=np.append(iterations[3].chain[0][1].gt_lambdaArr, iterations[3].chain[0][1].gt_gArr)), c='C3')\n",
    "\n",
    "ax2.plot(omegaArr,iterations[4].w*iterations[4].chain[0][0].gt_result_y[0]*Gp_MMM_vec(omega=omegaArr,params=np.append(iterations[4].chain[0][0].gt_lambdaArr, iterations[4].chain[0][0].gt_gArr))+(1-iterations[4].w)*iterations[4].chain[0][1].gt_result_y[0]*Gp_MMM_vec(omega=omegaArr,params=np.append(iterations[4].chain[0][1].gt_lambdaArr, iterations[4].chain[0][1].gt_gArr)), c='C4', label=r'60% linear')\n",
    "ax2.plot(omegaArr,iterations[4].w*iterations[4].chain[0][0].gt_result_y[0]*Gdp_MMM_vec(omega=omegaArr,params=np.append(iterations[4].chain[0][0].gt_lambdaArr, iterations[4].chain[0][0].gt_gArr))+(1-iterations[4].w)*iterations[4].chain[0][1].gt_result_y[0]*Gdp_MMM_vec(omega=omegaArr,params=np.append(iterations[4].chain[0][1].gt_lambdaArr, iterations[4].chain[0][1].gt_gArr)), c='C5')\n",
    "\n",
    "ax2.plot(omegaArr,iterations[5].w*iterations[5].chain[0][0].gt_result_y[0]*Gp_MMM_vec(omega=omegaArr,params=np.append(iterations[5].chain[0][0].gt_lambdaArr, iterations[5].chain[0][0].gt_gArr))+(1-iterations[5].w)*iterations[5].chain[0][1].gt_result_y[0]*Gp_MMM_vec(omega=omegaArr,params=np.append(iterations[5].chain[0][1].gt_lambdaArr, iterations[5].chain[0][1].gt_gArr)), c='C6', label=r'50% linear')\n",
    "ax2.plot(omegaArr,iterations[5].w*iterations[5].chain[0][0].gt_result_y[0]*Gdp_MMM_vec(omega=omegaArr,params=np.append(iterations[5].chain[0][0].gt_lambdaArr, iterations[5].chain[0][0].gt_gArr))+(1-iterations[5].w)*iterations[5].chain[0][1].gt_result_y[0]*Gdp_MMM_vec(omega=omegaArr,params=np.append(iterations[5].chain[0][1].gt_lambdaArr, iterations[5].chain[0][1].gt_gArr)), c='C6')\n",
    "\n",
    "ax2.plot(omegaArr,iterations[6].w*iterations[6].chain[0][0].gt_result_y[0]*Gp_MMM_vec(omega=omegaArr,params=np.append(iterations[6].chain[0][0].gt_lambdaArr, iterations[6].chain[0][0].gt_gArr))+(1-iterations[6].w)*iterations[6].chain[0][1].gt_result_y[0]*Gp_MMM_vec(omega=omegaArr,params=np.append(iterations[6].chain[0][1].gt_lambdaArr, iterations[6].chain[0][1].gt_gArr)), c='C7', label=r'40% linear')\n",
    "ax2.plot(omegaArr,iterations[6].w*iterations[6].chain[0][0].gt_result_y[0]*Gdp_MMM_vec(omega=omegaArr,params=np.append(iterations[6].chain[0][0].gt_lambdaArr, iterations[6].chain[0][0].gt_gArr))+(1-iterations[6].w)*iterations[6].chain[0][1].gt_result_y[0]*Gdp_MMM_vec(omega=omegaArr,params=np.append(iterations[6].chain[0][1].gt_lambdaArr, iterations[6].chain[0][1].gt_gArr)), c='C7')\n",
    "\n",
    "ax2.plot(omegaArr,iterations[7].w*iterations[7].chain[0][0].gt_result_y[0]*Gp_MMM_vec(omega=omegaArr,params=np.append(iterations[7].chain[0][0].gt_lambdaArr, iterations[7].chain[0][0].gt_gArr))+(1-iterations[7].w)*iterations[7].chain[0][1].gt_result_y[0]*Gp_MMM_vec(omega=omegaArr,params=np.append(iterations[7].chain[0][1].gt_lambdaArr, iterations[7].chain[0][1].gt_gArr)), c='C8', label=r'30% linear')\n",
    "ax2.plot(omegaArr,iterations[7].w*iterations[7].chain[0][0].gt_result_y[0]*Gdp_MMM_vec(omega=omegaArr,params=np.append(iterations[7].chain[0][0].gt_lambdaArr, iterations[7].chain[0][0].gt_gArr))+(1-iterations[7].w)*iterations[7].chain[0][1].gt_result_y[0]*Gdp_MMM_vec(omega=omegaArr,params=np.append(iterations[7].chain[0][1].gt_lambdaArr, iterations[7].chain[0][1].gt_gArr)), c='C8')\n",
    "\n",
    "ax2.plot(omegaArr,iterations[8].w*iterations[8].chain[0][0].gt_result_y[0]*Gp_MMM_vec(omega=omegaArr,params=np.append(iterations[8].chain[0][0].gt_lambdaArr, iterations[8].chain[0][0].gt_gArr))+(1-iterations[8].w)*iterations[8].chain[0][1].gt_result_y[0]*Gp_MMM_vec(omega=omegaArr,params=np.append(iterations[8].chain[0][1].gt_lambdaArr, iterations[8].chain[0][1].gt_gArr)), c='C9', label=r'20% linear')\n",
    "ax2.plot(omegaArr,iterations[8].w*iterations[8].chain[0][0].gt_result_y[0]*Gdp_MMM_vec(omega=omegaArr,params=np.append(iterations[8].chain[0][0].gt_lambdaArr, iterations[8].chain[0][0].gt_gArr))+(1-iterations[8].w)*iterations[8].chain[0][1].gt_result_y[0]*Gdp_MMM_vec(omega=omegaArr,params=np.append(iterations[8].chain[0][1].gt_lambdaArr, iterations[8].chain[0][1].gt_gArr)), c='C9')\n",
    "\n",
    "ax2.plot(omegaArr,iterations[9].w*iterations[9].chain[0][0].gt_result_y[0]*Gp_MMM_vec(omega=omegaArr,params=np.append(iterations[9].chain[0][0].gt_lambdaArr, iterations[9].chain[0][0].gt_gArr))+(1-iterations[9].w)*iterations[9].chain[0][1].gt_result_y[0]*Gp_MMM_vec(omega=omegaArr,params=np.append(iterations[9].chain[0][1].gt_lambdaArr, iterations[9].chain[0][1].gt_gArr)), c='C0', label=r'10% linear')\n",
    "ax2.plot(omegaArr,iterations[9].w*iterations[9].chain[0][0].gt_result_y[0]*Gdp_MMM_vec(omega=omegaArr,params=np.append(iterations[9].chain[0][0].gt_lambdaArr, iterations[9].chain[0][0].gt_gArr))+(1-iterations[9].w)*iterations[9].chain[0][1].gt_result_y[0]*Gdp_MMM_vec(omega=omegaArr,params=np.append(iterations[9].chain[0][1].gt_lambdaArr, iterations[9].chain[0][1].gt_gArr)), c='C0')\n",
    "\n",
    "ax2.plot(omegaArr,iterations[10].chain[0].gt_result_y[0]*Gp_MMM_vec(omega=omegaArr,params=np.append(iterations[10].chain[0].gt_lambdaArr, iterations[10].chain[0].gt_gArr)), c='k', label=r'0% linear')\n",
    "ax2.plot(omegaArr,iterations[10].chain[0].gt_result_y[0]*Gdp_MMM_vec(omega=omegaArr,params=np.append(iterations[10].chain[0].gt_lambdaArr, iterations[10].chain[0].gt_gArr)), c='k')\n",
    "\n",
    "plt.ylim(ymin=1e-7, ymax=100)\n",
    "\n",
    "leg = ax2.legend()\n",
    "ax2.set_yscale('log')\n",
    "ax2.set_xscale('log')\n",
    "\n",
    "\n",
    "plt.show()"
   ]
  },
  {
   "cell_type": "code",
   "execution_count": 0,
   "metadata": {
    "collapsed": false
   },
   "outputs": [
   ],
   "source": [
    "0.01*(340)**3.48"
   ]
  },
  {
   "cell_type": "code",
   "execution_count": 0,
   "metadata": {
    "collapsed": false
   },
   "outputs": [
   ],
   "source": [
    "2.5*np.exp(0.6*38)"
   ]
  },
  {
   "cell_type": "code",
   "execution_count": 0,
   "metadata": {
    "collapsed": false
   },
   "outputs": [
   ],
   "source": [
    "0.01*(340)**3.48/(2.5*np.exp(0.6*38))"
   ]
  },
  {
   "cell_type": "code",
   "execution_count": 0,
   "metadata": {
    "collapsed": false
   },
   "outputs": [
   ],
   "source": [
    "0.01*(6)**3.48/(2.5*np.exp(0.6*15))"
   ]
  },
  {
   "cell_type": "code",
   "execution_count": 0,
   "metadata": {
    "collapsed": false
   },
   "outputs": [
   ],
   "source": [
   ]
  }
 ],
 "metadata": {
  "kernelspec": {
   "display_name": "anaconda_kernel",
   "language": "python",
   "name": "anaconda_kernel"
  },
  "language_info": {
   "codemirror_mode": {
    "name": "ipython",
    "version": 2
   },
   "file_extension": ".py",
   "mimetype": "text/x-python",
   "name": "python",
   "nbconvert_exporter": "python",
   "pygments_lexer": "ipython2",
   "version": "2.7.15"
  }
 },
 "nbformat": 4,
 "nbformat_minor": 0
}