{
 "cells": [
  {
   "cell_type": "markdown",
   "metadata": {
    "collapsed": false
   },
   "source": [
    "# IPython interface for running GPU DSM + fitting on cluster"
   ]
  },
  {
   "cell_type": "code",
   "execution_count": 38,
   "metadata": {
    "collapsed": false
   },
   "outputs": [
   ],
   "source": [
    "from dsm_tools import ssh_init, job_start, jobs_done, job_transfer_clean, uuid, os, server, username, password\n",
    "from fdt_fit import fdt_fit, fdt, fdtvec\n",
    "import numpy as np\n",
    "import matplotlib.pyplot as plt"
   ]
  },
  {
   "cell_type": "markdown",
   "metadata": {
    "collapsed": false
   },
   "source": [
    "** Choose input parameters for GPU DSM **"
   ]
  },
  {
   "cell_type": "code",
   "execution_count": 112,
   "metadata": {
    "collapsed": false
   },
   "outputs": [
   ],
   "source": [
    "class Calculation:\n",
    "    #Input parameters\n",
    "    beta = 1\n",
    "    nChains = 5000\n",
    "    velocityGradient = (0.0, 0.0, 0.0, 0.0, 0.0, 0.0, 0.0, 0.0, 0.0)\n",
    "    CDtoggle = 0\n",
    "    PDtoggle = 0\n",
    "    calcMode = 1\n",
    "    timeStep = 1\n",
    "    simTime = 100000\n",
    "    token = None #folder name\n",
    "    ssh = None #storing Paramiko SSH object\n",
    "    jobIds = None #array of job IDs on cluster\n",
    "    jobStatus = 0\n",
    "    #Calculation options (number of GPU)\n",
    "    fdt_x = None\n",
    "    fdt_y = None\n",
    "    lambdaArr = None\n",
    "    gArr = None\n",
    "\n",
    "    #Function to generate input file\n",
    "    def generate_token(self):\n",
    "        self.token = str(uuid.uuid4())\n",
    "        return\n",
    "\n",
    "    #Function to start calculation on cluster\n",
    "    def calc(self):\n",
    "        self.ssh=ssh_init()\n",
    "        self.jobIds = job_start(self.ssh, self.token)\n",
    "        self.jobStatus = 1\n",
    "        return\n",
    "\n",
    "    #Function to check the status of calculation\n",
    "    def check_self(self):\n",
    "        if jobStatus==0:\n",
    "            if not self.ssh:\n",
    "                self.ssh=ssh_init()\n",
    "            if jobs_done(self.ssh, self.jobIds):\n",
    "                jobStatus==1\n",
    "                print('Calculation is done. Transfering results')\n",
    "                job_transfer_clean(self.ssh, self.token)\n",
    "\n",
    "                #Read f_d(t) simulation rtesults and fit\n",
    "                with open(self.token + '/fdt_aver.dat') as f:\n",
    "                    lines = f.readlines()\n",
    "                    self.fdt_x = np.array([float(line.split()[0]) for line in lines])\n",
    "                    ydata = np.array([float(line.split()[1]) for line in lines])\n",
    "\n",
    "                self.fdt_y = 1.0-np.cumsum(ydata)/np.sum(ydata)\n",
    "\n",
    "                with open(self.token + '/fdt_MMM_fit.dat') as f:\n",
    "                    lines = f.readlines()\n",
    "                self.lambdaArr = np.array([float(line.split()[0]) for line in lines[1:]])\n",
    "                self.gArr = np.array([float(line.split()[1]) for line in lines[1:]])\n",
    "            else:\n",
    "                print('Still running, check back later')\n",
    "        else:\n",
    "            print('Calculation is finished')\n",
    "\n",
    "    #Initialize object of class\n",
    "    def __init__(self):\n",
    "        self.generate_token()\n",
    "        if not os.path.exists(self.token):\n",
    "            os.makedirs(self.token)\n",
    "        self.generate_input()\n",
    "\n",
    "\n",
    "class CalculationStar(Calculation):\n",
    "    #Type of chain\n",
    "    architecture = 'star'\n",
    "    nArms = 3\n",
    "    nkArms = [6, 6, 6]\n",
    "\n",
    "    def generate_input(self):\n",
    "        file = open(self.token + \"/input.dat\",\"w\")\n",
    "\n",
    "        file.write(str(self.beta)+'\\n')\n",
    "        file.write(self.architecture+'\\n')\n",
    "        file.write(str(self.nArms)+'\\n')\n",
    "        file.write(\" \".join(map(str,self.nkArms)) + '\\n')\n",
    "        file.write(str(self.nChains)+'\\n')\n",
    "        file.write(\" \".join(map(str,self.velocityGradient)) + '\\n')\n",
    "        file.write(str(self.CDtoggle)+'\\n')\n",
    "        file.write(str(self.PDtoggle)+'\\n')\n",
    "        file.write(str(self.calcMode)+'\\n')\n",
    "        file.write(str(self.timeStep)+'\\n')\n",
    "        file.write(str(self.simTime))\n",
    "\n",
    "        file.close()\n",
    "\n",
    "class CalculationLinear(Calculation):\n",
    "    #Type of chain\n",
    "    architecture = 'linear'\n",
    "    nk = 25\n",
    "\n",
    "    def generate_input(self):\n",
    "        file = open(self.token + \"/input.dat\",\"w\")\n",
    "\n",
    "        file.write(str(self.beta)+'\\n')\n",
    "        file.write(self.architecture+'\\n')\n",
    "        file.write(str(self.nk)+'\\n')\n",
    "        file.write(str(self.nChains)+'\\n')\n",
    "        file.write(\" \".join(map(str,self.velocityGradient)) + '\\n')\n",
    "        file.write(str(self.CDtoggle)+'\\n')\n",
    "        file.write(str(self.PDtoggle)+'\\n')\n",
    "        file.write(str(self.calcMode)+'\\n')\n",
    "        file.write(str(self.timeStep)+'\\n')\n",
    "        file.write(str(self.simTime))\n",
    "\n",
    "        file.close()"
   ]
  },
  {
   "cell_type": "code",
   "execution_count": 94,
   "metadata": {
    "collapsed": false
   },
   "outputs": [
   ],
   "source": [
    "x = CalculationLinear()"
   ]
  },
  {
   "cell_type": "code",
   "execution_count": 95,
   "metadata": {
    "collapsed": false
   },
   "outputs": [
   ],
   "source": [
    "x.token"
   ]
  },
  {
   "cell_type": "code",
   "execution_count": 96,
   "metadata": {
    "collapsed": false
   },
   "outputs": [
   ],
   "source": [
    "x.calc()"
   ]
  },
  {
   "cell_type": "code",
   "execution_count": 107,
   "metadata": {
    "collapsed": false,
    "scrolled": true
   },
   "outputs": [
   ],
   "source": [
    "x.check_self()"
   ]
  },
  {
   "cell_type": "markdown",
   "metadata": {
    "collapsed": false
   },
   "source": [
    "### Check results of simulation and fitting visually"
   ]
  },
  {
   "cell_type": "code",
   "execution_count": 137,
   "metadata": {
    "collapsed": false
   },
   "outputs": [
   ],
   "source": [
    "fig = plt.figure(figsize=(8, 6))\n",
    "\n",
    "ax1 = fig.add_subplot(111)\n",
    "\n",
    "ax1.set_title(\"Entanglement lifetime distribution\")\n",
    "ax1.set_xlabel(r'$t/\\tau_c$')\n",
    "ax1.set_ylabel(r'$f_d(t)$')\n",
    "\n",
    "ax1.scatter(xdata,ydata, c='r', label=r'$f_d(t)$')\n",
    "ax1.plot(xdata,fdtvec(time=xdata, params=np.append(lambdaArr, gArr)), c='b', label=r'MMM fit')\n",
    "#plt.ylim(ymin=1e-10)\n",
    "leg = ax1.legend()\n",
    "ax1.set_xscale('log')\n",
    "ax1.set_yscale('log')\n",
    "\n",
    "plt.show()"
   ]
  },
  {
   "cell_type": "code",
   "execution_count": 129,
   "metadata": {
    "collapsed": false
   },
   "outputs": [
   ],
   "source": [
    "lambdaArr"
   ]
  },
  {
   "cell_type": "code",
   "execution_count": 130,
   "metadata": {
    "collapsed": false
   },
   "outputs": [
   ],
   "source": [
    "gArr"
   ]
  },
  {
   "cell_type": "code",
   "execution_count": 140,
   "metadata": {
    "collapsed": false
   },
   "outputs": [
   ],
   "source": [
    "np.multiply(lambdaArr, gArr)/np.dot(lambdaArr, gArr)"
   ]
  },
  {
   "cell_type": "code",
   "execution_count": 142,
   "metadata": {
    "collapsed": false
   },
   "outputs": [
   ],
   "source": [
    "fig1 = plt.figure(figsize=(20, 6))\n",
    "ax0 = fig1.add_subplot(131)\n",
    "\n",
    "ax0.set_title(r'$p^{eq}\\left(\\tau\\right)$')\n",
    "ax0.set_xlabel(r'$\\lambda$')\n",
    "ax0.set_ylabel(r'$g$')\n",
    "\n",
    "#ax0.scatter(lambdaArr ,gArr, c='b', label=r'Second fit')\n",
    "ax0.scatter(lambdaArr ,np.multiply(lambdaArr, gArr)/np.dot(lambdaArr, gArr), c='b', label=r'Second fit')\n",
    "\n",
    "leg = ax0.legend()\n",
    "ax0.set_xscale('log')\n",
    "ax0.set_yscale('log')\n",
    "plt.xlim(xmin=1, xmax=1e4)\n",
    "plt.ylim(ymin=1e-2, ymax=1)\n",
    "\n",
    "plt.show()"
   ]
  },
  {
   "cell_type": "code",
   "execution_count": 113,
   "metadata": {
    "collapsed": false
   },
   "outputs": [
   ],
   "source": [
    "y = CalculationStar()"
   ]
  },
  {
   "cell_type": "code",
   "execution_count": 143,
   "metadata": {
    "collapsed": false
   },
   "outputs": [
   ],
   "source": [
    "y.token"
   ]
  },
  {
   "cell_type": "code",
   "execution_count": 115,
   "metadata": {
    "collapsed": false
   },
   "outputs": [
   ],
   "source": [
    "y.calc()"
   ]
  },
  {
   "cell_type": "code",
   "execution_count": 119,
   "metadata": {
    "collapsed": false
   },
   "outputs": [
   ],
   "source": [
    "y.check_self()"
   ]
  },
  {
   "cell_type": "code",
   "execution_count": 149,
   "metadata": {
    "collapsed": false
   },
   "outputs": [
   ],
   "source": [
    "with open(y.token + '/fdt.dat') as f:\n",
    "    lines = f.readlines()\n",
    "    xxdata = np.array([float(line.split()[0]) for line in lines])\n",
    "    yydata = np.array([float(line.split()[1]) for line in lines])\n",
    "\n",
    "xdata = 10**(xxdata/1000.0-10.0)\n",
    "ydata = 1.0-np.cumsum(yydata)/np.sum(yydata)\n",
    "\n",
    "with open(y.token + '/fdt_MMM_fit.dat') as f:\n",
    "    lines = f.readlines()\n",
    "lambdaArr = np.array([float(line.split()[0]) for line in lines[1:]])\n",
    "gArr = np.array([float(line.split()[1]) for line in lines[1:]])\n",
    "\n",
    "fig = plt.figure(figsize=(8, 6))\n",
    "\n",
    "ax1 = fig.add_subplot(111)\n",
    "\n",
    "ax1.set_title(\"Entanglement lifetime distribution\")\n",
    "ax1.set_xlabel(r'$t/\\tau_c$')\n",
    "ax1.set_ylabel(r'$f_d(t)$')\n",
    "\n",
    "ax1.scatter(xdata,ydata, c='r', label=r'$f_d(t)$')\n",
    "ax1.plot(xdata,fdtvec(time=xdata, params=np.append(lambdaArr, gArr)), c='b', label=r'MMM fit')\n",
    "#plt.ylim(ymin=1e-10)\n",
    "leg = ax1.legend()\n",
    "ax1.set_xscale('log')\n",
    "ax1.set_yscale('log')\n",
    "\n",
    "plt.show()"
   ]
  },
  {
   "cell_type": "code",
   "execution_count": 90,
   "metadata": {
    "collapsed": false
   },
   "outputs": [
   ],
   "source": [
    "x2=x\n",
    "x2.CDtoggle = 1"
   ]
  },
  {
   "cell_type": "code",
   "execution_count": 91,
   "metadata": {
    "collapsed": false
   },
   "outputs": [
   ],
   "source": [
    "x2.CDtoggle"
   ]
  },
  {
   "cell_type": "code",
   "execution_count": 30,
   "metadata": {
    "collapsed": false
   },
   "outputs": [
   ],
   "source": [
    "beta = 1\n",
    "architecture = 'linear'\n",
    "#nArms = 3\n",
    "nkArms = [45]\n",
    "nChains = 5000\n",
    "velocityGradient = (0.0, 0.0, 0.0, 0.0, 0.0, 0.0, 0.0, 0.0, 0.0)\n",
    "CDtoggle = 0\n",
    "PDtoggle = 0\n",
    "calcMode = 1\n",
    "timeStep = 1\n",
    "simTime = 100000"
   ]
  },
  {
   "cell_type": "code",
   "execution_count": 0,
   "metadata": {
    "collapsed": false
   },
   "outputs": [
   ],
   "source": [
   ]
  }
 ],
 "metadata": {
  "kernelspec": {
   "display_name": "anaconda_kernel",
   "language": "python",
   "name": "anaconda_kernel"
  },
  "language_info": {
   "codemirror_mode": {
    "name": "ipython",
    "version": 2
   },
   "file_extension": ".py",
   "mimetype": "text/x-python",
   "name": "python",
   "nbconvert_exporter": "python",
   "pygments_lexer": "ipython2",
   "version": "2.7.14"
  }
 },
 "nbformat": 4,
 "nbformat_minor": 0
}