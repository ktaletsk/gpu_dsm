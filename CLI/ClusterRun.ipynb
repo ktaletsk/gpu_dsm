{
 "cells": [
  {
   "cell_type": "markdown",
   "metadata": {
    "collapsed": false
   },
   "source": [
    "# IPython interface for running GPU DSM + fitting on cluster"
   ]
  },
  {
   "cell_type": "code",
   "execution_count": 32,
   "metadata": {
    "collapsed": false
   },
   "outputs": [
   ],
   "source": [
    "from dsm_tools import ssh_init, job_start, job_done, job_transfer_clean, uuid, os, server, username, password, Calculation, CalculationStar, CalculationLinear\n",
    "from fdt_fit import fdt_fit, fdt, fdtvec\n",
    "import numpy as np\n",
    "import matplotlib.pyplot as plt"
   ]
  },
  {
   "cell_type": "code",
   "execution_count": 115,
   "metadata": {
    "collapsed": false
   },
   "outputs": [
   ],
   "source": [
    "class iterationChain(object):\n",
    "    w = None #Weight fraction of linear chains\n",
    "    chain = []\n",
    "\n",
    "    def add(self, calcs):\n",
    "        self.chain.append(calcs)\n",
    "    def __init__(self, w):\n",
    "        self.w = w"
   ]
  },
  {
   "cell_type": "code",
   "execution_count": 187,
   "metadata": {
    "collapsed": false
   },
   "outputs": [
   ],
   "source": [
    "def mix_spectra(w, x, y):\n",
    "    xWeight = w #Fraction of linear\n",
    "    yWeight = 1 - w\n",
    "\n",
    "    #Calculate p_eq of the mix\n",
    "    mix_lambdaArr = np.append(x.lambdaArr, y.lambdaArr)\n",
    "    mix_gArr = np.append(np.multiply(x.gArr, x.lambdaArr)/np.dot(x.gArr, x.lambdaArr) * xWeight, np.multiply(y.gArr, y.lambdaArr)/np.dot(y.gArr, y.lambdaArr) * yWeight)\n",
    "\n",
    "    #Sort by relaxation times tau\n",
    "    sort = np.argsort(mix_lambdaArr)\n",
    "    mix_lambdaArr = mix_lambdaArr[sort]\n",
    "    mix_gArr = mix_gArr[sort]\n",
    "\n",
    "    return mix_lambdaArr, np.divide(mix_gArr,mix_lambdaArr)/np.sum(np.divide(mix_gArr,mix_lambdaArr))"
   ]
  },
  {
   "cell_type": "code",
   "execution_count": 34,
   "metadata": {
    "collapsed": false
   },
   "outputs": [
   ],
   "source": [
    "nChains = 5000\n",
    "CDtoggle = 0\n",
    "simTime = 1000000\n",
    "num_gpu = 4\n",
    "\n",
    "#Linear chain\n",
    "nk = 50\n",
    "\n",
    "#Star chain\n",
    "nArms = 3\n",
    "nkArms = [6, 6, 6]"
   ]
  },
  {
   "cell_type": "markdown",
   "metadata": {
    "collapsed": false
   },
   "source": [
    "To start a claculation of a **linear chain**, call `CalculationLinear(Nc, CDtoggle, Nchains, Ngpus, simTime)`\n",
    "\n",
    "To start a claculation of a **star-branched chain**, call `CalculationStar(nArms, NcArms, CDtoggle, Nchains, Ngpus, simTime)`\n",
    "\n",
    "### Zeroth iteration (no constraint dynamics)"
   ]
  },
  {
   "cell_type": "code",
   "execution_count": 35,
   "metadata": {
    "collapsed": false
   },
   "outputs": [
   ],
   "source": [
    "x, y = CalculationLinear(nk, 0, nChains, num_gpu, simTime), CalculationStar(nArms, nkArms, 0, nChains, num_gpu, simTime)"
   ]
  },
  {
   "cell_type": "code",
   "execution_count": 37,
   "metadata": {
    "collapsed": true
   },
   "outputs": [
   ],
   "source": [
    "x.calc()\n",
    "y.calc()"
   ]
  },
  {
   "cell_type": "code",
   "execution_count": 197,
   "metadata": {
    "collapsed": false
   },
   "outputs": [
   ],
   "source": [
    "x.check_self()\n",
    "y.check_self()"
   ]
  },
  {
   "cell_type": "code",
   "execution_count": 54,
   "metadata": {
    "collapsed": false
   },
   "outputs": [
   ],
   "source": [
    "x.plot_fit_results()"
   ]
  },
  {
   "cell_type": "code",
   "execution_count": 47,
   "metadata": {
    "collapsed": false
   },
   "outputs": [
   ],
   "source": [
    "y.plot_fit_results()"
   ]
  },
  {
   "cell_type": "markdown",
   "metadata": {
    "collapsed": false
   },
   "source": [
    "### Longest relaxation time for a pure linear and a pure star"
   ]
  },
  {
   "cell_type": "code",
   "execution_count": 120,
   "metadata": {
    "collapsed": false
   },
   "outputs": [
   ],
   "source": [
    "weights = [1, 0.9, 0.8, 0.7, 0.6, 0.5, 0.4, 0.3, 0.2, 0.1, 0]"
   ]
  },
  {
   "cell_type": "code",
   "execution_count": 126,
   "metadata": {
    "collapsed": false
   },
   "outputs": [
   ],
   "source": [
    "iterations = [iterationChain(w) for w in weights]"
   ]
  },
  {
   "cell_type": "code",
   "execution_count": 134,
   "metadata": {
    "collapsed": false
   },
   "outputs": [
   ],
   "source": [
    "iterations[1].add((CalculationLinear(nk, 1, nChains, num_gpu, simTime), CalculationStar(nArms, nkArms, 1, nChains, num_gpu, simTime)))"
   ]
  },
  {
   "cell_type": "code",
   "execution_count": 139,
   "metadata": {
    "collapsed": false
   },
   "outputs": [
   ],
   "source": [
    "iterations[1].chain[-1]"
   ]
  },
  {
   "cell_type": "code",
   "execution_count": 193,
   "metadata": {
    "collapsed": false
   },
   "outputs": [
   ],
   "source": [
    "a,b = mix_spectra(0.9, x, y)\n",
    "iterations[1].chain[-1][0].set_pcd_cr_input(a,b)\n",
    "iterations[1].chain[-1][1].set_pcd_cr_input(a,b)"
   ]
  },
  {
   "cell_type": "code",
   "execution_count": 198,
   "metadata": {
    "collapsed": false
   },
   "outputs": [
   ],
   "source": [
    "iterations[1].chain[-1][0].calc()\n",
    "iterations[1].chain[-1][1].calc()"
   ]
  },
  {
   "cell_type": "code",
   "execution_count": 204,
   "metadata": {
    "collapsed": false
   },
   "outputs": [
   ],
   "source": [
    "iterations[1].chain[-1][0].check_self()\n",
    "iterations[1].chain[-1][1].check_self()"
   ]
  },
  {
   "cell_type": "code",
   "execution_count": 205,
   "metadata": {
    "collapsed": false
   },
   "outputs": [
   ],
   "source": [
    "iterations[1].chain[-1][0].plot_fit_results()"
   ]
  },
  {
   "cell_type": "code",
   "execution_count": 207,
   "metadata": {
    "collapsed": false
   },
   "outputs": [
   ],
   "source": [
    "iterations[1].chain[-1][0].fdt_y"
   ]
  },
  {
   "cell_type": "code",
   "execution_count": 208,
   "metadata": {
    "collapsed": false
   },
   "outputs": [
   ],
   "source": [
   ]
  },
  {
   "cell_type": "code",
   "execution_count": 210,
   "metadata": {
    "collapsed": false
   },
   "outputs": [
   ],
   "source": [
    "fdt_result=zip(iterations[1].chain[-1][0].fdt_x, iterations[1].chain[-1][0].fdt_y)\n",
    "file = open(\"fdt_result.dat\",\"w\")\n",
    "for i in fdt_result:\n",
    "    file.write(str(i[0])+'\\t'+str(i[1])+'\\n')\n",
    "file.close()"
   ]
  },
  {
   "cell_type": "code",
   "execution_count": 0,
   "metadata": {
    "collapsed": false
   },
   "outputs": [
   ],
   "source": [
   ]
  }
 ],
 "metadata": {
  "kernelspec": {
   "display_name": "anaconda_kernel",
   "language": "python",
   "name": "anaconda_kernel"
  },
  "language_info": {
   "codemirror_mode": {
    "name": "ipython",
    "version": 2
   },
   "file_extension": ".py",
   "mimetype": "text/x-python",
   "name": "python",
   "nbconvert_exporter": "python",
   "pygments_lexer": "ipython2",
   "version": "2.7.14"
  }
 },
 "nbformat": 4,
 "nbformat_minor": 0
}