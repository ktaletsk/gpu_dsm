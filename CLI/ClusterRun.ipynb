{
 "cells": [
  {
   "cell_type": "markdown",
   "metadata": {
    "collapsed": false
   },
   "source": [
    "# IPython interface for running GPU DSM + fitting on cluster"
   ]
  },
  {
   "cell_type": "code",
   "execution_count": 26,
   "metadata": {
    "collapsed": false
   },
   "outputs": [
   ],
   "source": [
    "from dsm_tools import ssh_init, job_start, job_done, job_transfer_clean, uuid, os, server, username, password, Calculation, CalculationStar, CalculationLinear\n",
    "from fdt_fit import fdt_fit, fdt, fdtvec\n",
    "import numpy as np\n",
    "import matplotlib.pyplot as plt"
   ]
  },
  {
   "cell_type": "code",
   "execution_count": 27,
   "metadata": {
    "collapsed": false
   },
   "outputs": [
   ],
   "source": [
    "nChains = 5000\n",
    "CDtoggle = 0\n",
    "simTime = 100000\n",
    "num_gpu = 4"
   ]
  },
  {
   "cell_type": "markdown",
   "metadata": {
    "collapsed": false
   },
   "source": [
    "To start a claculation of a **linear chain**, call `CalculationLinear(Nc, CDtoggle, Nchains, Ngpus, simTime)`\n",
    "\n",
    "To start a claculation of a **star-branched chain**, call `CalculationStar(nArms, NcArms, CDtoggle, Nchains, Ngpus, simTime)`"
   ]
  },
  {
   "cell_type": "markdown",
   "metadata": {
    "collapsed": false
   },
   "source": [
    "### Zeroth iteration (no constraint dynamics)"
   ]
  },
  {
   "cell_type": "code",
   "execution_count": 29,
   "metadata": {
    "collapsed": false
   },
   "outputs": [
   ],
   "source": [
    "x, y = CalculationLinear(50, 0, nChains, num_gpu, 1000000), CalculationStar(3, [6, 6, 6], 0, 5000, 2, 100000)"
   ]
  },
  {
   "cell_type": "code",
   "execution_count": 15,
   "metadata": {
    "collapsed": false
   },
   "outputs": [
   ],
   "source": [
    "x.token"
   ]
  },
  {
   "cell_type": "code",
   "execution_count": 16,
   "metadata": {
    "collapsed": false
   },
   "outputs": [
   ],
   "source": [
    "x.calc()"
   ]
  },
  {
   "cell_type": "code",
   "execution_count": 26,
   "metadata": {
    "collapsed": false
   },
   "outputs": [
   ],
   "source": [
    "x.check_self()"
   ]
  },
  {
   "cell_type": "code",
   "execution_count": 27,
   "metadata": {
    "collapsed": false
   },
   "outputs": [
   ],
   "source": [
    "x.plot_fit_results()"
   ]
  },
  {
   "cell_type": "code",
   "execution_count": 18,
   "metadata": {
    "collapsed": false
   },
   "outputs": [
   ],
   "source": [
    "y = CalculationStar(3, [6, 6, 6], 0, 5000, 2, 100000)"
   ]
  },
  {
   "cell_type": "code",
   "execution_count": 19,
   "metadata": {
    "collapsed": false
   },
   "outputs": [
   ],
   "source": [
    "y.token"
   ]
  },
  {
   "cell_type": "code",
   "execution_count": 20,
   "metadata": {
    "collapsed": false
   },
   "outputs": [
   ],
   "source": [
    "y.calc()"
   ]
  },
  {
   "cell_type": "code",
   "execution_count": 24,
   "metadata": {
    "collapsed": false
   },
   "outputs": [
   ],
   "source": [
    "y.check_self()"
   ]
  },
  {
   "cell_type": "code",
   "execution_count": 25,
   "metadata": {
    "collapsed": false
   },
   "outputs": [
   ],
   "source": [
    "y.plot_fit_results()"
   ]
  },
  {
   "cell_type": "markdown",
   "metadata": {
    "collapsed": false
   },
   "source": [
    "### Mix star and linear relaxation spectra"
   ]
  },
  {
   "cell_type": "code",
   "execution_count": 33,
   "metadata": {
    "collapsed": false
   },
   "outputs": [
   ],
   "source": [
    "xWeight = 0.2\n",
    "yWeight = 0.8\n",
    "mix_lambdaArr = np.append(x.lambdaArr, y.lambdaArr)\n",
    "mix_gArr = np.append(np.multiply(x.gArr, x.lambdaArr)/np.dot(x.gArr, x.lambdaArr) * xWeight, np.multiply(y.gArr, y.lambdaArr)/np.dot(y.gArr, y.lambdaArr) * yWeight)"
   ]
  },
  {
   "cell_type": "code",
   "execution_count": 34,
   "metadata": {
    "collapsed": false
   },
   "outputs": [
   ],
   "source": [
    "fig = plt.figure(figsize=(8, 6))\n",
    "\n",
    "ax3 = fig.add_subplot(111)\n",
    "\n",
    "ax3.set_title(r'$p^{eq}\\left(\\tau\\right)$')\n",
    "ax3.set_xlabel(r'$\\lambda$')\n",
    "ax3.set_ylabel(r'$g$')\n",
    "\n",
    "ax3.scatter(mix_lambdaArr, np.append(np.multiply(x.gArr, x.lambdaArr)/np.dot(x.gArr, x.lambdaArr) * xWeight, np.multiply(y.gArr, y.lambdaArr)/np.dot(y.gArr, y.lambdaArr) * yWeight), c='b')\n",
    "\n",
    "leg = ax3.legend()\n",
    "ax3.set_xscale('log')\n",
    "ax3.set_yscale('log')\n",
    "plt.xlim(xmin=0.5*min(np.append(x.lambdaArr, y.lambdaArr)), xmax=2*max(np.append(x.lambdaArr, y.lambdaArr)))\n",
    "plt.ylim(ymin=0.5*min(np.append(np.multiply(x.gArr, x.lambdaArr)/np.dot(x.gArr, x.lambdaArr) * xWeight, np.multiply(y.gArr, y.lambdaArr)/np.dot(y.gArr, y.lambdaArr) * yWeight)), ymax=2*max(np.append(np.multiply(x.gArr, x.lambdaArr)/np.dot(x.gArr, x.lambdaArr) * xWeight, np.multiply(y.gArr, y.lambdaArr)/np.dot(y.gArr, y.lambdaArr) * yWeight)))\n",
    "\n",
    "plt.show()"
   ]
  },
  {
   "cell_type": "code",
   "execution_count": 42,
   "metadata": {
    "collapsed": false
   },
   "outputs": [
   ],
   "source": [
    "np.divide(mix_gArr,mix_lambdaArr)/np.sum(np.divide(mix_gArr,mix_lambdaArr))"
   ]
  },
  {
   "cell_type": "code",
   "execution_count": 38,
   "metadata": {
    "collapsed": false
   },
   "outputs": [
   ],
   "source": [
    "mix_gArr"
   ]
  },
  {
   "cell_type": "code",
   "execution_count": 36,
   "metadata": {
    "collapsed": false
   },
   "outputs": [
   ],
   "source": [
    "mix_lambdaArr"
   ]
  },
  {
   "cell_type": "code",
   "execution_count": 45,
   "metadata": {
    "collapsed": false
   },
   "outputs": [
   ],
   "source": [
    "np.argsort(mix_lambdaArr)"
   ]
  },
  {
   "cell_type": "code",
   "execution_count": 47,
   "metadata": {
    "collapsed": false
   },
   "outputs": [
   ],
   "source": [
    "mix_lambdaArr[np.argsort(mix_lambdaArr)]"
   ]
  },
  {
   "cell_type": "code",
   "execution_count": 48,
   "metadata": {
    "collapsed": false
   },
   "outputs": [
   ],
   "source": [
    "mix_gArr[np.argsort(mix_lambdaArr)]"
   ]
  },
  {
   "cell_type": "code",
   "execution_count": 51,
   "metadata": {
    "collapsed": false
   },
   "outputs": [
   ],
   "source": [
    "np.size(mix_lambdaArr)"
   ]
  },
  {
   "cell_type": "markdown",
   "metadata": {
    "collapsed": false
   },
   "source": [
    "### First iteration"
   ]
  },
  {
   "cell_type": "code",
   "execution_count": 3,
   "metadata": {
    "collapsed": false
   },
   "outputs": [
   ],
   "source": [
    "x2=CalculationLinear(50, 1, nChains, num_gpu, 1000000)"
   ]
  },
  {
   "cell_type": "code",
   "execution_count": 4,
   "metadata": {
    "collapsed": false
   },
   "outputs": [
   ],
   "source": [
    "x2.set_pcd_cr_input([  1.33929116e+00,   1.37172828e+00,   7.75404746e+00,\n",
    "         1.80048038e+01,   3.51436755e+01,   1.12647465e+02,\n",
    "         1.61754031e+02,   7.20767915e+02,   7.59062204e+02,\n",
    "         2.91738650e+03,   2.13618740e+04], [ 0.00551045,  0.12167831,  0.00455186,  0.20577383,  0.00778275,\n",
    "        0.23352828,  0.01270425,  0.01977972,  0.23901958,  0.02092477,\n",
    "        0.1287462 ])"
   ]
  },
  {
   "cell_type": "code",
   "execution_count": 5,
   "metadata": {
    "collapsed": false
   },
   "outputs": [
   ],
   "source": [
    "x2.calc()"
   ]
  },
  {
   "cell_type": "code",
   "execution_count": 20,
   "metadata": {
    "collapsed": false
   },
   "outputs": [
   ],
   "source": [
    "x2.check_self()"
   ]
  },
  {
   "cell_type": "code",
   "execution_count": 21,
   "metadata": {
    "collapsed": false
   },
   "outputs": [
   ],
   "source": [
    "x2.plot_fit_results()"
   ]
  },
  {
   "cell_type": "code",
   "execution_count": 6,
   "metadata": {
    "collapsed": false
   },
   "outputs": [
   ],
   "source": [
    "y2 = CalculationStar(3, [6, 6, 6], 1, nChains, num_gpu, 1000000)\n",
    "y2.set_pcd_cr_input([  1.33929116e+00,   1.37172828e+00,   7.75404746e+00,\n",
    "         1.80048038e+01,   3.51436755e+01,   1.12647465e+02,\n",
    "         1.61754031e+02,   7.20767915e+02,   7.59062204e+02,\n",
    "         2.91738650e+03,   2.13618740e+04], [ 0.00551045,  0.12167831,  0.00455186,  0.20577383,  0.00778275,\n",
    "        0.23352828,  0.01270425,  0.01977972,  0.23901958,  0.02092477,\n",
    "        0.1287462 ])"
   ]
  },
  {
   "cell_type": "code",
   "execution_count": 7,
   "metadata": {
    "collapsed": false
   },
   "outputs": [
   ],
   "source": [
    "y2.calc()"
   ]
  },
  {
   "cell_type": "code",
   "execution_count": 10,
   "metadata": {
    "collapsed": false
   },
   "outputs": [
   ],
   "source": [
    "y2.check_self()"
   ]
  },
  {
   "cell_type": "code",
   "execution_count": 17,
   "metadata": {
    "collapsed": false
   },
   "outputs": [
   ],
   "source": [
    "y2.plot_fit_results()"
   ]
  },
  {
   "cell_type": "code",
   "execution_count": 0,
   "metadata": {
    "collapsed": false
   },
   "outputs": [
   ],
   "source": [
   ]
  },
  {
   "cell_type": "code",
   "execution_count": 24,
   "metadata": {
    "collapsed": false
   },
   "outputs": [
   ],
   "source": [
    "xWeight = 0.2\n",
    "yWeight = 0.8\n",
    "mix_lambdaArr2 = np.append(x2.lambdaArr, y2.lambdaArr)\n",
    "mix_gArr2 = np.append(np.multiply(x2.gArr, x2.lambdaArr)/np.dot(x2.gArr, x2.lambdaArr) * xWeight, np.multiply(y2.gArr, y2.lambdaArr)/np.dot(y2.gArr, y2.lambdaArr) * yWeight)"
   ]
  },
  {
   "cell_type": "code",
   "execution_count": 25,
   "metadata": {
    "collapsed": false
   },
   "outputs": [
   ],
   "source": [
    "fig = plt.figure(figsize=(8, 6))\n",
    "\n",
    "ax3 = fig.add_subplot(111)\n",
    "\n",
    "ax3.set_title(r'$p^{eq}\\left(\\tau\\right)$')\n",
    "ax3.set_xlabel(r'$\\lambda$')\n",
    "ax3.set_ylabel(r'$g$')\n",
    "\n",
    "ax3.scatter(mix_lambdaArr2, np.append(np.multiply(x2.gArr, x2.lambdaArr)/np.dot(x2.gArr, x2.lambdaArr) * xWeight, np.multiply(y2.gArr, y2.lambdaArr)/np.dot(y2.gArr, y2.lambdaArr) * yWeight), c='b')\n",
    "\n",
    "leg = ax3.legend()\n",
    "ax3.set_xscale('log')\n",
    "ax3.set_yscale('log')\n",
    "plt.xlim(xmin=0.5*min(np.append(x2.lambdaArr, y2.lambdaArr)), xmax=2*max(np.append(x2.lambdaArr, y2.lambdaArr)))\n",
    "plt.ylim(ymin=0.5*min(np.append(np.multiply(x2.gArr, x2.lambdaArr)/np.dot(x2.gArr, x2.lambdaArr) * xWeight, np.multiply(y2.gArr, y2.lambdaArr)/np.dot(y2.gArr, y2.lambdaArr) * yWeight)), ymax=2*max(np.append(np.multiply(x2.gArr, x2.lambdaArr)/np.dot(x2.gArr, x2.lambdaArr) * xWeight, np.multiply(y2.gArr, y2.lambdaArr)/np.dot(y2.gArr, y2.lambdaArr) * yWeight)))\n",
    "\n",
    "plt.show()"
   ]
  },
  {
   "cell_type": "code",
   "execution_count": 0,
   "metadata": {
    "collapsed": false
   },
   "outputs": [
   ],
   "source": [
   ]
  }
 ],
 "metadata": {
  "kernelspec": {
   "display_name": "anaconda_kernel",
   "language": "python",
   "name": "anaconda_kernel"
  },
  "language_info": {
   "codemirror_mode": {
    "name": "ipython",
    "version": 2
   },
   "file_extension": ".py",
   "mimetype": "text/x-python",
   "name": "python",
   "nbconvert_exporter": "python",
   "pygments_lexer": "ipython2",
   "version": "2.7.14"
  }
 },
 "nbformat": 4,
 "nbformat_minor": 0
}