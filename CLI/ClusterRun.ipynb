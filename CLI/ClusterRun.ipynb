{
 "cells": [
  {
   "cell_type": "markdown",
   "metadata": {
    "collapsed": false
   },
   "source": [
    "# IPython interface for running GPU DSM + fitting on cluster"
   ]
  },
  {
   "cell_type": "code",
   "execution_count": 1,
   "metadata": {
    "collapsed": false
   },
   "outputs": [
   ],
   "source": [
    "from dsm_tools import ssh_init, job_start, job_done, job_transfer_clean, uuid, os, server, username, password, Calculation, CalculationStar, CalculationLinear\n",
    "from fdt_fit import fdt_fit, fdt, fdtvec\n",
    "import numpy as np\n",
    "import matplotlib.pyplot as plt"
   ]
  },
  {
   "cell_type": "code",
   "execution_count": 0,
   "metadata": {
    "collapsed": false
   },
   "outputs": [
   ],
   "source": [
    "nChains = 5000\n",
    "CDtoggle = 0\n",
    "simTime = 100000\n",
    "num_gpu = 2"
   ]
  },
  {
   "cell_type": "code",
   "execution_count": 2,
   "metadata": {
    "collapsed": false
   },
   "outputs": [
   ],
   "source": [
    "x = CalculationLinear(30, 0, 5000, 2, 100000)"
   ]
  },
  {
   "cell_type": "code",
   "execution_count": 3,
   "metadata": {
    "collapsed": false
   },
   "outputs": [
   ],
   "source": [
    "x.token"
   ]
  },
  {
   "cell_type": "code",
   "execution_count": 4,
   "metadata": {
    "collapsed": false
   },
   "outputs": [
   ],
   "source": [
    "x.calc()"
   ]
  },
  {
   "cell_type": "code",
   "execution_count": 6,
   "metadata": {
    "collapsed": false,
    "scrolled": true
   },
   "outputs": [
   ],
   "source": [
    "x.check_self()"
   ]
  },
  {
   "cell_type": "code",
   "execution_count": 7,
   "metadata": {
    "collapsed": false
   },
   "outputs": [
   ],
   "source": [
    "x.plot_fit_results()"
   ]
  },
  {
   "cell_type": "code",
   "execution_count": 8,
   "metadata": {
    "collapsed": false
   },
   "outputs": [
   ],
   "source": [
    "fig = plt.figure(figsize=(24, 6))\n",
    "\n",
    "ax1 = fig.add_subplot(131)\n",
    "\n",
    "ax1.set_title(\"Entanglement lifetime distribution\")\n",
    "ax1.set_xlabel(r'$t/\\tau_c$')\n",
    "ax1.set_ylabel(r'$f_d(t)$')\n",
    "\n",
    "ax1.scatter(x.fdt_x, x.fdt_y, c='r', label=r'$f_d(t)$')\n",
    "ax1.plot(x.fdt_x, fdtvec(time=x.fdt_x, params=np.append(x.lambdaArr, x.gArr)), c='b', label=r'MMM fit')\n",
    "leg = ax1.legend()\n",
    "ax1.set_xscale('log')\n",
    "ax1.set_yscale('log')\n",
    "\n",
    "ax2 = fig.add_subplot(132)\n",
    "\n",
    "ax2.set_title(r'$p^{cr}\\left(\\tau\\right)$')\n",
    "ax2.set_xlabel(r'$\\lambda$')\n",
    "ax2.set_ylabel(r'$g$')\n",
    "\n",
    "ax2.scatter(x.lambdaArr, x.gArr, c='b')\n",
    "\n",
    "leg = ax2.legend()\n",
    "ax2.set_xscale('log')\n",
    "ax2.set_yscale('log')\n",
    "plt.xlim(xmin=0.5*min(x.lambdaArr), xmax=2*max(x.lambdaArr))\n",
    "plt.ylim(ymin=0.5*min(x.gArr), ymax=2*max(x.gArr))\n",
    "\n",
    "ax3 = fig.add_subplot(133)\n",
    "\n",
    "ax3.set_title(r'$p^{eq}\\left(\\tau\\right)$')\n",
    "ax3.set_xlabel(r'$\\lambda$')\n",
    "ax3.set_ylabel(r'$g$')\n",
    "\n",
    "ax3.scatter(x.lambdaArr, np.multiply(x.lambdaArr, x.gArr)/np.dot(x.lambdaArr, x.gArr), c='b')\n",
    "\n",
    "leg = ax3.legend()\n",
    "ax3.set_xscale('log')\n",
    "ax3.set_yscale('log')\n",
    "plt.xlim(xmin=0.5*min(x.lambdaArr), xmax=2*max(x.lambdaArr))\n",
    "plt.ylim(ymin=0.5*min(np.multiply(x.lambdaArr, x.gArr)/np.dot(x.lambdaArr, x.gArr)), ymax=2*max(np.multiply(x.lambdaArr, x.gArr)/np.dot(x.lambdaArr, x.gArr)))\n",
    "\n",
    "plt.show()"
   ]
  },
  {
   "cell_type": "code",
   "execution_count": 281,
   "metadata": {
    "collapsed": false
   },
   "outputs": [
   ],
   "source": [
    "y = CalculationStar(3, [6, 6, 6], 0, 5000, 2, 100000)"
   ]
  },
  {
   "cell_type": "code",
   "execution_count": 282,
   "metadata": {
    "collapsed": false
   },
   "outputs": [
   ],
   "source": [
    "y.token"
   ]
  },
  {
   "cell_type": "code",
   "execution_count": 208,
   "metadata": {
    "collapsed": false
   },
   "outputs": [
   ],
   "source": [
    "y.calc()"
   ]
  },
  {
   "cell_type": "code",
   "execution_count": 213,
   "metadata": {
    "collapsed": false
   },
   "outputs": [
   ],
   "source": [
    "y.check_self()"
   ]
  },
  {
   "cell_type": "markdown",
   "metadata": {
    "collapsed": false
   },
   "source": [
    "### Mix star and linear relaxation spectra"
   ]
  },
  {
   "cell_type": "code",
   "execution_count": 252,
   "metadata": {
    "collapsed": false
   },
   "outputs": [
   ],
   "source": [
    "xWeight = 0.2\n",
    "yWeight = 0.8"
   ]
  },
  {
   "cell_type": "code",
   "execution_count": 253,
   "metadata": {
    "collapsed": false
   },
   "outputs": [
   ],
   "source": [
    "fig = plt.figure(figsize=(8, 6))\n",
    "\n",
    "ax3 = fig.add_subplot(111)\n",
    "\n",
    "ax3.set_title(r'$p^{eq}\\left(\\tau\\right)$')\n",
    "ax3.set_xlabel(r'$\\lambda$')\n",
    "ax3.set_ylabel(r'$g$')\n",
    "\n",
    "ax3.scatter(np.append(x.lambdaArr, y.lambdaArr), np.append(np.multiply(x.gArr, x.lambdaArr)/np.dot(x.gArr, x.lambdaArr) * xWeight, np.multiply(y.gArr, y.lambdaArr)/np.dot(y.gArr, y.lambdaArr) * yWeight), c='b')\n",
    "\n",
    "leg = ax3.legend()\n",
    "ax3.set_xscale('log')\n",
    "ax3.set_yscale('log')\n",
    "plt.xlim(xmin=0.5*min(np.append(x.lambdaArr, y.lambdaArr)), xmax=2*max(np.append(x.lambdaArr, y.lambdaArr)))\n",
    "plt.ylim(ymin=0.5*min(np.append(np.multiply(x.gArr, x.lambdaArr)/np.dot(x.gArr, x.lambdaArr) * xWeight, np.multiply(y.gArr, y.lambdaArr)/np.dot(y.gArr, y.lambdaArr) * yWeight)), ymax=2*max(np.append(np.multiply(x.gArr, x.lambdaArr)/np.dot(x.gArr, x.lambdaArr) * xWeight, np.multiply(y.gArr, y.lambdaArr)/np.dot(y.gArr, y.lambdaArr) * yWeight)))\n",
    "\n",
    "plt.show()"
   ]
  },
  {
   "cell_type": "code",
   "execution_count": 90,
   "metadata": {
    "collapsed": false
   },
   "outputs": [
   ],
   "source": [
    "x2=x\n",
    "x2.CDtoggle = 1"
   ]
  },
  {
   "cell_type": "code",
   "execution_count": 91,
   "metadata": {
    "collapsed": false
   },
   "outputs": [
   ],
   "source": [
    "x2.CDtoggle"
   ]
  }
 ],
 "metadata": {
  "kernelspec": {
   "display_name": "anaconda_kernel",
   "language": "python",
   "name": "anaconda_kernel"
  },
  "language_info": {
   "codemirror_mode": {
    "name": "ipython",
    "version": 2
   },
   "file_extension": ".py",
   "mimetype": "text/x-python",
   "name": "python",
   "nbconvert_exporter": "python",
   "pygments_lexer": "ipython2",
   "version": "2.7.14"
  }
 },
 "nbformat": 4,
 "nbformat_minor": 0
}