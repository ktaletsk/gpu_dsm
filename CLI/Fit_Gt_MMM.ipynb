{
 "cells": [
  {
   "cell_type": "markdown",
   "metadata": {},
   "source": [
    "# Fit $G(t)$\n",
    "\n",
    "\\begin{equation}\n",
    "G(t) = G_N^0 \\int \\frac{h\\left(\\tau\\right)}{\\tau} e^{-\\frac{t}{\\tau}} \\mathrm{d}\\tau \\\\\n",
    "\\end{equation}\n",
    "\n",
    "If we don't know the form of relaxation spectrum a priori, we can start with the discrete spectrum\n",
    "\\begin{equation}\n",
    "h\\left(\\tau\\right) = \\sum_i g_i \\delta(\\tau - \\tau_i)\n",
    "\\end{equation}\n",
    "\n",
    "\\begin{equation}\n",
    "G(t) = G_N^0 \\int \\frac{h\\left(\\tau\\right)}{\\tau} e^{-\\frac{t}{\\tau}} \\mathrm{d}\\tau = G_N^0 \\sum_i \\frac{g_i}{\\tau_i} e^{-\\frac{t}{\\tau_i}}\n",
    "\\end{equation}"
   ]
  },
  {
   "cell_type": "code",
   "execution_count": null,
   "metadata": {
    "collapsed": true
   },
   "outputs": [],
   "source": [
    "import numpy as np\n",
    "import matplotlib.pyplot as plt\n",
    "from scipy.optimize import least_squares, minimize\n",
    "from scipy.misc import logsumexp\n",
    "\n",
    "from mpmath import *\n",
    "mp.dps = 25; mp.pretty = True\n",
    "from scipy.optimize import broyden1"
   ]
  },
  {
   "cell_type": "code",
   "execution_count": null,
   "metadata": {
    "collapsed": true
   },
   "outputs": [],
   "source": [
    "#Define BSW functions: G(t), G*(omega), h(tau)\n",
    "def supp_prod(tauv, alpha, i):\n",
    "    result = 1\n",
    "    for j in range (1, i+1):\n",
    "        result *= tauv[j]**(alpha[j - 1] - alpha[j])\n",
    "    \n",
    "    return result\n",
    "\n",
    "def Gs_BSW(frequency, alpha, tauv, n, G0):\n",
    "    result = []\n",
    "    for omega in frequency: \n",
    "        sum1 = 0\n",
    "        for i in range(0, n):\n",
    "            sum1 += gamma(1 + alpha[i])*(tauv[i + 1]**(1 + alpha[i])*hyp2f1(1, 1 + alpha[i], 2 + alpha[i], -j*tauv[i + 1]*omega)/gamma(2 + alpha[i]) - tauv[i]**(1 + alpha[i])*hyp2f1(1, 1 + alpha[i], 2 + alpha[i], -j*tauv[i]*omega)/gamma(2 + alpha[i]))*supp_prod(tauv, alpha, i)\n",
    "        sum2 = 0\n",
    "        for i in range(0, n):\n",
    "            sum2 += (tauv[i + 1]**alpha[i] - tauv[i]**alpha[i])/alpha[i]*supp_prod(tauv, alpha, i)\n",
    "        res =j*omega*sum1/sum2*G0\n",
    "        result.append((re(result),im(result)))\n",
    "    \n",
    "    return result\n",
    "\n",
    "def Gt_BSW(time, alpha, tauv, n, G0):\n",
    "    result = []\n",
    "    for t in time: \n",
    "        sum1 = 0\n",
    "        for i in range(0, n):\n",
    "            sum1 += t**alpha[i] * ( gammainc(-alpha[i],t/tauv[i+1]) - gammainc(-alpha[i],t/tauv[i]) )*supp_prod(tauv, alpha, i)\n",
    "        sum2 = 0\n",
    "        for i in range(0, n):\n",
    "            sum2 += (tauv[i + 1]**alpha[i] - tauv[i]**alpha[i])/alpha[i]*supp_prod(tauv, alpha, i)\n",
    "        result.append(sum1/sum2*G0)\n",
    "    \n",
    "    return result\n",
    "\n",
    "def h_BSW(time, alpha, tauv, n):\n",
    "    result = []\n",
    "    for t in time: \n",
    "        sum1 = 0\n",
    "        for i in range(0, n):\n",
    "            sum1 += t**alpha[i] * np.heaviside(tauv[i+1]-t,0) * np.heaviside(t-tauv[i],0) * supp_prod(tauv, alpha, i)\n",
    "        sum2 = 0\n",
    "        for i in range(0, n):\n",
    "            sum2 += (tauv[i + 1]**alpha[i] - tauv[i]**alpha[i])/alpha[i]*supp_prod(tauv, alpha, i)\n",
    "        result.append(sum1/sum2)\n",
    "    \n",
    "    return result\n",
    "\n",
    "#Define BSW fits for linear chains based on paper 'Analytic slip-link expressions for universal dynamic modulus predictions of linear monodisperse polymer melts'\n",
    "def Gs_CFSM(omega, Nc):\n",
    "    n=3\n",
    "    alpha1 = (-0.0005, -0.0205)\n",
    "    alpha2 = (0.00029, 0.109957)\n",
    "    alpha3 = (17.69589, 1.04026, -0.00095677)\n",
    "    tau1 = (0.6288876, 0.119458)\n",
    "    tau2 = (1.52508156, 0.02996758796795)\n",
    "    tau3 = (3.110954, 0.022615)\n",
    "    tau4 = (3.4840295, 0.0142809)\n",
    "    alpha = (alpha1[0]*Nc + alpha1[1], alpha2[0]*Nc + alpha2[1], alpha3[0]/Nc + alpha3[1] + alpha3[2]*Nc)\n",
    "    tauv = (tau1[1]*Nc**tau1[0], tau2[1]*Nc**tau2[0], tau3[1]*Nc**tau3[0], tau4[1]*Nc**tau4[0])\n",
    "    return Gs_BSW(omega, alpha, tauv, n, 1)\n",
    "\n",
    "def Gt_CFSM(t, Nc):\n",
    "    n=3\n",
    "    alpha1 = (-0.0005, -0.0205)\n",
    "    alpha2 = (0.00029, 0.109957)\n",
    "    alpha3 = (17.69589, 1.04026, -0.00095677)\n",
    "    tau1 = (0.6288876, 0.119458)\n",
    "    tau2 = (1.52508156, 0.02996758796795)\n",
    "    tau3 = (3.110954, 0.022615)\n",
    "    tau4 = (3.4840295, 0.0142809)\n",
    "    alpha = (alpha1[0]*Nc + alpha1[1], alpha2[0]*Nc + alpha2[1], alpha3[0]/Nc + alpha3[1] + alpha3[2]*Nc)\n",
    "    tauv = (tau1[1]*Nc**tau1[0], tau2[1]*Nc**tau2[0], tau3[1]*Nc**tau3[0], tau4[1]*Nc**tau4[0])\n",
    "    return Gt_BSW(t, alpha, tauv, n, 1)\n",
    "\n",
    "def h_CFSM(t, Nc):\n",
    "    n=3\n",
    "    alpha1 = (-0.0005, -0.0205)\n",
    "    alpha2 = (0.00029, 0.109957)\n",
    "    alpha3 = (17.69589, 1.04026, -0.00095677)\n",
    "    tau1 = (0.6288876, 0.119458)\n",
    "    tau2 = (1.52508156, 0.02996758796795)\n",
    "    tau3 = (3.110954, 0.022615)\n",
    "    tau4 = (3.4840295, 0.0142809)\n",
    "    alpha = (alpha1[0]*Nc + alpha1[1], alpha2[0]*Nc + alpha2[1], alpha3[0]/Nc + alpha3[1] + alpha3[2]*Nc)\n",
    "    tauv = (tau1[1]*Nc**tau1[0], tau2[1]*Nc**tau2[0], tau3[1]*Nc**tau3[0], tau4[1]*Nc**tau4[0])\n",
    "    return h_BSW(t, alpha, tauv, n)\n",
    "\n",
    "def Gs_R(omega):\n",
    "    n=3\n",
    "    alpha = (0.64635, -0.4959, -1.2716)\n",
    "    tauv = (6.313268381616272e-9, 2.181509372282138e-7, 0.797317365925168,  18.201382525250114)\n",
    "    GR = 1942.29;\n",
    "    return Gs_BSW(omega, alpha, tauv, n, GR)\n",
    "\n",
    "def Gt_MMM(time, params):\n",
    "    #Variable frequencies\n",
    "    lambdaArr = np.split(params,2)[0]\n",
    "    gArr = np.split(params,2)[1]/np.sum(np.split(params,2)[1])\n",
    "    #Fixed frequencies\n",
    "    #lambdaArr=10.0**((np.array(range(nmodes), float) + 1.0)/nmodes*np.log10(tfinal))\n",
    "    #gArr = params/np.sum(params)\n",
    "    return np.dot(np.exp(-time/lambdaArr), gArr)*GN0\n",
    "\n",
    "def log_Gt_MMM(time,params):\n",
    "    lambdaArr = np.split(params,2)[0]\n",
    "    gArr = np.split(params,2)[1]/np.sum(np.split(params,2)[1])\n",
    "    #lambdaArr=10.0**((np.array(range(nmodes), float) + 1.0)/nmodes*np.log10(tfinal))\n",
    "    #gArr = params/np.sum(params)\n",
    "    return logsumexp(-time/lambdaArr, b=gArr*GN0)\n",
    "\n",
    "#Vectorize function fdt and log_fdt\n",
    "Gt_MMM_vec=np.vectorize(Gt_MMM, excluded=['params'])\n",
    "log_Gt_MMM_vec=np.vectorize(log_Gt_MMM, excluded=['params'])\n",
    "\n",
    "#Define residuals\n",
    "def residuals_Gt_MMM(param):\n",
    "    return Gt_MMM_vec(time=x, params=param)-y\n",
    "\n",
    "def residuals_log_Gt_MMM(param):\n",
    "    if np.any(Gt_MMM_vec(time=x[:-1], params=param) < 0):\n",
    "        return np.full(x[:-1].shape,1e8) #Penalty for negative f_d(t)\n",
    "    else:\n",
    "        return log_Gt_MMM_vec(time=x, params=param)-np.log(y)\n",
    "\n",
    "def MSE_MMM(param):\n",
    "    return np.dot(residuals_Gt_MMM(param),residuals_Gt_MMM(param))/np.size(x)\n",
    "\n",
    "def log_MSE_MMM(param):\n",
    "    return np.dot(residuals_log_Gt_MMM(param),residuals_log_Gt_MMM(param))/np.size(x)\n",
    "\n",
    "def Gp_MMM(omega, params):\n",
    "    lambdaArr = np.split(params,2)[0]\n",
    "    gArr = np.split(params,2)[1]/np.sum(np.split(params,2)[1])\n",
    "    \n",
    "    return np.sum((gArr * lambdaArr**2 * omega**2)/(1 + lambdaArr**2 * omega**2))*GN0\n",
    "\n",
    "def Gdp_MMM(omega, params):\n",
    "    lambdaArr = np.split(params,2)[0]\n",
    "    gArr = np.split(params,2)[1]/np.sum(np.split(params,2)[1])\n",
    "    \n",
    "    return np.sum((gArr * lambdaArr * omega)/(1 + lambdaArr**2 * omega**2))*GN0\n",
    "\n",
    "#Vectorize function Gp and Gdp\n",
    "Gp_MMM_vec=np.vectorize(Gp_MMM, excluded=['params'])\n",
    "Gdp_MMM_vec=np.vectorize(Gdp_MMM, excluded=['params'])"
   ]
  },
  {
   "cell_type": "markdown",
   "metadata": {},
   "source": [
    "**First, generate $h(\\tau)$ and $G(t)$ for $N_c=257$**"
   ]
  },
  {
   "cell_type": "code",
   "execution_count": null,
   "metadata": {
    "scrolled": true
   },
   "outputs": [],
   "source": [
    "npoints=1000\n",
    "x=10**(1+(np.array(range(npoints), float) + 1.0)/npoints*5)\n",
    "y=h_CFSM(x, 257)\n",
    "\n",
    "fig = plt.figure(figsize=(8, 6))\n",
    "\n",
    "ax1 = fig.add_subplot(111)\n",
    "\n",
    "ax1.set_title(\"Entanglement lifetime distribution\")\n",
    "ax1.set_xlabel(r'$\\tau/\\tau_c$')\n",
    "ax1.set_ylabel(r'$h(\\tau)$')\n",
    "plt.xlim(xmin=1, xmax=1e6)\n",
    "ax1.plot(x,y, c='r', label=r'$h(\\tau)$')\n",
    "\n",
    "leg = ax1.legend()\n",
    "ax1.set_xscale('log')\n",
    "ax1.set_yscale('log')\n",
    "\n",
    "plt.show()"
   ]
  },
  {
   "cell_type": "code",
   "execution_count": null,
   "metadata": {},
   "outputs": [],
   "source": [
    "GN0=(257-3)/2.0\n",
    "\n",
    "npoints=100\n",
    "x=10**(0+(np.array(range(npoints), float) + 1.0)/npoints*7)\n",
    "y=np.array(Gt_CFSM(x, 257), dtype='float')*GN0\n",
    "\n",
    "tfinal=x[-1]\n",
    "\n",
    "\n",
    "fig = plt.figure(figsize=(8, 6))\n",
    "\n",
    "ax1 = fig.add_subplot(111)\n",
    "\n",
    "ax1.set_title(\"Entanglement lifetime distribution\")\n",
    "ax1.set_xlabel(r'$t/\\tau_c$')\n",
    "ax1.set_ylabel(r'$G(t)$')\n",
    "plt.xlim(xmin=1, xmax=1e7)\n",
    "ax1.scatter(x,y, c='r', label=r'$G(t)$')\n",
    "\n",
    "leg = ax1.legend()\n",
    "ax1.set_xscale('log')\n",
    "ax1.set_yscale('log')\n",
    "\n",
    "plt.show()"
   ]
  },
  {
   "cell_type": "markdown",
   "metadata": {},
   "source": [
    "## Optimizing strategy:\n",
    "1. Start with some big number of modes, like $n_{modes}=10$\n",
    "2. Run the least square optimization with standard residuals $y_i-f(x_i)$.\n",
    "3. Scan through different number of modes down to 1.\n",
    "4. If fit results have any negative weights, $g_i<0$, ignore\n",
    "5. If fit results have all positive weights, run the least square optimization with log-residuals\n",
    "6. Choose the best result among step 5\n",
    "\n",
    "** Use SciPy numeric least square minimization algorithm **\n",
    "\n",
    "## 1. Fit G(t) with Multi-Mode Maxwell expressions. Optimize using standard residuals $G_i-G^{MMM}(t_i)$. Allow both $g_i$ and $\\lambda_i$ to be adjusted"
   ]
  },
  {
   "cell_type": "code",
   "execution_count": null,
   "metadata": {},
   "outputs": [],
   "source": [
    "fits_1 = [] #output of fitting function for all tested numbers of modes\n",
    "#successful_fits_1 = [] #number of modes for successful fits\n",
    "#for nmodes in range(1, 15):\n",
    "nmodes = 10\n",
    "lambdaArrInit=10.0**((np.array(range(nmodes), float) + 1.0)/nmodes*np.log10(tfinal))\n",
    "gArrInit=np.full(nmodes, 1.0/nmodes)\n",
    "\n",
    "#fit = least_squares(residuals_gt, gArrInit, xtol=1e-15)\n",
    "fit = least_squares(residuals_Gt_MMM, np.append(lambdaArrInit, gArrInit), xtol=1e-15)\n",
    "fit.x\n",
    "#fits_1.append(fit)\n",
    "#if fit.success and not np.any(fdtvec(time=x, params=fit.x) < 0):\n",
    "#    successful_fits_1.append(nmodes)"
   ]
  },
  {
   "cell_type": "code",
   "execution_count": null,
   "metadata": {},
   "outputs": [],
   "source": [
    "fig1 = plt.figure(figsize=(24, 6))\n",
    "\n",
    "ax0 = fig1.add_subplot(131)\n",
    "\n",
    "ax0.set_title(r'$h\\left(\\tau\\right)/\\tau$')\n",
    "ax0.set_xlabel(r'$\\lambda$')\n",
    "ax0.set_ylabel(r'$g$')\n",
    "\n",
    "ax0.scatter(lambdaArrInit,gArrInit, c='k', label=r'Initial guess')\n",
    "ax0.scatter(np.split(fit.x,2)[0], np.split(fit.x,2)[1]/np.sum(np.split(fit.x,2)[1]), c='r', label=r'First fit')\n",
    "leg = ax0.legend()\n",
    "ax0.set_xscale('log')\n",
    "\n",
    "ax1 = fig1.add_subplot(132)\n",
    "\n",
    "ax1.set_title(\"Check results of the fit\")\n",
    "ax1.set_xlabel(r'$t/\\tau_c$')\n",
    "ax1.set_ylabel(r'log residuals')\n",
    "\n",
    "ax1.plot(x,Gt_MMM_vec(time=x, params=np.append(lambdaArrInit, gArrInit)), c='k', label=r'Initial guess')\n",
    "ax1.plot(x,Gt_MMM_vec(time=x, params=fit.x), c='r', label=r'First fit')\n",
    "ax1.plot(x,y, c='g', label=r'$f_d(t)$')\n",
    "\n",
    "leg = ax1.legend()\n",
    "ax1.set_xscale('log')\n",
    "ax1.set_yscale('log')\n",
    "\n",
    "ax2 = fig1.add_subplot(133)\n",
    "\n",
    "ax2.set_title(r'$f_d(t)$')\n",
    "ax2.set_xlabel(r'$t/\\tau_c$')\n",
    "ax2.set_ylabel(r'$f_d(t)$')\n",
    "\n",
    "ax2.plot(x,Gt_MMM_vec(time=x, params=np.append(lambdaArrInit, gArrInit)), c='k', label=r'Initial guess')\n",
    "ax2.plot(x,Gt_MMM_vec(time=x, params=fit.x), c='r', label=r'First fit')\n",
    "ax2.plot(x,y, c='g', label=r'Simulation data')\n",
    "leg = ax2.legend()\n",
    "ax2.set_xscale('log')\n",
    "\n",
    "plt.show()"
   ]
  },
  {
   "cell_type": "markdown",
   "metadata": {},
   "source": [
    "## 2. Improve fit using log-residuals $\\log(G_i)-\\log(G^{MMM}(t_i))$ to find best fit for the longest relaxation tail "
   ]
  },
  {
   "cell_type": "code",
   "execution_count": null,
   "metadata": {},
   "outputs": [],
   "source": [
    "fits_2 = [] #output of fitting function for all tested numbers of modes\n",
    "# best_nmodes = successful_fits_1[0]\n",
    "# for i in successful_fits_1:\n",
    "#     fit = fits_1[i-1]\n",
    "#print('nmodes\\t{0}'.format(i))\n",
    "print(fit.message)\n",
    "print('Initial guess MSE\\t{0}'.format(MSE_MMM(gArrInit)))\n",
    "print('Fit MSE\\t\\t\\t{0}'.format(MSE_MMM(fit.x)))\n",
    "\n",
    "fit2 = least_squares(residuals_log_Gt_MMM, fit.x, xtol=1e-14, ftol=1e-14)\n",
    "fits_2.append(fit2)\n",
    "\n",
    "if fit2.success:\n",
    "    print(fit2.message)\n",
    "    print('First fit log-MSE\\t{0}'.format(log_MSE_MMM(fit.x)))\n",
    "    print('Second fit log-MSE\\t{0}'.format(log_MSE_MMM(fit2.x)))\n",
    "\n",
    "print(' ')"
   ]
  },
  {
   "cell_type": "code",
   "execution_count": null,
   "metadata": {},
   "outputs": [],
   "source": [
    "fit2.x"
   ]
  },
  {
   "cell_type": "code",
   "execution_count": null,
   "metadata": {},
   "outputs": [],
   "source": [
    "# fit = fits_1[8-1]\n",
    "# fit2 = best_fit\n",
    "h=h_CFSM(x, 257)\n",
    "\n",
    "fig3 = plt.figure(figsize=(24, 6))\n",
    "\n",
    "ax0 = fig3.add_subplot(131)\n",
    "\n",
    "ax0.set_title(r'$p^{cr}\\left(\\tau\\right)$')\n",
    "ax0.set_xlabel(r'$\\lambda$')\n",
    "ax0.set_ylabel(r'$g$')\n",
    "\n",
    "ax0.scatter(lambdaArrInit,gArrInit, c='k', label=r'Initial guess')\n",
    "ax0.scatter(np.split(fit.x,2)[0], np.split(fit.x,2)[1]/np.sum(np.split(fit.x,2)[1]), c='r', label=r'First fit')\n",
    "ax0.scatter(np.split(fit2.x,2)[0],np.split(fit2.x,2)[1]/np.sum(np.split(fit2.x,2)[1]), c='b', label=r'Second fit')\n",
    "ax0.plot(x,h)\n",
    "leg = ax0.legend()\n",
    "ax0.set_xscale('log')\n",
    "ax0.set_yscale('log')\n",
    "\n",
    "ax1 = fig3.add_subplot(132)\n",
    "\n",
    "ax1.set_title(\"Check results of the fit\")\n",
    "ax1.set_xlabel(r'$t/\\tau_c$')\n",
    "ax1.set_ylabel(r'log residuals')\n",
    "\n",
    "ax1.plot(x,Gt_MMM_vec(time=x, params=np.append(lambdaArrInit, gArrInit)), c='k', label=r'Initial guess')\n",
    "ax1.plot(x,Gt_MMM_vec(time=x, params=fit.x), c='r', label=r'First fit')\n",
    "ax1.plot(x,Gt_MMM_vec(time=x, params=fit2.x), c='b', label=r'Second fit')\n",
    "ax1.plot(x,y, c='g', label=r'$f_d(t)$')\n",
    "\n",
    "leg = ax1.legend()\n",
    "ax1.set_xscale('log')\n",
    "ax1.set_yscale('log')\n",
    "\n",
    "ax2 = fig3.add_subplot(133)\n",
    "\n",
    "ax2.set_title(r'$f_d(t)$')\n",
    "ax2.set_xlabel(r'$t/\\tau_c$')\n",
    "ax2.set_ylabel(r'$f_d(t)$')\n",
    "\n",
    "ax2.plot(x,Gt_MMM_vec(time=x, params=np.append(lambdaArrInit, gArrInit)), c='k', label=r'Initial guess')\n",
    "ax2.plot(x,Gt_MMM_vec(time=x, params=fit.x), c='r', label=r'First fit')\n",
    "ax2.plot(x,Gt_MMM_vec(time=x, params=fit2.x), c='b', label=r'Second fit')\n",
    "ax2.plot(x,y, c='g', label=r'Simulation data')\n",
    "leg = ax2.legend()\n",
    "ax2.set_xscale('log')\n",
    "\n",
    "plt.show()"
   ]
  },
  {
   "cell_type": "markdown",
   "metadata": {},
   "source": [
    "### Relaxation spectrum $h\\left(\\tau\\right)$"
   ]
  },
  {
   "cell_type": "code",
   "execution_count": null,
   "metadata": {
    "collapsed": true
   },
   "outputs": [],
   "source": [
    "li=np.split(fit2.x,2)[0]\n",
    "gi=np.split(fit2.x,2)[1]/np.sum(np.split(fit2.x,2)[1])\n",
    "list=zip(li,gi)\n",
    "list.sort()\n",
    "li=zip(*list)[0]\n",
    "gi=zip(*list)[1]"
   ]
  },
  {
   "cell_type": "code",
   "execution_count": null,
   "metadata": {},
   "outputs": [],
   "source": [
    "fig8 = plt.figure(figsize=(8, 6))\n",
    "\n",
    "ax1 = fig8.add_subplot(111)\n",
    "\n",
    "ax1.set_title(\"Multimode $h(\\\\tau)$ fitting\")\n",
    "ax1.set_xlabel(r'$\\lambda$')\n",
    "ax1.set_ylabel(r'$g^\\prime$')\n",
    "\n",
    "ax1.scatter(li,gi, c='k')\n",
    "\n",
    "leg = ax1.legend()\n",
    "ax1.set_xscale('log')\n",
    "ax1.set_yscale('log')\n",
    "\n",
    "plt.show()"
   ]
  },
  {
   "cell_type": "markdown",
   "metadata": {},
   "source": [
    "** Shape of the discrete equilibrium spectrum is similar to two linear pieces. We may try to identify them using Ramer-Douglas-Peucker algorithm **"
   ]
  },
  {
   "cell_type": "code",
   "execution_count": null,
   "metadata": {
    "collapsed": true
   },
   "outputs": [],
   "source": [
    "from math import sqrt"
   ]
  },
  {
   "cell_type": "code",
   "execution_count": null,
   "metadata": {
    "collapsed": true
   },
   "outputs": [],
   "source": [
    "def distance(a, b):\n",
    "    return  sqrt((a[0] - b[0]) ** 2 + (a[1] - b[1]) ** 2)\n",
    "\n",
    "def point_line_distance(point, start, end):\n",
    "    if (start == end):\n",
    "        return distance(point, start)\n",
    "    else:\n",
    "        n = abs(\n",
    "            (end[0] - start[0]) * (start[1] - point[1]) - (start[0] - point[0]) * (end[1] - start[1])\n",
    "        )\n",
    "        d = sqrt(\n",
    "            (end[0] - start[0]) ** 2 + (end[1] - start[1]) ** 2\n",
    "        )\n",
    "        return n / d"
   ]
  },
  {
   "cell_type": "markdown",
   "metadata": {},
   "source": [
    "** Find the farthest point from the line connecting first and last point in the spectrum **"
   ]
  },
  {
   "cell_type": "code",
   "execution_count": null,
   "metadata": {},
   "outputs": [],
   "source": [
    "dmax = 0.0\n",
    "index = 0\n",
    "for i in range(1, len(li) - 1):\n",
    "    d = point_line_distance((np.log(li[i]),np.log(gi[i])), (np.log(li[0]),np.log(gi[0])), (np.log(li[-1]),np.log(gi[-1])))\n",
    "    if d > dmax:\n",
    "        index = i\n",
    "        dmax = d\n",
    "index\n",
    "#(np.log(li[index]),gi[index])"
   ]
  },
  {
   "cell_type": "markdown",
   "metadata": {},
   "source": [
    "** Define bilinear BSW spectrum **"
   ]
  },
  {
   "cell_type": "code",
   "execution_count": null,
   "metadata": {
    "collapsed": true
   },
   "outputs": [],
   "source": [
    "def biliniear_spectrum(t, params):\n",
    "    if (t > params[1] and t < params[2]):\n",
    "        return params[0] * t**params[4]\n",
    "    elif (t > params[2] and t < params[3]):\n",
    "        return params[0] * params[2]**params[4] * (t/params[2])**params[5]\n",
    "    else:\n",
    "        return 0.0\n",
    "    \n",
    "def bsw_vs(l, a):\n",
    "    return (a[0]*( np.exp(l[0])*(l[0]-1) + np.exp(l[1]) - l[1]*np.exp(l[2]) ) - a[1]*( np.exp(l[1])*(l[1]-1) - np.exp(l[2])*(l[2]-1) ))/(np.exp(l[2])-np.exp(l[0]))"
   ]
  },
  {
   "cell_type": "markdown",
   "metadata": {},
   "source": [
    "** Initial guess from multimode discrete spectrum **"
   ]
  },
  {
   "cell_type": "code",
   "execution_count": null,
   "metadata": {
    "scrolled": true
   },
   "outputs": [],
   "source": [
    "lambdaBSW = [li[0], li[index], li[-1]]\n",
    "alphaBSW = [(np.log(gi[index])-np.log(gi[0]))/(np.log(li[index])-np.log(li[0])),(np.log(gi[-1])-np.log(gi[index]))/(np.log(li[-1])-np.log(li[index]))]\n",
    "\n",
    "bilinear_spectrum_vec=np.vectorize(biliniear_spectrum, excluded=['params'])\n",
    "\n",
    "fig9 = plt.figure(figsize=(8, 6))\n",
    "\n",
    "ax0 = fig9.add_subplot(111)\n",
    "\n",
    "lArray=10**(-3+(np.array(range(1001), float)/1000)*10)\n",
    "ax0.plot(x,h, c='b')\n",
    "ax0.plot(lArray, h_BSW(lArray, alphaBSW, lambdaBSW, 2) )\n",
    "ax0.scatter(li,gi, c='r', label=r'Best SciPy fit')\n",
    "ax0.set_xscale('log')\n",
    "ax0.set_yscale('log')\n",
    "plt.show()"
   ]
  },
  {
   "cell_type": "code",
   "execution_count": null,
   "metadata": {},
   "outputs": [],
   "source": [
    "alphaBSW"
   ]
  },
  {
   "cell_type": "markdown",
   "metadata": {},
   "source": [
    "## 4. Use initial guess of BSW to fit G(t) with BSW expressions"
   ]
  },
  {
   "cell_type": "code",
   "execution_count": null,
   "metadata": {},
   "outputs": [],
   "source": []
  },
  {
   "cell_type": "code",
   "execution_count": null,
   "metadata": {},
   "outputs": [],
   "source": [
    "fig10 = plt.figure(figsize=(8, 6))\n",
    "\n",
    "ax1 = fig10.add_subplot(111)\n",
    "\n",
    "ax1.set_title(\"Entanglement lifetime distribution\")\n",
    "ax1.set_xlabel(r'$t/\\tau_c$')\n",
    "ax1.set_ylabel(r'$G(t)$')\n",
    "plt.xlim(xmin=1, xmax=1e7)\n",
    "ax1.plot(x,y, c='r', label=r'$G(t)$')\n",
    "ax1.plot(x,Gt_BSW(x, alphaBSW, lambdaBSW, 2, GN0), c='k', label=r'initial BSW')\n",
    "leg = ax1.legend()\n",
    "ax1.set_xscale('log')\n",
    "#ax1.set_yscale('log')\n",
    "\n",
    "plt.show()"
   ]
  },
  {
   "cell_type": "code",
   "execution_count": null,
   "metadata": {},
   "outputs": [],
   "source": [
    "np.array(Gt_BSW(x, alphaBSW, lambdaBSW, 2,GN0)-y,dtype='float')"
   ]
  },
  {
   "cell_type": "code",
   "execution_count": null,
   "metadata": {
    "collapsed": true
   },
   "outputs": [],
   "source": [
    "def residuals_Gt_BSW(params):\n",
    "    n=2\n",
    "    alpha = params[0:n]\n",
    "    tauv = params[n:2*n+1]\n",
    "\n",
    "    return np.array(Gt_BSW(x, alpha, tauv, 2, GN0)-y, dtype='float')"
   ]
  },
  {
   "cell_type": "code",
   "execution_count": null,
   "metadata": {},
   "outputs": [],
   "source": [
    "initial_bsw=np.concatenate((alphaBSW,lambdaBSW))\n",
    "residuals_Gt_BSW(initial_bsw)"
   ]
  },
  {
   "cell_type": "code",
   "execution_count": null,
   "metadata": {},
   "outputs": [],
   "source": [
    "fit3 = least_squares(residuals_Gt_BSW, initial_bsw, bounds=([-np.inf,0,0,0,0],[0,np.inf,np.inf,np.inf,np.inf]))"
   ]
  },
  {
   "cell_type": "code",
   "execution_count": null,
   "metadata": {},
   "outputs": [],
   "source": [
    "fit3.x"
   ]
  },
  {
   "cell_type": "code",
   "execution_count": null,
   "metadata": {},
   "outputs": [],
   "source": [
    "initial_bsw"
   ]
  },
  {
   "cell_type": "code",
   "execution_count": null,
   "metadata": {},
   "outputs": [],
   "source": [
    "fig11 = plt.figure(figsize=(8, 6))\n",
    "\n",
    "ax0 = fig11.add_subplot(111)\n",
    "\n",
    "lArray=10**(-3+(np.array(range(1001), float)/1000)*10)\n",
    "ax0.plot(x,h, c='b')\n",
    "ax0.plot(lArray, h_BSW(lArray, alphaBSW, lambdaBSW, 2) )\n",
    "ax0.plot(lArray, h_BSW(lArray, fit3.x[0:2], fit3.x[2:5], 2) )\n",
    "ax0.scatter(li,gi, c='r', label=r'Best SciPy fit')\n",
    "ax0.set_xscale('log')\n",
    "ax0.set_yscale('log')\n",
    "plt.show()"
   ]
  },
  {
   "cell_type": "code",
   "execution_count": null,
   "metadata": {},
   "outputs": [],
   "source": [
    "fig12 = plt.figure(figsize=(8, 6))\n",
    "\n",
    "ax1 = fig12.add_subplot(111)\n",
    "\n",
    "ax1.set_title(\"Entanglement lifetime distribution\")\n",
    "ax1.set_xlabel(r'$t/\\tau_c$')\n",
    "ax1.set_ylabel(r'$G(t)$')\n",
    "plt.xlim(xmin=1, xmax=1e7)\n",
    "ax1.plot(x,y, c='r', label=r'$G(t)$')\n",
    "ax1.plot(x,Gt_BSW(x, alphaBSW, lambdaBSW, 2, GN0), c='k', label=r'Initial BSW')\n",
    "ax1.plot(x,Gt_BSW(x, fit3.x[0:2], fit3.x[2:5], 2, GN0), c='b', label=r'First fit BSW')\n",
    "leg = ax1.legend()\n",
    "ax1.set_xscale('log')\n",
    "ax1.set_yscale('log')\n",
    "\n",
    "plt.show()"
   ]
  },
  {
   "cell_type": "markdown",
   "metadata": {},
   "source": [
    "## 5. Improve BSW fit using log-residuals"
   ]
  },
  {
   "cell_type": "code",
   "execution_count": null,
   "metadata": {
    "collapsed": true
   },
   "outputs": [],
   "source": [
    "def log_residuals_Gt_BSW(params):\n",
    "    n=2\n",
    "    alpha = params[0:n]\n",
    "    tauv = params[n:2*n+1]\n",
    "\n",
    "    return np.log(np.array(Gt_BSW(x, alpha, tauv, 2, GN0),dtype='float'))-np.log(y)"
   ]
  },
  {
   "cell_type": "code",
   "execution_count": null,
   "metadata": {
    "collapsed": true
   },
   "outputs": [],
   "source": [
    "fit4 = least_squares(log_residuals_Gt_BSW, fit3.x, bounds=([-np.inf,0,0,0,0],[0,np.inf,np.inf,np.inf,np.inf]))"
   ]
  },
  {
   "cell_type": "code",
   "execution_count": null,
   "metadata": {},
   "outputs": [],
   "source": [
    "fit4.x"
   ]
  },
  {
   "cell_type": "code",
   "execution_count": null,
   "metadata": {},
   "outputs": [],
   "source": [
    "fig13 = plt.figure(figsize=(8, 6))\n",
    "\n",
    "ax0 = fig13.add_subplot(111)\n",
    "\n",
    "lArray=10**(-3+(np.array(range(1001), float)/1000)*10)\n",
    "ax0.plot(x,h, c='b')\n",
    "ax0.plot(lArray, h_BSW(lArray, alphaBSW, lambdaBSW, 2) )\n",
    "ax0.plot(lArray, h_BSW(lArray, fit3.x[0:2], fit3.x[2:5], 2) )\n",
    "ax0.plot(lArray, h_BSW(lArray, fit4.x[0:2], fit4.x[2:5], 2) )\n",
    "ax0.scatter(li,gi, c='r', label=r'Best SciPy fit')\n",
    "ax0.set_xscale('log')\n",
    "ax0.set_yscale('log')\n",
    "plt.show()"
   ]
  },
  {
   "cell_type": "code",
   "execution_count": null,
   "metadata": {},
   "outputs": [],
   "source": [
    "fig14 = plt.figure(figsize=(8, 6))\n",
    "\n",
    "ax1 = fig14.add_subplot(111)\n",
    "\n",
    "ax1.set_title(\"Entanglement lifetime distribution\")\n",
    "ax1.set_xlabel(r'$t/\\tau_c$')\n",
    "ax1.set_ylabel(r'$G(t)$')\n",
    "plt.xlim(xmin=1, xmax=2e7)\n",
    "ax1.plot(x,y, c='r', label=r'$G(t)$')\n",
    "ax1.plot(x,Gt_BSW(x, alphaBSW, lambdaBSW, 2, GN0), c='k', label=r'Initial BSW')\n",
    "ax1.plot(x,Gt_BSW(x, fit3.x[0:2], fit3.x[2:5], 2, GN0), c='b', label=r'First fit BSW')\n",
    "ax1.plot(x,Gt_BSW(x, fit4.x[0:2], fit4.x[2:5], 2, GN0), c='g', label=r'Second fit BSW')\n",
    "leg = ax1.legend()\n",
    "ax1.set_xscale('log')\n",
    "ax1.set_yscale('log')\n",
    "\n",
    "plt.show()"
   ]
  },
  {
   "cell_type": "code",
   "execution_count": null,
   "metadata": {
    "collapsed": true
   },
   "outputs": [],
   "source": []
  }
 ],
 "metadata": {
  "kernelspec": {
   "display_name": "anaconda_kernel",
   "language": "python",
   "name": "anaconda_kernel"
  },
  "language_info": {
   "codemirror_mode": {
    "name": "ipython",
    "version": 2
   },
   "file_extension": ".py",
   "mimetype": "text/x-python",
   "name": "python",
   "nbconvert_exporter": "python",
   "pygments_lexer": "ipython2",
   "version": "2.7.14"
  }
 },
 "nbformat": 4,
 "nbformat_minor": 1
}
