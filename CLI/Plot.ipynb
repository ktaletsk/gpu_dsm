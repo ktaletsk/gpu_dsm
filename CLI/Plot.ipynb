{
 "cells": [
  {
   "cell_type": "code",
   "execution_count": 91,
   "metadata": {
    "collapsed": false
   },
   "outputs": [
   ],
   "source": [
    "import numpy as np\n",
    "import matplotlib.pyplot as plt\n",
    "from scipy.optimize import least_squares"
   ]
  },
  {
   "cell_type": "markdown",
   "metadata": {
    "collapsed": false
   },
   "source": [
    "## Run GPU DSM"
   ]
  },
  {
   "cell_type": "markdown",
   "metadata": {
    "collapsed": false
   },
   "source": [
    "Check the input input file for simulation"
   ]
  },
  {
   "cell_type": "code",
   "execution_count": 92,
   "metadata": {
    "collapsed": false
   },
   "outputs": [
    {
     "name": "stdout",
     "output_type": "stream",
     "text": [
      "\t1\n",
      "\tlinear\n",
      "\t16\n",
      "\t1000\n",
      "\t0.0     0.0 0.0 0.0     0.0     0.0     0.0     0.0     0.0\n",
      "\t1\n",
      "\t0\n",
      "\t1\n",
      "\t1.0\n",
      "\t10000\n",
      "\n"
     ]
    }
   ],
   "source": [
    "f = open('input.dat', 'r')\n",
    "file_contents = f.read()\n",
    "print (file_contents)\n",
    "f.close()"
   ]
  },
  {
   "cell_type": "markdown",
   "metadata": {
    "collapsed": false
   },
   "source": [
    "Run the simulation"
   ]
  },
  {
   "cell_type": "code",
   "execution_count": 93,
   "metadata": {
    "collapsed": false
   },
   "outputs": [
    {
     "name": "stdout",
     "output_type": "stream",
     "text": [
      "device Count 1 \r\n",
      "Using device 0: GeForce GTX 780\r\n"
     ]
    },
    {
     "name": "stdout",
     "output_type": "stream",
     "text": [
      "\r\n",
      "Architecture is linear\r\n",
      "simulation parameters:\r\n",
      "NK\tBeta\tN_cha\r\n",
      "16\t1\t1000\r\n",
      "deformation tensor:\r\n",
      "0\t0\t0\r\n",
      "0\t0\t0\r\n",
      "0\t0\t0\r\n",
      "G(t) calculation is on\r\n",
      "simulation time, sync time\r\n",
      "10000\t1\r\n",
      "generating chain conformations on host..done\r\n",
      "preparing GPU random number generator parameters..\r\n",
      "device random number generator parameters done\r\n",
      "preparing GPU chain conformations..\r\n",
      " device constants done\r\n",
      "\r\n",
      " GPU random generator init: \r\n"
     ]
    },
    {
     "name": "stdout",
     "output_type": "stream",
     "text": [
      "  device random generators 1 seeding...done\r\n",
      "  device random generators 2 seeding...done\r\n",
      "  preparing random number sequence...done\r\n",
      " GPU random generator init done.\r\n",
      "\r\n",
      " Number of ensemble blocks 1\r\n",
      "number of correlator levels\t5\r\n",
      "\r\n",
      "  copying chains to device block 1. chains in the ensemble block 1000\r\n",
      " device chains done\r\n",
      "init done\r\n",
      "G(t) calc...\r\n"
     ]
    },
    {
     "name": "stdout",
     "output_type": "stream",
     "text": [
      "\r\n",
      "0\t6.68496\r\n",
      "1\t5.34841\r\n",
      "2\t4.84171\r\n",
      "3\t4.53026\r\n",
      "4\t4.30486\r\n",
      "5\t4.12724\r\n",
      "6\t3.98051\r\n",
      "7\t3.85495\r\n",
      "8\t3.7456\r\n",
      "9\t3.64862\r\n",
      "10\t3.56097\r\n",
      "11\t3.48163\r\n",
      "12\t3.40934\r\n",
      "13\t3.34187\r\n",
      "14\t3.27929\r\n",
      "15\t3.22079\r\n",
      "16\t3.18365\r\n",
      "24\t2.82688\r\n",
      "32\t2.57486\r\n",
      "40\t2.37975\r\n",
      "48\t2.21941\r\n",
      "56\t2.08451\r\n",
      "64\t1.96883\r\n",
      "72\t1.86881\r\n",
      "80\t1.77955\r\n",
      "88\t1.69939\r\n",
      "96\t1.62724\r\n",
      "104\t1.5614\r\n",
      "112\t1.50096\r\n",
      "120\t1.44379\r\n",
      "128\t1.41075\r\n",
      "192\t1.08212\r\n",
      "256\t0.869049\r\n",
      "320\t0.719227\r\n",
      "384\t0.602289\r\n",
      "448\t0.508947\r\n",
      "512\t0.436639\r\n",
      "576\t0.381287\r\n",
      "640\t0.335781\r\n",
      "704\t0.296791\r\n",
      "768\t0.264048\r\n",
      "832\t0.230138\r\n",
      "896\t0.202832\r\n",
      "960\t0.175693\r\n",
      "1024\t0.17366\r\n",
      "1536\t0.0759347\r\n",
      "2048\t0.0345397\r\n",
      "2560\t0.0180493\r\n",
      "3072\t0.00037736\r\n",
      "3584\t0.00195464\r\n",
      "4096\t-0.000970548\r\n",
      "4608\t-0.00613486\r\n",
      "5120\t0.00161151\r\n",
      "5632\t-0.000998015\r\n",
      "6144\t-0.00590883\r\n",
      "6656\t-0.00620558\r\n",
      "7168\t0.000956536\r\n",
      "7680\t-0.000786022\r\n"
     ]
    },
    {
     "name": "stdout",
     "output_type": "stream",
     "text": [
      "Memory cleanup.. done.\r\n",
      "Calculation time: 9983.38 milliseconds\r\n"
     ]
    }
   ],
   "source": [
    "!./gpu_DSM"
   ]
  },
  {
   "cell_type": "markdown",
   "metadata": {
    "collapsed": false
   },
   "source": [
    "## Simulation results and fitting"
   ]
  },
  {
   "cell_type": "code",
   "execution_count": 95,
   "metadata": {
    "collapsed": false,
    "scrolled": true
   },
   "outputs": [
    {
     "data": {
      "image/png": "[encoded data removed]"
     },
     "execution_count": 95,
     "metadata": {
     },
     "output_type": "execute_result"
    }
   ],
   "source": [
    "with open('fdt.dat') as f:\n",
    "    lines = f.readlines()\n",
    "    x = np.array([float(line.split()[0]) for line in lines])\n",
    "    y = np.array([float(line.split()[1]) for line in lines])\n",
    "\n",
    "fig = plt.figure()\n",
    "\n",
    "ax1 = fig.add_subplot(111)\n",
    "\n",
    "ax1.set_title(\"Entanglement lifetime distribution\")    \n",
    "ax1.set_xlabel(r'$t/\\tau_c$')\n",
    "ax1.set_ylabel(r'$f_d(t)$')\n",
    "\n",
    "ax1.plot(x,y, c='r', label=r'$f_d(t)$')\n",
    "\n",
    "leg = ax1.legend()\n",
    "ax1.set_xscale('log')\n",
    "ax1.set_yscale('log')\n",
    "\n",
    "plt.show()"
   ]
  },
  {
   "cell_type": "code",
   "execution_count": 96,
   "metadata": {
    "collapsed": false
   },
   "outputs": [
    {
     "data": {
      "image/png": "[encoded data removed]"
     },
     "execution_count": 96,
     "metadata": {
     },
     "output_type": "execute_result"
    }
   ],
   "source": [
    "with open('G.dat') as g:\n",
    "    lines = g.readlines()\n",
    "    x = np.array([float(line.split()[0]) for line in lines])\n",
    "    y = np.array([float(line.split()[1]) for line in lines])\n",
    "\n",
    "fig = plt.figure()\n",
    "\n",
    "ax1 = fig.add_subplot(111)\n",
    "\n",
    "ax1.set_title(\"Entanglement lifetime distribution\")    \n",
    "ax1.set_xlabel(r'$t/\\tau_c$')\n",
    "ax1.set_ylabel(r'$f_d(t)$')\n",
    "\n",
    "ax1.plot(x,y, c='r', label=r'$G(t)$')\n",
    "\n",
    "leg = ax1.legend()\n",
    "ax1.set_xscale('log')\n",
    "ax1.set_yscale('log')\n",
    "\n",
    "plt.show()"
   ]
  },
  {
   "cell_type": "code",
   "execution_count": 97,
   "metadata": {
    "collapsed": false
   },
   "outputs": [
   ],
   "source": [
    "tfinal=x[-1]\n",
    "GN0=y[0]"
   ]
  },
  {
   "cell_type": "code",
   "execution_count": 98,
   "metadata": {
    "collapsed": false
   },
   "outputs": [
   ],
   "source": [
    "nmodes=10"
   ]
  },
  {
   "cell_type": "code",
   "execution_count": 99,
   "metadata": {
    "collapsed": false
   },
   "outputs": [
   ],
   "source": [
    "lambdaArrInit=10.0**(np.array(range(nmodes), float) + 1.0) / nmodes * np.log10(tfinal)\n",
    "gArrInit=np.full(nmodes, 1.0/nmodes)\n",
    "def G(time, params):\n",
    "    lambdaArr = np.split(params,2)[0]\n",
    "    gArr = np.split(params,2)[1]\n",
    "    return np.dot(np.exp(-time/lambdaArr), gArr) * GN0\n",
    "\n",
    "#Vectorize function G\n",
    "Gvec=np.vectorize(G, excluded=['params'])\n",
    "\n",
    "#Define residuals\n",
    "def residuals(param):\n",
    "    return Gvec(time=x, params=param)-y"
   ]
  },
  {
   "cell_type": "code",
   "execution_count": 101,
   "metadata": {
    "collapsed": false,
    "scrolled": true
   },
   "outputs": [
    {
     "data": {
      "text/plain": [
       "array([ 0.        ,  1.16595757,  1.5369247 ,  1.73967893,  1.8773707 ,\n",
       "        1.98359105,  2.07161071,  2.14834963,  2.21660118,  2.27852843,\n",
       "        2.33587309,  2.38864964,  2.43733893,  2.48356685,  2.52679467,\n",
       "        2.56746838,  2.58802493,  2.83829781,  3.00770664,  3.13400729,\n",
       "        3.23609004,  3.32127166,  3.39421341,  3.45721606,  3.51415518,\n",
       "        3.56585634,  3.6127296 ,  3.65592078,  3.69588805,  3.73439293,\n",
       "        3.75027475,  3.97407027,  4.10973592,  4.19484365,  4.25581369,\n",
       "        4.30023566,  4.32954805,  4.34693672,  4.35876643,  4.36773703,\n",
       "        4.37358318,  4.38326542,  4.38862782,  4.39578062,  4.37950732,\n",
       "        4.36923119,  4.33626118,  4.29223966,  4.2573666 ,  4.20911846,\n",
       "        4.17023346,  4.13777958,  4.09607963,  4.06795349,  4.04495909,\n",
       "        4.01984243,  3.98946204,  3.96992134])"
      ]
     },
     "execution_count": 101,
     "metadata": {
     },
     "output_type": "execute_result"
    }
   ],
   "source": [
    "Gvec(time=x, params=np.append(lambdaArrInit, gArrInit))-y"
   ]
  },
  {
   "cell_type": "code",
   "execution_count": 102,
   "metadata": {
    "collapsed": false,
    "scrolled": true
   },
   "outputs": [
    {
     "data": {
      "text/plain": [
       "array([ 0.        ,  1.16595757,  1.5369247 ,  1.73967893,  1.8773707 ,\n",
       "        1.98359105,  2.07161071,  2.14834963,  2.21660118,  2.27852843,\n",
       "        2.33587309,  2.38864964,  2.43733893,  2.48356685,  2.52679467,\n",
       "        2.56746838,  2.58802493,  2.83829781,  3.00770664,  3.13400729,\n",
       "        3.23609004,  3.32127166,  3.39421341,  3.45721606,  3.51415518,\n",
       "        3.56585634,  3.6127296 ,  3.65592078,  3.69588805,  3.73439293,\n",
       "        3.75027475,  3.97407027,  4.10973592,  4.19484365,  4.25581369,\n",
       "        4.30023566,  4.32954805,  4.34693672,  4.35876643,  4.36773703,\n",
       "        4.37358318,  4.38326542,  4.38862782,  4.39578062,  4.37950732,\n",
       "        4.36923119,  4.33626118,  4.29223966,  4.2573666 ,  4.20911846,\n",
       "        4.17023346,  4.13777958,  4.09607963,  4.06795349,  4.04495909,\n",
       "        4.01984243,  3.98946204,  3.96992134])"
      ]
     },
     "execution_count": 102,
     "metadata": {
     },
     "output_type": "execute_result"
    }
   ],
   "source": [
    "residuals(np.append(lambdaArrInit, gArrInit))"
   ]
  },
  {
   "cell_type": "code",
   "execution_count": 103,
   "metadata": {
    "collapsed": false,
    "scrolled": true
   },
   "outputs": [
    {
     "name": "stderr",
     "output_type": "stream",
     "text": [
      "/opt/conda/lib/python2.7/site-packages/ipykernel_launcher.py:6: RuntimeWarning: overflow encountered in exp\n",
      "  \n"
     ]
    },
    {
     "data": {
      "image/png": "[encoded data removed]"
     },
     "execution_count": 103,
     "metadata": {
     },
     "output_type": "execute_result"
    }
   ],
   "source": [
    "res_1 = least_squares(residuals, np.append(lambdaArrInit, gArrInit))\n",
    "res_1.x\n",
    "\n",
    "fig2 = plt.figure()\n",
    "\n",
    "ax1 = fig2.add_subplot(111)\n",
    "\n",
    "ax1.set_title(\"Multimode Maxwell results\")\n",
    "ax1.set_xlabel(r'$g$')\n",
    "ax1.set_ylabel(r'$\\lambda$')\n",
    "\n",
    "ax1.scatter(np.split(res_1.x,2)[0],np.split(res_1.x,2)[1], c='r', label=r'$G(t)$ fit')\n",
    "leg = ax1.legend()\n",
    "ax1.set_xscale('log')\n",
    "\n",
    "plt.show()"
   ]
  },
  {
   "cell_type": "markdown",
   "metadata": {
    "collapsed": false
   },
   "source": [
    "**Check results of fitting**"
   ]
  },
  {
   "cell_type": "code",
   "execution_count": 105,
   "metadata": {
    "collapsed": false
   },
   "outputs": [
    {
     "data": {
      "text/plain": [
       "<matplotlib.figure.Figure at 0x7fb2de135190>"
      ]
     },
     "execution_count": 105,
     "metadata": {
     },
     "output_type": "execute_result"
    }
   ],
   "source": [
    "fig3 = plt.figure()\n",
    "\n",
    "ax2 = fig.add_subplot(111)\n",
    "\n",
    "ax2.set_title(\"Check results of the fit\")\n",
    "ax2.set_xlabel(r'$t/\\tau_c$')\n",
    "ax2.set_ylabel(r'$G(t)$')\n",
    "\n",
    "ax2.plot(x,Gvec(time=x, params=res_1.x), c='r', label=r'$G(t)$ fit')\n",
    "ax2.plot(x,y, c='g', label=r'$G(t)$')\n",
    "leg = ax1.legend()\n",
    "ax2.set_xscale('log')\n",
    "ax2.set_yscale('log')\n",
    "\n",
    "plt.show()\n"
   ]
  },
  {
   "cell_type": "code",
   "execution_count": 0,
   "metadata": {
    "collapsed": false
   },
   "outputs": [
   ],
   "source": [
   ]
  }
 ],
 "metadata": {
  "kernelspec": {
   "display_name": "anaconda_kernel",
   "language": "python",
   "name": "anaconda_kernel"
  },
  "language_info": {
   "codemirror_mode": {
    "name": "ipython",
    "version": 2
   },
   "file_extension": ".py",
   "mimetype": "text/x-python",
   "name": "python",
   "nbconvert_exporter": "python",
   "pygments_lexer": "ipython2",
   "version": "2.7.14"
  }
 },
 "nbformat": 4,
 "nbformat_minor": 0
}