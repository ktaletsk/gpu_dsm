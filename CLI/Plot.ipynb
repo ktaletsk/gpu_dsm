{
 "cells": [
  {
   "cell_type": "code",
   "execution_count": 838,
   "metadata": {
    "collapsed": false
   },
   "outputs": [
   ],
   "source": [
    "import numpy as np\n",
    "import matplotlib.pyplot as plt\n",
    "from scipy.optimize import least_squares, minimize\n",
    "from scipy.misc import logsumexp"
   ]
  },
  {
   "cell_type": "markdown",
   "metadata": {
    "collapsed": false
   },
   "source": [
    "## 1. Run GPU DSM\n",
    "\n",
    "Check the input input file for simulation"
   ]
  },
  {
   "cell_type": "code",
   "execution_count": 839,
   "metadata": {
    "collapsed": false
   },
   "outputs": [
    {
     "name": "stdout",
     "output_type": "stream",
     "text": [
      "\t1\n",
      "\tstar\n",
      "\t3\n",
      "\t16 16 16\n",
      "\t5000\n",
      "\t0.0     0.0 0.0 0.0     0.0     0.0     0.0     0.0     0.0\n",
      "\t1\n",
      "\t0\n",
      "\t1\n",
      "\t1.0\n",
      "\t100000\n",
      "\n"
     ]
    }
   ],
   "source": [
    "f = open('input.dat', 'r')\n",
    "file_contents = f.read()\n",
    "print (file_contents)\n",
    "f.close()"
   ]
  },
  {
   "cell_type": "markdown",
   "metadata": {
    "collapsed": false
   },
   "source": [
    "Run the simulation"
   ]
  },
  {
   "cell_type": "code",
   "execution_count": 840,
   "metadata": {
    "collapsed": false,
    "scrolled": true
   },
   "outputs": [
    {
     "name": "stdout",
     "output_type": "stream",
     "text": [
      "device Count 1 \r\n",
      "Using device 0: GeForce GTX 780\r\n"
     ]
    },
    {
     "name": "stdout",
     "output_type": "stream",
     "text": [
      "\r\n",
      "Architecture is star\r\n",
      "simulation parameters:\r\n",
      "NK\tBeta\tN_cha\r\n",
      "48\t1\t5000\r\n",
      "deformation tensor:\r\n",
      "0\t0\t0\r\n",
      "0\t0\t0\r\n",
      "0\t0\t0\r\n",
      "G(t) calculation is on\r\n",
      "simulation time, sync time\r\n",
      "100000\t1\r\n"
     ]
    },
    {
     "name": "stdout",
     "output_type": "stream",
     "text": [
      "generating chain conformations on host..done\r\n",
      "preparing GPU random number generator parameters..\r\n",
      "device random number generator parameters done\r\n",
      "preparing GPU chain conformations..\r\n",
      " device constants done\r\n",
      "\r\n",
      " GPU random generator init: \r\n",
      "  device random generators 1 seeding...done\r\n",
      "  device random generators 2 seeding...done\r\n",
      "  preparing random number sequence...done\r\n",
      " GPU random generator init done.\r\n",
      "\r\n",
      " Number of ensemble blocks 1\r\n",
      "number of correlator levels\t6\r\n",
      "\r\n",
      "  copying chains to device block 1. chains in the ensemble block 5000\r\n",
      " device chains done\r\n",
      "init done\r\n",
      "G(t) calc...\r\n"
     ]
    },
    {
     "name": "stdout",
     "output_type": "stream",
     "text": [
      "\r\n",
      "0\t21.7456\r\n",
      "1\t17.9226\r\n",
      "2\t16.3738\r\n",
      "3\t15.4156\r\n",
      "4\t14.7222\r\n",
      "5\t14.1776\r\n",
      "6\t13.7279\r\n",
      "7\t13.3441\r\n",
      "8\t13.0092\r\n",
      "9\t12.7116\r\n",
      "10\t12.4438\r\n",
      "11\t12.2008\r\n",
      "12\t11.9776\r\n",
      "13\t11.7714\r\n",
      "14\t11.5798\r\n",
      "15\t11.4011\r\n",
      "16\t11.2874\r\n",
      "24\t10.1949\r\n",
      "32\t9.42454\r\n",
      "40\t8.82803\r\n",
      "48\t8.34176\r\n",
      "56\t7.93229\r\n",
      "64\t7.57782\r\n",
      "72\t7.26546\r\n",
      "80\t6.9873\r\n",
      "88\t6.73702\r\n",
      "96\t6.50922\r\n",
      "104\t6.30043\r\n",
      "112\t6.10855\r\n",
      "120\t5.93039\r\n",
      "128\t5.8238\r\n",
      "192\t4.76709\r\n",
      "256\t4.06329\r\n",
      "320\t3.54693\r\n",
      "384\t3.14302\r\n",
      "448\t2.81652\r\n",
      "512\t2.5458\r\n",
      "576\t2.31671\r\n",
      "640\t2.12013\r\n",
      "704\t1.95036\r\n",
      "768\t1.8002\r\n",
      "832\t1.66693\r\n",
      "896\t1.54849\r\n",
      "960\t1.44418\r\n",
      "1024\t1.39721\r\n",
      "1536\t0.84539\r\n",
      "2048\t0.544513\r\n",
      "2560\t0.367367\r\n",
      "3072\t0.257904\r\n",
      "3584\t0.179822\r\n",
      "4096\t0.130372\r\n",
      "4608\t0.0935718\r\n",
      "5120\t0.0734361\r\n",
      "5632\t0.054022\r\n",
      "6144\t0.0371781\r\n",
      "6656\t0.0271026\r\n",
      "7168\t0.0199337\r\n",
      "7680\t0.0140756\r\n",
      "8192\t0.0169546\r\n",
      "12288\t-0.000467536\r\n",
      "16384\t0.0043814\r\n",
      "20480\t0.00135233\r\n",
      "24576\t0.0015659\r\n",
      "28672\t-0.00676224\r\n",
      "32768\t-0.00740397\r\n",
      "36864\t0.00468943\r\n",
      "40960\t-0.00252664\r\n",
      "45056\t-0.00105573\r\n",
      "49152\t-0.00361568\r\n",
      "53248\t-0.0028071\r\n",
      "57344\t0.00133655\r\n",
      "61440\t0.0123927\r\n",
      "65536\t-0.000127125\r\n"
     ]
    },
    {
     "name": "stdout",
     "output_type": "stream",
     "text": [
      "Memory cleanup.. done.\r\n",
      "Calculation time: 681599 milliseconds\r\n"
     ]
    }
   ],
   "source": [
    "!./gpu_DSM"
   ]
  },
  {
   "cell_type": "markdown",
   "metadata": {
    "collapsed": false
   },
   "source": [
    "## 2. Fit $f_d(t)$"
   ]
  },
  {
   "cell_type": "markdown",
   "metadata": {
    "collapsed": false
   },
   "source": [
    "We follow only slip-links created by SD from their individual times of creation:\n",
    "\n",
    "\\begin{align}\n",
    "f_d(t) &= \\int\\int p^{\\textrm{eq}}\\left(\\tau^{\\textrm{CD}}\\right) p^{\\textrm{cr}}\\left(\\tau^{\\textrm{SD}}\\right) e^{-\\frac{t}{\\tau^{\\textrm{CD}}}} e^{-\\frac{t}{\\tau^{\\textrm{SD}}}} \\mathrm{d}\\tau^{\\textrm{CD}} \\mathrm{d}\\tau^{\\textrm{SD}} && \\\\\n",
    "&= \\int_0^\\infty p^{\\textrm{eq}}\\left(\\tau^{\\textrm{CD}}\\right) e^{-\\frac{t}{\\tau^{\\textrm{CD}}}} \\mathrm{d}\\tau^{\\textrm{CD}}\\,\\int_0^\\infty p^{\\textrm{cr}}\\left(\\tau^{\\textrm{SD}}\\right) e^{-\\frac{t}{\\tau^{\\textrm{SD}}}} \\mathrm{d}\\tau^{\\textrm{SD}} &&\n",
    "\\end{align}\n",
    "\n",
    "We give our code $p^{\\textrm{eq}}\\left(\\tau^{\\textrm{CD}}\\right)$ as an input and would like to know $p^{\\textrm{cr}}\\left(\\tau^{\\textrm{SD}}\\right)$ that comes out from code by fitting $f_d(t)$.\n",
    "\n",
    "If we don't know the relaxation spectrum a priori, we can start with the discrete spectrum\n",
    "\\begin{equation}\n",
    "p^{\\textrm{cr}}\\left(\\tau\\right) = \\sum_i g_i \\delta(\\tau - \\tau_i)\n",
    "\\end{equation}\n",
    "\n",
    "\\begin{equation}\n",
    "\\int_0^\\infty p^{\\textrm{cr}}\\left(\\tau^{\\textrm{SD}}\\right) e^{-\\frac{t}{\\tau^{\\textrm{SD}}}} \\mathrm{d}\\tau^{\\textrm{SD}} = \\sum_i g_i e^{-\\frac{t}{\\tau_i}}\n",
    "\\end{equation}\n",
    "\n",
    "We are interested in $p^{\\textrm{eq}}\\left(\\tau\\right)$ and we need to convert our discrete fit\n",
    "\n",
    "\\begin{equation}\n",
    "p^{\\textrm{eq}}\\left(\\tau\\right) = \\frac{\\sum_i g_i \\tau_i \\delta\\left(\\tau - \\tau_i\\right)}{\\sum_i g_i \\tau_i} = \\sum_i g_i' \\delta\\left(\\tau - \\tau_i\\right)\n",
    "\\end{equation}"
   ]
  },
  {
   "cell_type": "markdown",
   "metadata": {
    "collapsed": false
   },
   "source": [
    "**First, read $f_d(t)$ from code**"
   ]
  },
  {
   "cell_type": "code",
   "execution_count": 870,
   "metadata": {
    "collapsed": false
   },
   "outputs": [
    {
     "data": {
      "image/png": "[encoded data removed]"
     },
     "output_type": "execute_result"
    }
   ],
   "source": [
    "with open('fdt.dat') as f:\n",
    "    lines = f.readlines()\n",
    "    x = np.array([float(line.split()[0]) for line in lines])\n",
    "    y = np.array([float(line.split()[1]) for line in lines])\n",
    "\n",
    "tfinal=x[-1]\n",
    "\n",
    "fig = plt.figure(figsize=(8, 6))\n",
    "\n",
    "ax1 = fig.add_subplot(111)\n",
    "\n",
    "ax1.set_title(\"Entanglement lifetime distribution\")\n",
    "ax1.set_xlabel(r'$t/\\tau_c$')\n",
    "ax1.set_ylabel(r'$f_d(t)$')\n",
    "\n",
    "ax1.plot(x,y, c='r', label=r'$f_d(t)$')\n",
    "\n",
    "leg = ax1.legend()\n",
    "ax1.set_xscale('log')\n",
    "ax1.set_yscale('log')\n",
    "\n",
    "plt.show()"
   ]
  },
  {
   "cell_type": "markdown",
   "metadata": {
    "collapsed": false
   },
   "source": [
    "** Trim data to $t>0.1 \\tau_c $ and subsample it $\\times 10$ times to speed-up fitting **"
   ]
  },
  {
   "cell_type": "code",
   "execution_count": 871,
   "metadata": {
    "collapsed": false
   },
   "outputs": [
   ],
   "source": [
    "def find_nearest(array,value):\n",
    "    idx = (np.abs(array-value)).argmin()\n",
    "    return idx\n",
    "#Remove all zeros from data\n",
    "mask = y!=0\n",
    "x=x[mask]\n",
    "y=y[mask]\n",
    "\n",
    "#Cut data points on the left where they dont change much\n",
    "cutoff=find_nearest(x, 1e-2)\n",
    "x=x[cutoff:]\n",
    "y=y[cutoff:]\n",
    "#Subsample data\n",
    "x=x[0::10]\n",
    "y=y[0::10]"
   ]
  },
  {
   "cell_type": "markdown",
   "metadata": {
    "collapsed": false
   },
   "source": [
    "** Define model function, residuals and mean-squared error **"
   ]
  },
  {
   "cell_type": "code",
   "execution_count": 872,
   "metadata": {
    "collapsed": false,
    "scrolled": true
   },
   "outputs": [
   ],
   "source": [
    "def fdt(time, params):\n",
    "    lambdaArr = np.split(params,2)[0]\n",
    "    gArr = np.split(params,2)[1]/np.sum(np.split(params,2)[1])\n",
    "    return np.dot(np.exp(-time/lambdaArr), gArr)\n",
    "\n",
    "def log_fdt(time,params):\n",
    "    lambdaArr = np.split(params,2)[0]\n",
    "    gArr = np.split(params,2)[1]/np.sum(np.split(params,2)[1])\n",
    "    return logsumexp(-time/lambdaArr, b=gArr)\n",
    "\n",
    "#Vectorize function fdt and log_fdt\n",
    "fdtvec=np.vectorize(fdt, excluded=['params'])\n",
    "logfdtvec=np.vectorize(log_fdt, excluded=['params'])\n",
    "\n",
    "#Define residuals\n",
    "def residuals_fdt(param):\n",
    "    return fdtvec(time=x, params=param)-y\n",
    "\n",
    "def residuals_log_fdt(param):\n",
    "    #print(logfdtvec(time=x[:-1], params=param)-np.log(y[:-1]))\n",
    "    if np.any(fdtvec(time=x[:-1], params=param) < 0):\n",
    "        return np.full(x[:-1].shape,1e8) #Penalty for negative f_d(t)\n",
    "    else:\n",
    "        return logfdtvec(time=x[:-1], params=param)-np.log(y[:-1])\n",
    "\n",
    "def MSE(param):\n",
    "    return np.dot(residuals_fdt(param),residuals_fdt(param))/np.size(x)\n",
    "\n",
    "def log_MSE(param):\n",
    "    return np.dot(residuals_log_fdt(param),residuals_log_fdt(param))/np.size(x)"
   ]
  },
  {
   "cell_type": "markdown",
   "metadata": {
    "collapsed": false
   },
   "source": [
    "## Optimizing strategy:\n",
    "1. Start with some big number of modes, like $n_{modes}=15$\n",
    "2. Run the least square optimization with standard residuals $y_i-f(x_i)$.\n",
    "3. Scan through different number of modes down to 1.\n",
    "4. If fit results have any negative weights, $g_i<0$, ignore\n",
    "5. If fit results have all positive weights, run the least square optimization with log-residuals\n",
    "6. Choose the best result among step 5\n",
    "\n",
    "## Use SciPy numeric least square minimization algorithm\n",
    "\n",
    "** First, optimize using standard residuals $y_i-f(x_i)$ **"
   ]
  },
  {
   "cell_type": "code",
   "execution_count": 873,
   "metadata": {
    "collapsed": false,
    "scrolled": true
   },
   "outputs": [
    {
     "name": "stderr",
     "output_type": "stream",
     "text": [
      "/opt/conda/lib/python2.7/site-packages/ipykernel_launcher.py:4: RuntimeWarning: overflow encountered in exp\n",
      "  after removing the cwd from sys.path.\n"
     ]
    }
   ],
   "source": [
    "fits_1 = [] #output of fitting function for all tested numbers of modes\n",
    "successful_fits_1 = [] #number of modes for successful fits\n",
    "for nmodes in range(1, 15):\n",
    "    lambdaArrInit=10.0**((np.array(range(nmodes), float) + 1.0)/nmodes*np.log10(tfinal))\n",
    "    gArrInit=np.full(nmodes, 1.0/nmodes)\n",
    "\n",
    "    fit = least_squares(residuals_fdt, np.append(lambdaArrInit, gArrInit), xtol=1e-15)\n",
    "    fits_1.append(fit)\n",
    "    if fit.success and not np.any(fdtvec(time=x, params=fit.x) < 0):\n",
    "        successful_fits_1.append(nmodes)"
   ]
  },
  {
   "cell_type": "code",
   "execution_count": 874,
   "metadata": {
    "collapsed": false
   },
   "outputs": [
    {
     "data": {
      "text/plain": [
       "[1, 2, 3, 4, 5, 8]"
      ]
     },
     "execution_count": 874,
     "metadata": {
     },
     "output_type": "execute_result"
    }
   ],
   "source": [
    "successful_fits_1"
   ]
  },
  {
   "cell_type": "markdown",
   "metadata": {
    "collapsed": false
   },
   "source": [
    "** Next, optimize solution which have no negative weights further using log-residuals $\\log(y_i)-\\log(f(x_i))$ to find best fit for the longest relaxation tail **"
   ]
  },
  {
   "cell_type": "code",
   "execution_count": 876,
   "metadata": {
    "collapsed": false
   },
   "outputs": [
    {
     "name": "stdout",
     "output_type": "stream",
     "text": [
      "nmodes\t1\n",
      "`ftol` termination condition is satisfied.\n",
      "Initial guess MSE\t0.19108647582\n",
      "Fit MSE\t\t\t0.000852984467009\n"
     ]
    },
    {
     "name": "stdout",
     "output_type": "stream",
     "text": [
      "`ftol` termination condition is satisfied.\n",
      "First fit log-MSE\t10102785.1797\n"
     ]
    },
    {
     "name": "stdout",
     "output_type": "stream",
     "text": [
      "Second fit log-MSE\t13.4228668578\n",
      " \n",
      "nmodes\t2\n",
      "`gtol` termination condition is satisfied.\n",
      "Initial guess MSE\t0.19108647582\n",
      "Fit MSE\t\t\t7.17954246683e-05\n"
     ]
    },
    {
     "name": "stderr",
     "output_type": "stream",
     "text": [
      "/opt/conda/lib/python2.7/site-packages/ipykernel_launcher.py:4: RuntimeWarning: overflow encountered in exp\n",
      "  after removing the cwd from sys.path.\n"
     ]
    },
    {
     "name": "stdout",
     "output_type": "stream",
     "text": [
      "`xtol` termination condition is satisfied.\n",
      "First fit log-MSE\t72400.7504066\n"
     ]
    },
    {
     "name": "stdout",
     "output_type": "stream",
     "text": [
      "Second fit log-MSE\t3359.26096125\n",
      " \n",
      "nmodes\t3\n",
      "`gtol` termination condition is satisfied.\n",
      "Initial guess MSE\t0.19108647582\n",
      "Fit MSE\t\t\t5.50830276534e-05\n"
     ]
    },
    {
     "name": "stdout",
     "output_type": "stream",
     "text": [
      "`ftol` termination condition is satisfied.\n",
      "First fit log-MSE\t2252.17007449\n"
     ]
    },
    {
     "name": "stdout",
     "output_type": "stream",
     "text": [
      "Second fit log-MSE\t0.0996992377758\n",
      " \n",
      "nmodes\t4\n",
      "`ftol` termination condition is satisfied.\n",
      "Initial guess MSE\t0.19108647582\n",
      "Fit MSE\t\t\t5.49208962335e-05\n"
     ]
    },
    {
     "name": "stdout",
     "output_type": "stream",
     "text": [
      "`ftol` termination condition is satisfied.\n",
      "First fit log-MSE\t3.14248388292\n"
     ]
    },
    {
     "name": "stdout",
     "output_type": "stream",
     "text": [
      "Second fit log-MSE\t0.0144406585426\n",
      " \n",
      "nmodes\t5\n",
      "`gtol` termination condition is satisfied.\n",
      "Initial guess MSE\t0.19108647582\n",
      "Fit MSE\t\t\t5.45457316641e-05\n"
     ]
    },
    {
     "name": "stdout",
     "output_type": "stream",
     "text": [
      "`ftol` termination condition is satisfied.\n",
      "First fit log-MSE\t1.55179535639\n"
     ]
    },
    {
     "name": "stdout",
     "output_type": "stream",
     "text": [
      "Second fit log-MSE\t0.00263541610355\n",
      " \n",
      "nmodes\t8\n",
      "`ftol` termination condition is satisfied.\n",
      "Initial guess MSE\t0.19108647582\n",
      "Fit MSE\t\t\t5.45376971703e-05\n"
     ]
    },
    {
     "name": "stdout",
     "output_type": "stream",
     "text": [
      "`xtol` termination condition is satisfied.\n",
      "First fit log-MSE\t0.312357585186\n"
     ]
    },
    {
     "name": "stdout",
     "output_type": "stream",
     "text": [
      "Second fit log-MSE\t0.000339214522958\n",
      " \n"
     ]
    }
   ],
   "source": [
    "fits_2 = [] #output of fitting function for all tested numbers of modes\n",
    "min_log_SME = log_MSE(fits_1[successful_fits_1[0]-1].x)\n",
    "best_nmodes = successful_fits_1[0]\n",
    "for i in successful_fits_1:\n",
    "    fit = fits_1[i-1]\n",
    "    print('nmodes\\t{0}'.format(i))\n",
    "    print(fit.message)\n",
    "    print('Initial guess MSE\\t{0}'.format(MSE(np.append(lambdaArrInit, gArrInit))))\n",
    "    print('Fit MSE\\t\\t\\t{0}'.format(MSE(fit.x)))\n",
    "\n",
    "    fit2 = least_squares(residuals_log_fdt, fit.x, xtol=1e-14, ftol=1e-14)\n",
    "    fits_2.append(fit2)\n",
    "\n",
    "    if fit2.success:\n",
    "        if log_MSE(fit2.x)<min_log_SME:\n",
    "            min_log_SME = log_MSE(fit2.x)\n",
    "            best_fit = fit2\n",
    "            best_nmodes = i\n",
    "        print(fit2.message)\n",
    "        print('First fit log-MSE\\t{0}'.format(log_MSE(fit.x)))\n",
    "        print('Second fit log-MSE\\t{0}'.format(log_MSE(fit2.x)))\n",
    "\n",
    "    print(' ')"
   ]
  },
  {
   "cell_type": "code",
   "execution_count": 877,
   "metadata": {
    "collapsed": false,
    "scrolled": true
   },
   "outputs": [
    {
     "data": {
      "text/plain": [
       "8"
      ]
     },
     "execution_count": 877,
     "metadata": {
     },
     "output_type": "execute_result"
    }
   ],
   "source": [
    "best_nmodes"
   ]
  },
  {
   "cell_type": "code",
   "execution_count": 878,
   "metadata": {
    "collapsed": false
   },
   "outputs": [
    {
     "data": {
      "text/plain": [
       "array([  1.11159498e+00,   7.11958333e+00,   3.81001099e+01,\n",
       "         1.85951710e+02,   7.53653571e+02,   2.80125319e+03,\n",
       "         1.10932766e+04,   4.19757413e+04,   5.63780216e+00,\n",
       "         8.66442998e-01,   2.42286600e-01,   6.15896212e-02,\n",
       "         1.26790610e-02,   2.52721050e-03,   3.54905987e-05,\n",
       "        -6.15852018e-06])"
      ]
     },
     "execution_count": 878,
     "metadata": {
     },
     "output_type": "execute_result"
    }
   ],
   "source": [
    "best_fit.x"
   ]
  },
  {
   "cell_type": "code",
   "execution_count": 880,
   "metadata": {
    "collapsed": false
   },
   "outputs": [
    {
     "data": {
      "image/png": "[encoded data removed]"
     },
     "output_type": "execute_result"
    }
   ],
   "source": [
    "fit = fits_1[8-1]\n",
    "fit2 = best_fit\n",
    "\n",
    "fig3 = plt.figure(figsize=(24, 6))\n",
    "\n",
    "ax0 = fig3.add_subplot(131)\n",
    "\n",
    "ax0.set_title(r'$p^{cr}\\left(\\tau\\right)$')\n",
    "ax0.set_xlabel(r'$\\lambda$')\n",
    "ax0.set_ylabel(r'$g$')\n",
    "\n",
    "ax0.scatter(lambdaArrInit,gArrInit, c='k', label=r'Initial guess')\n",
    "ax0.scatter(np.split(fit.x,2)[0], np.split(fit.x,2)[1]/np.sum(np.split(fit.x,2)[1]), c='r', label=r'First fit')\n",
    "ax0.scatter(np.split(fit2.x,2)[0],np.split(fit2.x,2)[1]/np.sum(np.split(fit2.x,2)[1]), c='b', label=r'Second fit')\n",
    "leg = ax0.legend()\n",
    "ax0.set_xscale('log')\n",
    "\n",
    "ax1 = fig3.add_subplot(132)\n",
    "\n",
    "ax1.set_title(\"Check results of the fit\")\n",
    "ax1.set_xlabel(r'$t/\\tau_c$')\n",
    "ax1.set_ylabel(r'log residuals')\n",
    "\n",
    "ax1.plot(x,fdtvec(time=x, params=np.append(lambdaArrInit, gArrInit)), c='k', label=r'Initial guess')\n",
    "ax1.plot(x,fdtvec(time=x, params=fit.x), c='r', label=r'First fit')\n",
    "ax1.plot(x,fdtvec(time=x, params=fit2.x), c='b', label=r'Second fit')\n",
    "ax1.plot(x,y, c='g', label=r'$f_d(t)$')\n",
    "\n",
    "leg = ax1.legend()\n",
    "ax1.set_xscale('log')\n",
    "ax1.set_yscale('log')\n",
    "\n",
    "ax2 = fig3.add_subplot(133)\n",
    "\n",
    "ax2.set_title(r'$f_d(t)$')\n",
    "ax2.set_xlabel(r'$t/\\tau_c$')\n",
    "ax2.set_ylabel(r'$f_d(t)$')\n",
    "\n",
    "ax2.plot(x,fdtvec(time=x, params=np.append(lambdaArrInit, gArrInit)), c='k', label=r'Initial guess')\n",
    "ax2.plot(x,fdtvec(time=x, params=fit.x), c='r', label=r'First fit')\n",
    "ax2.plot(x,fdtvec(time=x, params=fit2.x), c='b', label=r'Second fit')\n",
    "ax2.plot(x,y, c='g', label=r'Simulation data')\n",
    "leg = ax2.legend()\n",
    "ax2.set_xscale('log')\n",
    "\n",
    "plt.show()"
   ]
  },
  {
   "cell_type": "markdown",
   "metadata": {
    "collapsed": false
   },
   "source": [
    "### Equilibrium spectrum $p^{\\textrm{eq}}\\left(\\tau\\right)$"
   ]
  },
  {
   "cell_type": "code",
   "execution_count": 881,
   "metadata": {
    "collapsed": false
   },
   "outputs": [
   ],
   "source": [
    "li=np.split(fit2.x,2)[0]\n",
    "gi=np.multiply(np.split(fit2.x,2)[0], np.split(fit2.x,2)[1]/np.sum(np.split(fit2.x,2)[1]))/np.dot(np.split(fit2.x,2)[0], np.split(fit2.x,2)[1]/np.sum(np.split(fit2.x,2)[1]))"
   ]
  },
  {
   "cell_type": "code",
   "execution_count": 882,
   "metadata": {
    "collapsed": false
   },
   "outputs": [
    {
     "data": {
      "image/png": "[encoded data removed]"
     },
     "output_type": "execute_result"
    }
   ],
   "source": [
    "fig8 = plt.figure(figsize=(8, 6))\n",
    "\n",
    "ax1 = fig8.add_subplot(111)\n",
    "\n",
    "ax1.set_title(\"Multimode $f_d(t)$ fitting\")\n",
    "ax1.set_xlabel(r'$\\lambda$')\n",
    "ax1.set_ylabel(r'$g^\\prime$')\n",
    "\n",
    "ax1.scatter(li,gi, c='r', label=r'Best SciPy fit')\n",
    "leg = ax1.legend()\n",
    "ax1.set_xscale('log')\n",
    "\n",
    "plt.show()"
   ]
  },
  {
   "cell_type": "markdown",
   "metadata": {
    "collapsed": false
   },
   "source": [
    "** Shape of the discrete equilibrium spectrum is similar to two linear pieces. We may try to identify them using Ramer-Douglas-Peucker algorithm **"
   ]
  },
  {
   "cell_type": "code",
   "execution_count": 883,
   "metadata": {
    "collapsed": false
   },
   "outputs": [
   ],
   "source": [
    "from math import sqrt"
   ]
  },
  {
   "cell_type": "code",
   "execution_count": 884,
   "metadata": {
    "collapsed": false
   },
   "outputs": [
   ],
   "source": [
    "def distance(a, b):\n",
    "    return  sqrt((a[0] - b[0]) ** 2 + (a[1] - b[1]) ** 2)\n",
    "\n",
    "def point_line_distance(point, start, end):\n",
    "    if (start == end):\n",
    "        return distance(point, start)\n",
    "    else:\n",
    "        n = abs(\n",
    "            (end[0] - start[0]) * (start[1] - point[1]) - (start[0] - point[0]) * (end[1] - start[1])\n",
    "        )\n",
    "        d = sqrt(\n",
    "            (end[0] - start[0]) ** 2 + (end[1] - start[1]) ** 2\n",
    "        )\n",
    "        return n / d"
   ]
  },
  {
   "cell_type": "markdown",
   "metadata": {
    "collapsed": false
   },
   "source": [
    "** Find the farthest point from the line connecting first and last point in the spectrum **"
   ]
  },
  {
   "cell_type": "code",
   "execution_count": 885,
   "metadata": {
    "collapsed": false
   },
   "outputs": [
    {
     "data": {
      "text/plain": [
       "(5.2254870182142259, 0.22956040173293626)"
      ]
     },
     "execution_count": 885,
     "metadata": {
     },
     "output_type": "execute_result"
    }
   ],
   "source": [
    "dmax = 0.0\n",
    "index = 0\n",
    "for i in range(1, len(li) - 1):\n",
    "    d = point_line_distance((np.log(li[i]),gi[i]), (np.log(li[0]),gi[0]), (np.log(li[-1]),gi[-1]))\n",
    "    if d > dmax:\n",
    "        index = i\n",
    "        dmax = d\n",
    "(np.log(li[index]),gi[index])"
   ]
  },
  {
   "cell_type": "markdown",
   "metadata": {
    "collapsed": false
   },
   "source": [
    "** Define bilinear BSW spectrum **"
   ]
  },
  {
   "cell_type": "code",
   "execution_count": 886,
   "metadata": {
    "collapsed": false
   },
   "outputs": [
   ],
   "source": [
    "def biliniear_spectrum(t, params):\n",
    "    if (t > params[1] and t < params[2]):\n",
    "        return params[0] + params[4] * np.log(t)\n",
    "    elif (t > params[2] and t < params[3]):\n",
    "        return params[0] + params[4] * np.log(params[2]) + params[5] * (np.log(t)-np.log(params[2]))\n",
    "    else:\n",
    "        return 0.0"
   ]
  },
  {
   "cell_type": "markdown",
   "metadata": {
    "collapsed": false
   },
   "source": [
    "** Initial guess from multimode discrete spectrum **"
   ]
  },
  {
   "cell_type": "code",
   "execution_count": 887,
   "metadata": {
    "collapsed": false,
    "scrolled": true
   },
   "outputs": [
    {
     "data": {
      "image/png": "[encoded data removed]"
     },
     "output_type": "execute_result"
    }
   ],
   "source": [
    "initial_bsw=(gi[0], li[0], li[index], li[-1],(gi[index]-gi[0])/(np.log(li[index])-np.log(li[0])),(gi[-1]-gi[index])/(np.log(li[-1])-np.log(li[index])))\n",
    "bilinear_spectrum_vec=np.vectorize(biliniear_spectrum, excluded=['params'])\n",
    "\n",
    "fig9 = plt.figure(figsize=(16, 6))\n",
    "\n",
    "ax0 = fig9.add_subplot(111)\n",
    "\n",
    "lArray=10**(-3+(np.array(range(1001), float)/1000)*10)\n",
    "ax0.plot(lArray,bilinear_spectrum_vec(t=lArray, params=initial_bsw), c='k')\n",
    "ax0.scatter(li,gi, c='r', label=r'Best SciPy fit')\n",
    "ax0.set_xscale('log')\n",
    "plt.show()"
   ]
  },
  {
   "cell_type": "code",
   "execution_count": 0,
   "metadata": {
    "collapsed": false
   },
   "outputs": [
   ],
   "source": [
   ]
  }
 ],
 "metadata": {
  "kernelspec": {
   "display_name": "anaconda_kernel",
   "language": "python",
   "name": "anaconda_kernel"
  },
  "language_info": {
   "codemirror_mode": {
    "name": "ipython",
    "version": 2
   },
   "file_extension": ".py",
   "mimetype": "text/x-python",
   "name": "python",
   "nbconvert_exporter": "python",
   "pygments_lexer": "ipython2",
   "version": "2.7.14"
  }
 },
 "nbformat": 4,
 "nbformat_minor": 0
}