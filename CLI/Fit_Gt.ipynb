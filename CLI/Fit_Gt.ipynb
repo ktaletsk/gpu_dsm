{
 "cells": [
  {
   "cell_type": "code",
   "execution_count": 0,
   "metadata": {
    "collapsed": true
   },
   "outputs": [
   ],
   "source": [
    "import numpy as np\n",
    "import matplotlib.pyplot as plt\n",
    "from scipy.optimize import least_squares, minimize\n",
    "from scipy.misc import logsumexp"
   ]
  },
  {
   "cell_type": "markdown",
   "metadata": {
    "collapsed": false
   },
   "source": [
    "## 1. Run GPU DSM\n",
    "\n",
    "Check the input input file for simulation"
   ]
  },
  {
   "cell_type": "code",
   "execution_count": 0,
   "metadata": {
    "collapsed": false
   },
   "outputs": [
   ],
   "source": [
    "f = open('input.dat', 'r')\n",
    "file_contents = f.read()\n",
    "print (file_contents)\n",
    "f.close()"
   ]
  },
  {
   "cell_type": "markdown",
   "metadata": {
    "collapsed": false
   },
   "source": [
    "Run the simulation"
   ]
  },
  {
   "cell_type": "code",
   "execution_count": 0,
   "metadata": {
    "collapsed": false,
    "scrolled": true
   },
   "outputs": [
   ],
   "source": [
    "!./gpu_DSM"
   ]
  },
  {
   "cell_type": "markdown",
   "metadata": {
    "collapsed": false
   },
   "source": [
    "## 2. Fit $G(t)$\n",
    "\n",
    "\\begin{equation}\n",
    "G(t) = G_N^0 \\int \\frac{h\\left(\\tau\\right)}{\\tau} e^{-\\frac{t}{\\tau}} \\mathrm{d}\\tau \\\\\n",
    "\\end{equation}\n",
    "\n",
    "If we don't know the form of relaxation spectrum a priori, we can start with the discrete spectrum\n",
    "\\begin{equation}\n",
    "h\\left(\\tau\\right) = \\sum_i g_i \\delta(\\tau - \\tau_i)\n",
    "\\end{equation}\n",
    "\n",
    "\\begin{equation}\n",
    "G(t) = G_N^0 \\int \\frac{h\\left(\\tau\\right)}{\\tau} e^{-\\frac{t}{\\tau}} \\mathrm{d}\\tau = G_N^0 \\sum_i \\frac{g_i}{\\tau_i} e^{-\\frac{t}{\\tau_i}}\n",
    "\\end{equation}"
   ]
  },
  {
   "cell_type": "markdown",
   "metadata": {
    "collapsed": false
   },
   "source": [
    "**First, read $G(t)$ from code**"
   ]
  },
  {
   "cell_type": "code",
   "execution_count": 0,
   "metadata": {
    "collapsed": true
   },
   "outputs": [
   ],
   "source": [
    "with open('G_star_8_test.dat') as f:\n",
    "    lines = f.readlines()\n",
    "    xtest = np.array([float(line.split()[0]) for line in lines])\n",
    "    ytest = np.array([float(line.split()[1]) for line in lines])\n",
    "    ztest = np.array([float(line.split()[2]) for line in lines])"
   ]
  },
  {
   "cell_type": "code",
   "execution_count": 0,
   "metadata": {
    "collapsed": false
   },
   "outputs": [
   ],
   "source": [
    "with open('G_8.dat') as f:\n",
    "    lines = f.readlines()\n",
    "    x = np.array([float(line.split()[0]) for line in lines])\n",
    "    y = np.array([float(line.split()[1]) for line in lines])\n",
    "\n",
    "tfinal=x[-1]\n",
    "GN0=y[0]\n",
    "\n",
    "fig = plt.figure(figsize=(8, 6))\n",
    "\n",
    "ax1 = fig.add_subplot(111)\n",
    "\n",
    "ax1.set_title(\"Entanglement lifetime distribution\")\n",
    "ax1.set_xlabel(r'$t/\\tau_c$')\n",
    "ax1.set_ylabel(r'$G(t)$')\n",
    "plt.xlim(xmin=1, xmax=1e6)\n",
    "ax1.scatter(x,y, c='r', label=r'$G(t)$')\n",
    "\n",
    "leg = ax1.legend()\n",
    "ax1.set_xscale('log')\n",
    "ax1.set_yscale('log')\n",
    "\n",
    "plt.show()"
   ]
  },
  {
   "cell_type": "markdown",
   "metadata": {
    "collapsed": false
   },
   "source": [
    "** Define model function, residuals and mean-squared error **"
   ]
  },
  {
   "cell_type": "code",
   "execution_count": 0,
   "metadata": {
    "collapsed": true,
    "scrolled": true
   },
   "outputs": [
   ],
   "source": [
    "def Gt(time, params):\n",
    "    lambdaArr = np.split(params,2)[0]\n",
    "    gArr = np.split(params,2)[1]/np.sum(np.split(params,2)[1])\n",
    "    return np.dot(np.exp(-time/lambdaArr), gArr)*GN0\n",
    "\n",
    "def log_Gt(time,params):\n",
    "    lambdaArr = np.split(params,2)[0]\n",
    "    gArr = np.split(params,2)[1]/np.sum(np.split(params,2)[1])\n",
    "    return logsumexp(-time/lambdaArr, b=gArr*GN0)\n",
    "\n",
    "#Vectorize function fdt and log_fdt\n",
    "gtvec=np.vectorize(Gt, excluded=['params'])\n",
    "loggtvec=np.vectorize(log_Gt, excluded=['params'])\n",
    "\n",
    "#Define residuals\n",
    "def residuals_gt(param):\n",
    "    return gtvec(time=x, params=param)-y\n",
    "\n",
    "def residuals_log_gt(param):\n",
    "    #print(logfdtvec(time=x[:-1], params=param)-np.log(y[:-1]))\n",
    "    if np.any(gtvec(time=x[:-1], params=param) < 0):\n",
    "        return np.full(x[:-1].shape,1e8) #Penalty for negative f_d(t)\n",
    "    else:\n",
    "        return loggtvec(time=x[:-1], params=param)-np.log(y[:-1])\n",
    "\n",
    "def MSE(param):\n",
    "    return np.dot(residuals_gt(param),residuals_gt(param))/np.size(x)\n",
    "\n",
    "def log_MSE(param):\n",
    "    return np.dot(residuals_log_gt(param),residuals_log_gt(param))/np.size(x)\n",
    "\n",
    "def Gp(omega, params):\n",
    "    lambdaArr = np.split(params,2)[0]\n",
    "    gArr = np.split(params,2)[1]/np.sum(np.split(params,2)[1])\n",
    "    \n",
    "    return np.sum((gArr * lambdaArr**2 * omega**2)/(1 + lambdaArr**2 * omega**2))*GN0\n",
    "\n",
    "def Gdp(omega, params):\n",
    "    lambdaArr = np.split(params,2)[0]\n",
    "    gArr = np.split(params,2)[1]/np.sum(np.split(params,2)[1])\n",
    "    \n",
    "    return np.sum((gArr * lambdaArr * omega)/(1 + lambdaArr**2 * omega**2))*GN0\n",
    "\n",
    "#Vectorize function Gp and Gdp\n",
    "Gpvec=np.vectorize(Gp, excluded=['params'])\n",
    "Gdpvec=np.vectorize(Gdp, excluded=['params'])\n"
   ]
  },
  {
   "cell_type": "markdown",
   "metadata": {
    "collapsed": false
   },
   "source": [
    "## Optimizing strategy:\n",
    "1. Start with some big number of modes, like $n_{modes}=15$\n",
    "2. Run the least square optimization with standard residuals $y_i-f(x_i)$.\n",
    "3. Scan through different number of modes down to 1.\n",
    "4. If fit results have any negative weights, $g_i<0$, ignore\n",
    "5. If fit results have all positive weights, run the least square optimization with log-residuals\n",
    "6. Choose the best result among step 5\n",
    "\n",
    "## Use SciPy numeric least square minimization algorithm\n",
    "\n",
    "** First, optimize using standard residuals $y_i-f(x_i)$ **"
   ]
  },
  {
   "cell_type": "code",
   "execution_count": 0,
   "metadata": {
    "collapsed": false
   },
   "outputs": [
   ],
   "source": [
    "fits_1 = [] #output of fitting function for all tested numbers of modes\n",
    "successful_fits_1 = [] #number of modes for successful fits\n",
    "#for nmodes in range(1, 15):\n",
    "nmodes = 7\n",
    "lambdaArrInit=10.0**((np.array(range(nmodes), float) + 1.0)/nmodes*np.log10(tfinal))\n",
    "gArrInit=np.full(nmodes, 1.0/nmodes)\n",
    "\n",
    "fit = least_squares(residuals_gt, np.append(lambdaArrInit, gArrInit), xtol=1e-15)\n",
    "fit.x\n",
    "#fits_1.append(fit)\n",
    "#if fit.success and not np.any(fdtvec(time=x, params=fit.x) < 0):\n",
    "#    successful_fits_1.append(nmodes)"
   ]
  },
  {
   "cell_type": "code",
   "execution_count": 0,
   "metadata": {
    "collapsed": false
   },
   "outputs": [
   ],
   "source": [
    "fig1 = plt.figure(figsize=(24, 6))\n",
    "\n",
    "ax0 = fig1.add_subplot(131)\n",
    "\n",
    "ax0.set_title(r'$h\\left(\\tau\\right)/\\tau$')\n",
    "ax0.set_xlabel(r'$\\lambda$')\n",
    "ax0.set_ylabel(r'$g$')\n",
    "\n",
    "ax0.scatter(lambdaArrInit,gArrInit, c='k', label=r'Initial guess')\n",
    "ax0.scatter(np.split(fit.x,2)[0], np.split(fit.x,2)[1]/np.sum(np.split(fit.x,2)[1]), c='r', label=r'First fit')\n",
    "leg = ax0.legend()\n",
    "ax0.set_xscale('log')\n",
    "\n",
    "ax1 = fig1.add_subplot(132)\n",
    "\n",
    "ax1.set_title(\"Check results of the fit\")\n",
    "ax1.set_xlabel(r'$t/\\tau_c$')\n",
    "ax1.set_ylabel(r'log residuals')\n",
    "\n",
    "ax1.plot(x,fdtvec(time=x, params=np.append(lambdaArrInit, gArrInit)), c='k', label=r'Initial guess')\n",
    "ax1.plot(x,fdtvec(time=x, params=fit.x), c='r', label=r'First fit')\n",
    "ax1.plot(x,y, c='g', label=r'$f_d(t)$')\n",
    "\n",
    "leg = ax1.legend()\n",
    "ax1.set_xscale('log')\n",
    "ax1.set_yscale('log')\n",
    "\n",
    "ax2 = fig1.add_subplot(133)\n",
    "\n",
    "ax2.set_title(r'$f_d(t)$')\n",
    "ax2.set_xlabel(r'$t/\\tau_c$')\n",
    "ax2.set_ylabel(r'$f_d(t)$')\n",
    "\n",
    "ax2.plot(x,fdtvec(time=x, params=np.append(lambdaArrInit, gArrInit)), c='k', label=r'Initial guess')\n",
    "ax2.plot(x,fdtvec(time=x, params=fit.x), c='r', label=r'First fit')\n",
    "ax2.plot(x,y, c='g', label=r'Simulation data')\n",
    "leg = ax2.legend()\n",
    "ax2.set_xscale('log')\n",
    "\n",
    "plt.show()"
   ]
  },
  {
   "cell_type": "markdown",
   "metadata": {
    "collapsed": false
   },
   "source": [
    "** Next, optimize solution which have no negative weights further using log-residuals $\\log(y_i)-\\log(f(x_i))$ to find best fit for the longest relaxation tail **"
   ]
  },
  {
   "cell_type": "code",
   "execution_count": 0,
   "metadata": {
    "collapsed": false
   },
   "outputs": [
   ],
   "source": [
    "fits_2 = [] #output of fitting function for all tested numbers of modes\n",
    "# best_nmodes = successful_fits_1[0]\n",
    "# for i in successful_fits_1:\n",
    "#     fit = fits_1[i-1]\n",
    "#print('nmodes\\t{0}'.format(i))\n",
    "print(fit.message)\n",
    "print('Initial guess MSE\\t{0}'.format(MSE(np.append(lambdaArrInit, gArrInit))))\n",
    "print('Fit MSE\\t\\t\\t{0}'.format(MSE(fit.x)))\n",
    "\n",
    "fit2 = least_squares(residuals_log_fdt, fit.x, xtol=1e-14, ftol=1e-14)\n",
    "fits_2.append(fit2)\n",
    "\n",
    "if fit2.success:\n",
    "    print(fit2.message)\n",
    "    print('First fit log-MSE\\t{0}'.format(log_MSE(fit.x)))\n",
    "    print('Second fit log-MSE\\t{0}'.format(log_MSE(fit2.x)))\n",
    "\n",
    "print(' ')"
   ]
  },
  {
   "cell_type": "code",
   "execution_count": 0,
   "metadata": {
    "collapsed": false
   },
   "outputs": [
   ],
   "source": [
    "fit2.x"
   ]
  },
  {
   "cell_type": "code",
   "execution_count": 0,
   "metadata": {
    "collapsed": false
   },
   "outputs": [
   ],
   "source": [
    "# fit = fits_1[8-1]\n",
    "# fit2 = best_fit\n",
    "\n",
    "fig3 = plt.figure(figsize=(24, 6))\n",
    "\n",
    "ax0 = fig3.add_subplot(131)\n",
    "\n",
    "ax0.set_title(r'$p^{cr}\\left(\\tau\\right)$')\n",
    "ax0.set_xlabel(r'$\\lambda$')\n",
    "ax0.set_ylabel(r'$g$')\n",
    "\n",
    "ax0.scatter(lambdaArrInit,gArrInit, c='k', label=r'Initial guess')\n",
    "ax0.scatter(np.split(fit.x,2)[0], np.split(fit.x,2)[1]/np.sum(np.split(fit.x,2)[1]), c='r', label=r'First fit')\n",
    "ax0.scatter(np.split(fit2.x,2)[0],np.split(fit2.x,2)[1]/np.sum(np.split(fit2.x,2)[1]), c='b', label=r'Second fit')\n",
    "leg = ax0.legend()\n",
    "ax0.set_xscale('log')\n",
    "\n",
    "ax1 = fig3.add_subplot(132)\n",
    "\n",
    "ax1.set_title(\"Check results of the fit\")\n",
    "ax1.set_xlabel(r'$t/\\tau_c$')\n",
    "ax1.set_ylabel(r'log residuals')\n",
    "\n",
    "ax1.plot(x,fdtvec(time=x, params=np.append(lambdaArrInit, gArrInit)), c='k', label=r'Initial guess')\n",
    "ax1.plot(x,fdtvec(time=x, params=fit.x), c='r', label=r'First fit')\n",
    "ax1.plot(x,fdtvec(time=x, params=fit2.x), c='b', label=r'Second fit')\n",
    "ax1.plot(x,y, c='g', label=r'$f_d(t)$')\n",
    "\n",
    "leg = ax1.legend()\n",
    "ax1.set_xscale('log')\n",
    "ax1.set_yscale('log')\n",
    "\n",
    "ax2 = fig3.add_subplot(133)\n",
    "\n",
    "ax2.set_title(r'$f_d(t)$')\n",
    "ax2.set_xlabel(r'$t/\\tau_c$')\n",
    "ax2.set_ylabel(r'$f_d(t)$')\n",
    "\n",
    "ax2.plot(x,fdtvec(time=x, params=np.append(lambdaArrInit, gArrInit)), c='k', label=r'Initial guess')\n",
    "ax2.plot(x,fdtvec(time=x, params=fit.x), c='r', label=r'First fit')\n",
    "ax2.plot(x,fdtvec(time=x, params=fit2.x), c='b', label=r'Second fit')\n",
    "ax2.plot(x,y, c='g', label=r'Simulation data')\n",
    "leg = ax2.legend()\n",
    "ax2.set_xscale('log')\n",
    "\n",
    "plt.show()"
   ]
  },
  {
   "cell_type": "markdown",
   "metadata": {
    "collapsed": false
   },
   "source": [
    "### Relaxation spectrum $h\\left(\\tau\\right)$"
   ]
  },
  {
   "cell_type": "code",
   "execution_count": 0,
   "metadata": {
    "collapsed": true
   },
   "outputs": [
   ],
   "source": [
    "li=np.split(fit2.x,2)[0]\n",
    "gi=np.split(fit2.x,2)[0]*np.split(fit2.x,2)[1]/np.sum(np.split(fit2.x,2)[1])"
   ]
  },
  {
   "cell_type": "code",
   "execution_count": 0,
   "metadata": {
    "collapsed": false
   },
   "outputs": [
   ],
   "source": [
    "fig8 = plt.figure(figsize=(8, 6))\n",
    "\n",
    "ax1 = fig8.add_subplot(111)\n",
    "\n",
    "ax1.set_title(\"Multimode $h(\\\\tau)$ fitting\")\n",
    "ax1.set_xlabel(r'$\\lambda$')\n",
    "ax1.set_ylabel(r'$g^\\prime$')\n",
    "\n",
    "ax1.scatter(li,gi, c='k')\n",
    "\n",
    "leg = ax1.legend()\n",
    "ax1.set_xscale('log')\n",
    "ax1.set_yscale('log')\n",
    "\n",
    "plt.show()"
   ]
  },
  {
   "cell_type": "markdown",
   "metadata": {
    "collapsed": false
   },
   "source": [
    "## Check dynamic modulus"
   ]
  },
  {
   "cell_type": "code",
   "execution_count": 0,
   "metadata": {
    "collapsed": false
   },
   "outputs": [
   ],
   "source": [
    "omegaPoints = 1000\n",
    "omegaMin = -8\n",
    "omegaMax = 5\n",
    "omegaArr=10**(omegaMin+(np.array(range(omegaPoints), float) + 1.0)/omegaPoints*(omegaMax-omegaMin))\n",
    "\n",
    "fig0 = plt.figure(figsize=(8, 6))\n",
    "ax0 = fig0.add_subplot(111)\n",
    "ax0.set_title(r'$h\\left(\\tau\\right)/\\tau$')\n",
    "ax0.set_xlabel(r'$\\omega$')\n",
    "ax0.set_ylabel(r'$G*$')\n",
    "\n",
    "ax0.plot(omegaArr,Gpvec(omega=omegaArr,params=fit2.x), c='k', label=r'$G^\\prime$')\n",
    "ax0.plot(omegaArr,Gdpvec(omega=omegaArr,params=fit2.x), c='k', label=r'$G^{\\prime\\prime}$')\n",
    "\n",
    "ax0.plot(xtest,ytest, c='r', label=r'$G^\\prime$')\n",
    "ax0.plot(xtest,ztest, c='r', label=r'$G^{\\prime\\prime}$')\n",
    "\n",
    "leg = ax0.legend()\n",
    "ax0.set_yscale('log')\n",
    "ax0.set_xscale('log')\n",
    "plt.show()"
   ]
  },
  {
   "cell_type": "markdown",
   "metadata": {
    "collapsed": false
   },
   "source": [
    "** Shape of the discrete equilibrium spectrum is similar to two linear pieces. We may try to identify them using Ramer-Douglas-Peucker algorithm **"
   ]
  },
  {
   "cell_type": "code",
   "execution_count": 0,
   "metadata": {
    "collapsed": true
   },
   "outputs": [
   ],
   "source": [
    "from math import sqrt"
   ]
  },
  {
   "cell_type": "code",
   "execution_count": 0,
   "metadata": {
    "collapsed": true
   },
   "outputs": [
   ],
   "source": [
    "def distance(a, b):\n",
    "    return  sqrt((a[0] - b[0]) ** 2 + (a[1] - b[1]) ** 2)\n",
    "\n",
    "def point_line_distance(point, start, end):\n",
    "    if (start == end):\n",
    "        return distance(point, start)\n",
    "    else:\n",
    "        n = abs(\n",
    "            (end[0] - start[0]) * (start[1] - point[1]) - (start[0] - point[0]) * (end[1] - start[1])\n",
    "        )\n",
    "        d = sqrt(\n",
    "            (end[0] - start[0]) ** 2 + (end[1] - start[1]) ** 2\n",
    "        )\n",
    "        return n / d"
   ]
  },
  {
   "cell_type": "markdown",
   "metadata": {
    "collapsed": false
   },
   "source": [
    "** Find the farthest point from the line connecting first and last point in the spectrum **"
   ]
  },
  {
   "cell_type": "code",
   "execution_count": 0,
   "metadata": {
    "collapsed": true
   },
   "outputs": [
   ],
   "source": [
    "dmax = 0.0\n",
    "index = 0\n",
    "for i in range(1, len(li) - 1):\n",
    "    d = point_line_distance((np.log(li[i]),gi[i]), (np.log(li[0]),gi[0]), (np.log(li[-1]),gi[-1]))\n",
    "    if d > dmax:\n",
    "        index = i\n",
    "        dmax = d\n",
    "(np.log(li[index]),gi[index])"
   ]
  },
  {
   "cell_type": "markdown",
   "metadata": {
    "collapsed": false
   },
   "source": [
    "** Define bilinear BSW spectrum **"
   ]
  },
  {
   "cell_type": "code",
   "execution_count": 0,
   "metadata": {
    "collapsed": true
   },
   "outputs": [
   ],
   "source": [
    "def biliniear_spectrum(t, params):\n",
    "    if (t > params[1] and t < params[2]):\n",
    "        return params[0] + params[4] * np.log(t)\n",
    "    elif (t > params[2] and t < params[3]):\n",
    "        return params[0] + params[4] * np.log(params[2]) + params[5] * (np.log(t)-np.log(params[2]))\n",
    "    else:\n",
    "        return 0.0"
   ]
  },
  {
   "cell_type": "markdown",
   "metadata": {
    "collapsed": false
   },
   "source": [
    "** Initial guess from multimode discrete spectrum **"
   ]
  },
  {
   "cell_type": "code",
   "execution_count": 0,
   "metadata": {
    "collapsed": true,
    "scrolled": true
   },
   "outputs": [
   ],
   "source": [
    "initial_bsw=(gi[0], li[0], li[index], li[-1],(gi[index]-gi[0])/(np.log(li[index])-np.log(li[0])),(gi[-1]-gi[index])/(np.log(li[-1])-np.log(li[index])))\n",
    "bilinear_spectrum_vec=np.vectorize(biliniear_spectrum, excluded=['params'])\n",
    "\n",
    "fig9 = plt.figure(figsize=(16, 6))\n",
    "\n",
    "ax0 = fig9.add_subplot(111)\n",
    "\n",
    "lArray=10**(-3+(np.array(range(1001), float)/1000)*10)\n",
    "ax0.plot(lArray,bilinear_spectrum_vec(t=lArray, params=initial_bsw), c='k')\n",
    "ax0.scatter(li,gi, c='r', label=r'Best SciPy fit')\n",
    "ax0.set_xscale('log')\n",
    "plt.show()"
   ]
  },
  {
   "cell_type": "code",
   "execution_count": 0,
   "metadata": {
    "collapsed": true
   },
   "outputs": [
   ],
   "source": [
    "xx=np.array([  1.45923427e+00, 1.61190929e+01, 1.36688873e+02,   1.87906141e+03, 1.91862505e+03, 2.79666803e+02, 3.42043662e+01, 7.83363901e+00, 1.65242567e+01, -1.48560755e+01])"
   ]
  },
  {
   "cell_type": "code",
   "execution_count": 0,
   "metadata": {
    "collapsed": true
   },
   "outputs": [
   ],
   "source": [
    "np.reshape(xx,(2,5)).T"
   ]
  }
 ],
 "metadata": {
  "kernelspec": {
   "display_name": "anaconda_kernel",
   "language": "python",
   "name": "anaconda_kernel"
  },
  "language_info": {
   "codemirror_mode": {
    "name": "ipython",
    "version": 2
   },
   "file_extension": ".py",
   "mimetype": "text/x-python",
   "name": "python",
   "nbconvert_exporter": "python",
   "pygments_lexer": "ipython2",
   "version": "2.7.14"
  }
 },
 "nbformat": 4,
 "nbformat_minor": 0
}