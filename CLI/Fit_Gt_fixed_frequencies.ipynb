{
 "cells": [
  {
   "cell_type": "markdown",
   "metadata": {
    "collapsed": false
   },
   "source": [
    "# Fit $G(t)$\n",
    "\n",
    "\\begin{equation}\n",
    "G(t) = G_N^0 \\int \\frac{h\\left(\\tau\\right)}{\\tau} e^{-\\frac{t}{\\tau}} \\mathrm{d}\\tau \\\\\n",
    "\\end{equation}\n",
    "\n",
    "If we don't know the form of relaxation spectrum a priori, we can start with the discrete spectrum\n",
    "\\begin{equation}\n",
    "h\\left(\\tau\\right) = \\sum_i g_i \\delta(\\tau - \\tau_i)\n",
    "\\end{equation}\n",
    "\n",
    "\\begin{equation}\n",
    "G(t) = G_N^0 \\int \\frac{h\\left(\\tau\\right)}{\\tau} e^{-\\frac{t}{\\tau}} \\mathrm{d}\\tau = G_N^0 \\sum_i \\frac{g_i}{\\tau_i} e^{-\\frac{t}{\\tau_i}} = \\sum_i g_i^\\prime e^{-\\frac{t}{\\tau_i}}\n",
    "\\end{equation}"
   ]
  },
  {
   "cell_type": "code",
   "execution_count": 1,
   "metadata": {
    "collapsed": false
   },
   "outputs": [
   ],
   "source": [
    "import numpy as np\n",
    "import matplotlib.pyplot as plt\n",
    "from scipy.optimize import least_squares, minimize\n",
    "from scipy.misc import logsumexp\n",
    "\n",
    "from mpmath import *\n",
    "mp.dps = 25; mp.pretty = True\n",
    "from scipy.optimize import broyden1"
   ]
  },
  {
   "cell_type": "code",
   "execution_count": 2,
   "metadata": {
    "collapsed": false
   },
   "outputs": [
   ],
   "source": [
    "def heaviside(x):\n",
    "    return 0.5*(np.sign(x)+1)\n",
    "\n",
    "#Define BSW functions: G(t), G*(omega), h(tau)\n",
    "def supp_prod(tauv, alpha, i):\n",
    "    result = 1\n",
    "    for j in range (1, i+1):\n",
    "        result *= tauv[j]**(alpha[j - 1] - alpha[j])\n",
    "\n",
    "    return result\n",
    "\n",
    "def Gs_BSW(frequency, alpha, tauv, n, G0):\n",
    "    result = []\n",
    "    for omega in frequency: \n",
    "        sum1 = 0\n",
    "        for i in range(0, n):\n",
    "            sum1 += gamma(1 + alpha[i])*(tauv[i + 1]**(1 + alpha[i])*hyp2f1(1, 1 + alpha[i], 2 + alpha[i], -j*tauv[i + 1]*omega)/gamma(2 + alpha[i]) - tauv[i]**(1 + alpha[i])*hyp2f1(1, 1 + alpha[i], 2 + alpha[i], -j*tauv[i]*omega)/gamma(2 + alpha[i]))*supp_prod(tauv, alpha, i)\n",
    "        sum2 = 0\n",
    "        for i in range(0, n):\n",
    "            sum2 += (tauv[i + 1]**alpha[i] - tauv[i]**alpha[i])/alpha[i]*supp_prod(tauv, alpha, i)\n",
    "        res =j*omega*sum1/sum2*G0\n",
    "        result.append((re(result),im(result)))\n",
    "\n",
    "    return result\n",
    "\n",
    "def Gt_BSW(time, alpha, tauv, n, G0):\n",
    "    result = []\n",
    "    for t in time: \n",
    "        sum1 = 0\n",
    "        for i in range(0, n):\n",
    "            sum1 += t**alpha[i] * ( gammainc(-alpha[i],t/tauv[i+1]) - gammainc(-alpha[i],t/tauv[i]) )*supp_prod(tauv, alpha, i)\n",
    "        sum2 = 0\n",
    "        for i in range(0, n):\n",
    "            sum2 += (tauv[i + 1]**alpha[i] - tauv[i]**alpha[i])/alpha[i]*supp_prod(tauv, alpha, i)\n",
    "        result.append(sum1/sum2*G0)\n",
    "\n",
    "    return result\n",
    "\n",
    "def h_BSW(time, alpha, tauv, n):\n",
    "    result = []\n",
    "    for t in time:\n",
    "        sum1 = 0\n",
    "        for i in range(0, n):\n",
    "            sum1 += t**alpha[i] * heaviside(tauv[i+1]-t) * heaviside(t-tauv[i]) * supp_prod(tauv, alpha, i)\n",
    "        sum2 = 0\n",
    "        for i in range(0, n):\n",
    "            sum2 += (tauv[i + 1]**alpha[i] - tauv[i]**alpha[i])/alpha[i]*supp_prod(tauv, alpha, i)\n",
    "        result.append(sum1/sum2)\n",
    "\n",
    "    return result\n",
    "\n",
    "#Define BSW fits for linear chains based on paper 'Analytic slip-link expressions for universal dynamic modulus predictions of linear monodisperse polymer melts'\n",
    "def Gs_CFSM(omega, Nc):\n",
    "    n=3\n",
    "    alpha1 = (-0.0005, -0.0205)\n",
    "    alpha2 = (0.00029, 0.109957)\n",
    "    alpha3 = (17.69589, 1.04026, -0.00095677)\n",
    "    tau1 = (0.6288876, 0.119458)\n",
    "    tau2 = (1.52508156, 0.02996758796795)\n",
    "    tau3 = (3.110954, 0.022615)\n",
    "    tau4 = (3.4840295, 0.0142809)\n",
    "    alpha = (alpha1[0]*Nc + alpha1[1], alpha2[0]*Nc + alpha2[1], alpha3[0]/Nc + alpha3[1] + alpha3[2]*Nc)\n",
    "    tauv = (tau1[1]*Nc**tau1[0], tau2[1]*Nc**tau2[0], tau3[1]*Nc**tau3[0], tau4[1]*Nc**tau4[0])\n",
    "    return Gs_BSW(omega, alpha, tauv, n, 1)\n",
    "\n",
    "def Gt_CFSM(t, Nc):\n",
    "    n=3\n",
    "    alpha1 = (-0.0005, -0.0205)\n",
    "    alpha2 = (0.00029, 0.109957)\n",
    "    alpha3 = (17.69589, 1.04026, -0.00095677)\n",
    "    tau1 = (0.6288876, 0.119458)\n",
    "    tau2 = (1.52508156, 0.02996758796795)\n",
    "    tau3 = (3.110954, 0.022615)\n",
    "    tau4 = (3.4840295, 0.0142809)\n",
    "    alpha = (alpha1[0]*Nc + alpha1[1], alpha2[0]*Nc + alpha2[1], alpha3[0]/Nc + alpha3[1] + alpha3[2]*Nc)\n",
    "    tauv = (tau1[1]*Nc**tau1[0], tau2[1]*Nc**tau2[0], tau3[1]*Nc**tau3[0], tau4[1]*Nc**tau4[0])\n",
    "    return Gt_BSW(t, alpha, tauv, n, 1)\n",
    "\n",
    "def h_CFSM(t, Nc):\n",
    "    n=3\n",
    "    alpha1 = (-0.0005, -0.0205)\n",
    "    alpha2 = (0.00029, 0.109957)\n",
    "    alpha3 = (17.69589, 1.04026, -0.00095677)\n",
    "    tau1 = (0.6288876, 0.119458)\n",
    "    tau2 = (1.52508156, 0.02996758796795)\n",
    "    tau3 = (3.110954, 0.022615)\n",
    "    tau4 = (3.4840295, 0.0142809)\n",
    "    alpha = (alpha1[0]*Nc + alpha1[1], alpha2[0]*Nc + alpha2[1], alpha3[0]/Nc + alpha3[1] + alpha3[2]*Nc)\n",
    "    tauv = (tau1[1]*Nc**tau1[0], tau2[1]*Nc**tau2[0], tau3[1]*Nc**tau3[0], tau4[1]*Nc**tau4[0])\n",
    "    return h_BSW(t, alpha, tauv, n)\n",
    "\n",
    "def Gs_R(omega):\n",
    "    n=3\n",
    "    alpha = (0.64635, -0.4959, -1.2716)\n",
    "    tauv = (6.313268381616272e-9, 2.181509372282138e-7, 0.797317365925168,  18.201382525250114)\n",
    "    GR = 1942.29;\n",
    "    return Gs_BSW(omega, alpha, tauv, n, GR)\n",
    "\n",
    "def Gt_MMM(time, params):\n",
    "    #Variable frequencies\n",
    "    lambdaArr = np.split(params,2)[0]\n",
    "    gArr = np.split(params,2)[1]/np.sum(np.split(params,2)[1])\n",
    "    #Fixed frequencies\n",
    "    #lambdaArr=10.0**((np.array(range(nmodes), float) + 1.0)/nmodes*np.log10(tfinal))\n",
    "    #gArr = params/np.sum(params)\n",
    "    return np.dot(np.exp(-time/lambdaArr), gArr)*GN0\n",
    "\n",
    "def log_Gt_MMM(time,params):\n",
    "    lambdaArr = np.split(params,2)[0]\n",
    "    gArr = np.split(params,2)[1]/np.sum(np.split(params,2)[1])\n",
    "    #lambdaArr=10.0**((np.array(range(nmodes), float) + 1.0)/nmodes*np.log10(tfinal))\n",
    "    #gArr = params/np.sum(params)\n",
    "    return logsumexp(-time/lambdaArr, b=gArr*GN0)\n",
    "\n",
    "#Vectorize function fdt and log_fdt\n",
    "Gt_MMM_vec=np.vectorize(Gt_MMM, excluded=['params'])\n",
    "log_Gt_MMM_vec=np.vectorize(log_Gt_MMM, excluded=['params'])\n",
    "\n",
    "#Define residuals\n",
    "def residuals_Gt_MMM(param):\n",
    "    return Gt_MMM_vec(time=x, params=param)-y\n",
    "\n",
    "def residuals_log_Gt_MMM(param):\n",
    "    if np.any(Gt_MMM_vec(time=x[:-1], params=param) < 0):\n",
    "        return np.full(x[:-1].shape,1e8) #Penalty for negative f_d(t)\n",
    "    else:\n",
    "        return log_Gt_MMM_vec(time=x, params=param)-np.log(y)\n",
    "\n",
    "def MSE_MMM(param):\n",
    "    return np.dot(residuals_Gt_MMM(param),residuals_Gt_MMM(param))/np.size(x)\n",
    "\n",
    "def log_MSE_MMM(param):\n",
    "    return np.dot(residuals_log_Gt_MMM(param),residuals_log_Gt_MMM(param))/np.size(x)\n",
    "\n",
    "def Gp_MMM(omega, params):\n",
    "    lambdaArr = np.split(params,2)[0]\n",
    "    gArr = np.split(params,2)[1]/np.sum(np.split(params,2)[1])\n",
    "\n",
    "    return np.sum((gArr * lambdaArr**2 * omega**2)/(1 + lambdaArr**2 * omega**2))*GN0\n",
    "\n",
    "def Gdp_MMM(omega, params):\n",
    "    lambdaArr = np.split(params,2)[0]\n",
    "    gArr = np.split(params,2)[1]/np.sum(np.split(params,2)[1])\n",
    "\n",
    "    return np.sum((gArr * lambdaArr * omega)/(1 + lambdaArr**2 * omega**2))*GN0\n",
    "\n",
    "#Vectorize function Gp and Gdp\n",
    "Gp_MMM_vec=np.vectorize(Gp_MMM, excluded=['params'])\n",
    "Gdp_MMM_vec=np.vectorize(Gdp_MMM, excluded=['params'])"
   ]
  },
  {
   "cell_type": "markdown",
   "metadata": {
    "collapsed": false
   },
   "source": [
    "**First, read $G(t)$ from code**"
   ]
  },
  {
   "cell_type": "code",
   "execution_count": 11,
   "metadata": {
    "collapsed": false
   },
   "outputs": [
   ],
   "source": [
    "with open('G.dat') as f:\n",
    "    lines = f.readlines()\n",
    "    x = np.array([float(line.split()[0]) for line in lines])\n",
    "    y = np.array([float(line.split()[1]) for line in lines])\n",
    "\n",
    "cutoff = min(np.argmax(y[1:]-y[:-1]>0), np.argmax(y<0))\n",
    "x=x[:cutoff]\n",
    "y=y[:cutoff]\n",
    "tfinal=x[-1]\n",
    "tstart=x[1]\n",
    "GN0=y[0]\n",
    "\n",
    "fig = plt.figure(figsize=(8, 6))\n",
    "\n",
    "ax1 = fig.add_subplot(111)\n",
    "\n",
    "ax1.set_title(\"Entanglement lifetime distribution\")\n",
    "ax1.set_xlabel(r'$t/\\tau_c$')\n",
    "ax1.set_ylabel(r'$G(t)$')\n",
    "plt.ylim(ymin=y[-1], ymax=GN0)\n",
    "plt.xlim(xmin=1, xmax=tfinal)\n",
    "ax1.scatter(x,y, c='r', label=r'$G(t)$')\n",
    "\n",
    "leg = ax1.legend()\n",
    "ax1.set_xscale('log')\n",
    "ax1.set_yscale('log')\n",
    "\n",
    "plt.show()"
   ]
  },
  {
   "cell_type": "markdown",
   "metadata": {
    "collapsed": false
   },
   "source": [
    "## Optimizing strategy:\n",
    "1. Start with some big number of modes, like $n_{modes}=10$\n",
    "2. Run the least square optimization with standard residuals $y_i-f(x_i)$.\n",
    "3. Scan through different number of modes down to 1.\n",
    "4. If fit results have any negative weights, $g_i<0$, ignore\n",
    "5. If fit results have all positive weights, run the least square optimization with log-residuals\n",
    "6. Choose the best result among step 5\n",
    "\n",
    "** Use SciPy numeric least square minimization algorithm **\n",
    "\n",
    "## 1. Fit G(t) with Multi-Mode Maxwell expressions. Optimize using standard residuals $G_i-G^{MMM}(t_i)$. Choose $\\lambda_i$ so they cover the whole range of data equidistantly on log-scale.Allow only $g_i$ to be adjusted"
   ]
  },
  {
   "cell_type": "code",
   "execution_count": 24,
   "metadata": {
    "collapsed": false
   },
   "outputs": [
   ],
   "source": [
    "fits_1 = [] #output of fitting function for all tested numbers of modes\n",
    "successful_fits_1 = [] #number of modes for successful fits\n",
    "for nmodes in range(2, 15):\n",
    "    lambdaArrInit=np.e**(np.log(tstart)+(np.array(range(nmodes), float))/(nmodes-1)*(np.log(tfinal)-np.log(tstart)))\n",
    "    fit = np.linalg.lstsq(np.exp(-np.outer(x,1.0/lambdaArrInit)), y)[0]\n",
    "    fits_1.append(fit)\n",
    "    #if not np.any(Gt_MMM_vec(time=x, params=np.append(lambdaArrInit, fit)) < 0):\n",
    "    if not np.any(fit < 0):\n",
    "        successful_fits_1.append(nmodes)\n",
    "        print nmodes, fit, MSE_MMM(np.append(lambdaArrInit, fit))"
   ]
  },
  {
   "cell_type": "code",
   "execution_count": 38,
   "metadata": {
    "collapsed": false
   },
   "outputs": [
   ],
   "source": [
    "nmodes=8\n",
    "lambdaArrInit=np.e**(np.log(tstart)+(np.array(range(nmodes), float))/(nmodes-1)*(np.log(tfinal)-np.log(tstart)))\n",
    "fit = fits_1[nmodes-2]\n",
    "fig1 = plt.figure(figsize=(24, 6))\n",
    "\n",
    "ax0 = fig1.add_subplot(131)\n",
    "\n",
    "ax0.set_title(r'$h\\left(\\tau\\right)/\\tau$')\n",
    "ax0.set_xlabel(r'$\\lambda$')\n",
    "ax0.set_ylabel(r'$g$')\n",
    "\n",
    "ax0.scatter(lambdaArrInit, fit/np.sum(fit), c='r', label=r'First fit')\n",
    "leg = ax0.legend()\n",
    "ax0.set_xscale('log')\n",
    "\n",
    "ax1 = fig1.add_subplot(132)\n",
    "\n",
    "ax1.set_title(\"Check results of the fit\")\n",
    "ax1.set_xlabel(r'$t/\\tau_c$')\n",
    "ax1.set_ylabel(r'log residuals')\n",
    "\n",
    "ax1.plot(x,Gt_MMM_vec(time=x, params=np.append(lambdaArrInit,fit)), c='r', label=r'First fit')\n",
    "ax1.plot(x,y, c='g', label=r'$f_d(t)$')\n",
    "\n",
    "leg = ax1.legend()\n",
    "ax1.set_xscale('log')\n",
    "ax1.set_yscale('log')\n",
    "\n",
    "# ax2 = fig1.add_subplot(133)\n",
    "\n",
    "# ax2.set_title(r'$f_d(t)$')\n",
    "# ax2.set_xlabel(r'$t/\\tau_c$')\n",
    "# ax2.set_ylabel(r'$f_d(t)$')\n",
    "\n",
    "# ax2.plot(x,Gt_MMM_vec(time=x, params=fit.x), c='r', label=r'First fit')\n",
    "# ax2.plot(x,y, c='g', label=r'Simulation data')\n",
    "# leg = ax2.legend()\n",
    "# ax2.set_xscale('log')\n",
    "\n",
    "plt.show()"
   ]
  },
  {
   "cell_type": "markdown",
   "metadata": {
    "collapsed": false
   },
   "source": [
    "## 2. Improve fit using log-residuals $\\log(G_i)-\\log(G^{MMM}(t_i))$ to find best fit for the longest relaxation tail "
   ]
  },
  {
   "cell_type": "code",
   "execution_count": 55,
   "metadata": {
    "collapsed": false
   },
   "outputs": [
   ],
   "source": [
    "fits_2 = [] #output of fitting function for all tested numbers of modes\n",
    "min_log_SME = log_MSE_MMM(fits_1[successful_fits_1[0]-2])\n",
    "best_nmodes = successful_fits_1[0]\n",
    "\n",
    "for i in successful_fits_1:\n",
    "    fit = fits_1[i-2]\n",
    "    nmodes = i\n",
    "    lambdaArrInit=np.e**(np.log(tstart)+(np.array(range(nmodes), float))/(nmodes-1)*(np.log(tfinal)-np.log(tstart)))\n",
    "    print('nmodes\\t{0}'.format(i))\n",
    "\n",
    "    fit2 = least_squares(residuals_log_Gt_MMM, np.append(lambdaArrInit, fit), xtol=1e-14, ftol=1e-14)\n",
    "    fits_2.append(fit2)\n",
    "\n",
    "    print('First fit log-MSE\\t{0}'.format(log_MSE_MMM(np.append(lambdaArrInit, fit))))\n",
    "\n",
    "    if fit2.success:\n",
    "        weights = np.split(fit2.x, 2)[1]/np.sum(np.split(fit2.x, 2)[1])\n",
    "        if log_MSE_MMM(fit2.x)<min_log_SME and not np.any(weights<0):\n",
    "            min_log_SME = log_MSE_MMM(fit2.x)\n",
    "            best_fit = fit2\n",
    "            best_nmodes = i\n",
    "        print('Second fit log-MSE\\t{0}'.format(log_MSE_MMM(fit2.x)))\n",
    "        print(fit2.message)\n",
    "        print('Weights\\t{0}'.format(weights))\n",
    "\n",
    "    print(' ')"
   ]
  },
  {
   "cell_type": "code",
   "execution_count": 56,
   "metadata": {
    "collapsed": false
   },
   "outputs": [
   ],
   "source": [
    "best_nmodes"
   ]
  },
  {
   "cell_type": "code",
   "execution_count": 58,
   "metadata": {
    "collapsed": false,
    "scrolled": true
   },
   "outputs": [
   ],
   "source": [
    "best_fit.x"
   ]
  },
  {
   "cell_type": "code",
   "execution_count": 74,
   "metadata": {
    "collapsed": false
   },
   "outputs": [
   ],
   "source": [
    "nmodes = best_nmodes\n",
    "lambdaArrInit=np.e**(np.log(tstart)+(np.array(range(nmodes), float))/(nmodes-1)*(np.log(tfinal)-np.log(tstart)))\n",
    "fit = fits_1[best_nmodes-2]\n",
    "fit2 = best_fit\n",
    "\n",
    "fig3 = plt.figure(figsize=(24, 6))\n",
    "\n",
    "ax0 = fig3.add_subplot(131)\n",
    "\n",
    "ax0.set_title(r'$p^{cr}\\left(\\tau\\right)$')\n",
    "ax0.set_xlabel(r'$\\lambda$')\n",
    "ax0.set_ylabel(r'$g$')\n",
    "\n",
    "ax0.scatter(lambdaArrInit, fit/np.sum(fit), c='r', label=r'First fit')\n",
    "ax0.scatter(np.split(fit2.x,2)[0],np.split(fit2.x,2)[1]/np.sum(np.split(fit2.x,2)[1]), c='b', label=r'Second fit')\n",
    "leg = ax0.legend()\n",
    "ax0.set_xscale('log')\n",
    "ax0.set_yscale('log')\n",
    "\n",
    "ax1 = fig3.add_subplot(132)\n",
    "\n",
    "ax1.set_title(\"Check results of the fit\")\n",
    "ax1.set_xlabel(r'$t/\\tau_c$')\n",
    "ax1.set_ylabel(r'log residuals')\n",
    "\n",
    "ax1.plot(x,Gt_MMM_vec(time=x, params=np.append(lambdaArrInit,fit)), c='r', label=r'First fit')\n",
    "ax1.plot(x,Gt_MMM_vec(time=x, params=fit2.x), c='b', label=r'Second fit')\n",
    "ax1.plot(x,y, c='g', label=r'$f_d(t)$')\n",
    "\n",
    "leg = ax1.legend()\n",
    "ax1.set_xscale('log')\n",
    "ax1.set_yscale('log')\n",
    "\n",
    "ax2 = fig3.add_subplot(133)\n",
    "\n",
    "ax2.set_title(r'$f_d(t)$')\n",
    "ax2.set_xlabel(r'$t/\\tau_c$')\n",
    "ax2.set_ylabel(r'$f_d(t)$')\n",
    "\n",
    "ax2.plot(x,Gt_MMM_vec(time=x, params=np.append(lambdaArrInit, fit)), c='r', label=r'First fit')\n",
    "ax2.plot(x,Gt_MMM_vec(time=x, params=fit2.x), c='b', label=r'Second fit')\n",
    "ax2.plot(x,y, c='g', label=r'Simulation data')\n",
    "leg = ax2.legend()\n",
    "ax2.set_xscale('log')\n",
    "\n",
    "plt.show()"
   ]
  },
  {
   "cell_type": "code",
   "execution_count": 76,
   "metadata": {
    "collapsed": false
   },
   "outputs": [
   ],
   "source": [
    "omegaPoints = 1000\n",
    "omegaMin = -8\n",
    "omegaMax = 5\n",
    "omegaArr=10**(omegaMin+(np.array(range(omegaPoints), float) + 1.0)/omegaPoints*(omegaMax-omegaMin))\n",
    "\n",
    "fig0 = plt.figure(figsize=(8, 6))\n",
    "ax0 = fig0.add_subplot(111)\n",
    "ax0.set_title(r'Dynamic modulus $G*(\\omega)$')\n",
    "ax0.set_xlabel(r'$\\omega$')\n",
    "ax0.set_ylabel(r'$G*$')\n",
    "\n",
    "ax0.plot(omegaArr,Gp_MMM_vec(omega=omegaArr,params=fit2.x), c='k', label=r'$G^\\prime$')\n",
    "ax0.plot(omegaArr,Gdp_MMM_vec(omega=omegaArr,params=fit2.x), c='k', label=r'$G^{\\prime\\prime}$')\n",
    "\n",
    "leg = ax0.legend()\n",
    "ax0.set_yscale('log')\n",
    "ax0.set_xscale('log')\n",
    "plt.show()"
   ]
  }
 ],
 "metadata": {
  "kernelspec": {
   "display_name": "anaconda_kernel",
   "language": "python",
   "name": "anaconda_kernel"
  },
  "language_info": {
   "codemirror_mode": {
    "name": "ipython",
    "version": 2
   },
   "file_extension": ".py",
   "mimetype": "text/x-python",
   "name": "python",
   "nbconvert_exporter": "python",
   "pygments_lexer": "ipython2",
   "version": "2.7.14"
  }
 },
 "nbformat": 4,
 "nbformat_minor": 0
}